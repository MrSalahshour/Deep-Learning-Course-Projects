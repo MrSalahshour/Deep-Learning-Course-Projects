{
  "cells": [
    {
      "cell_type": "markdown",
      "metadata": {
        "id": "cWs3vxqeU5_d"
      },
      "source": [
        "<h1>HW4 - Attention and Transformers- Practical Q1</h1>\n",
        "<h3><font color=yellow>Total Points: 100</font></h3>\n",
        "\n"
      ]
    },
    {
      "cell_type": "markdown",
      "metadata": {
        "id": "0aJYoCAUqOgi"
      },
      "source": [
        "\n",
        "\n",
        "---\n",
        "\n",
        "\n",
        "<h3>Masked language modeling is a technique used in natural language processing to train language models.</h3>\n",
        "<h3>It originated as a way to teach models contextual understanding and the ability to fill in missing pieces of information within a sentence. </h3>\n",
        "<h3>The concept involves masking certain words in a sentence and tasking the model with predicting what those masked words should be, based on the context provided by the surrounding words.</h3>\n",
        "\n",
        "\n",
        "---\n",
        "\n"
      ]
    },
    {
      "cell_type": "markdown",
      "metadata": {
        "id": "OWNC3IkVqO-E"
      },
      "source": [
        "<h2>In this assignment you are going to implement and train a Masked Language Model in two settings:</h2>\n",
        "\n",
        "1.   In the first part you will implement the mlm in PyTorch from scratch\n",
        "2.   In the second part you will use HuggingFace library to train a RoBERTa MLM using a trainer.\n",
        "\n",
        "\n",
        "---\n",
        "\n"
      ]
    },
    {
      "cell_type": "markdown",
      "metadata": {
        "id": "TJ8GNCiPqRS4"
      },
      "source": [
        "\n",
        "<h3><font color=yellow>Notes:</font></h3>\n",
        "\n",
        "\n",
        "*   The model architecture includes only **Transformer Encoder** layers (from [Attention Is All You Need](https://arxiv.org/abs/1706.03762) paper).\n",
        "*   It is like a BERT model, the only difference is that we won't have the \"Next Sentence Prediction\" part, in other words the model will be trained only to predict the masked tokens.\n",
        "*   Remember to save the RoBERTa model in the second part of assignment (trained with HuggingFace lib.), you'll be needing it for the next practical assignment (POS Tagging).\n",
        "*   Write the code only in the specified parts.\n",
        "*   If you have any questions, ask your question in Quera.\n",
        "\n",
        "<font color=greeen>Good Luck!</font>\n",
        "\n",
        "\n",
        "---\n",
        "\n",
        "\n"
      ]
    },
    {
      "cell_type": "markdown",
      "metadata": {
        "id": "detIdW4eVJsV"
      },
      "source": [
        "# Imports and Installations"
      ]
    },
    {
      "cell_type": "code",
      "execution_count": 9,
      "metadata": {
        "colab": {
          "base_uri": "https://localhost:8080/"
        },
        "collapsed": true,
        "execution": {
          "iopub.execute_input": "2023-12-19T13:13:57.415991Z",
          "iopub.status.busy": "2023-12-19T13:13:57.415588Z",
          "iopub.status.idle": "2023-12-19T13:13:57.719121Z",
          "shell.execute_reply": "2023-12-19T13:13:57.717622Z",
          "shell.execute_reply.started": "2023-12-19T13:13:57.415957Z"
        },
        "id": "3kkHHmzLjitC",
        "jupyter": {
          "outputs_hidden": true
        },
        "outputId": "f1ae4e0c-067f-4389-eef2-ace692ba2ee2",
        "trusted": true
      },
      "outputs": [
        {
          "name": "stdout",
          "output_type": "stream",
          "text": [
            "Drive already mounted at /content/drive; to attempt to forcibly remount, call drive.mount(\"/content/drive\", force_remount=True).\n"
          ]
        }
      ],
      "source": [
        "from google.colab import drive\n",
        "drive.mount('/content/drive')"
      ]
    },
    {
      "cell_type": "code",
      "execution_count": 10,
      "metadata": {
        "execution": {
          "iopub.execute_input": "2023-12-22T13:57:17.659133Z",
          "iopub.status.busy": "2023-12-22T13:57:17.658346Z",
          "iopub.status.idle": "2023-12-22T13:58:16.577694Z",
          "shell.execute_reply": "2023-12-22T13:58:16.576472Z",
          "shell.execute_reply.started": "2023-12-22T13:57:17.659099Z"
        },
        "id": "1r5GGsvwjCS0",
        "trusted": true
      },
      "outputs": [],
      "source": [
        "%%capture\n",
        "\n",
        "!pip install transformers\n",
        "!pip install accelerate -U\n",
        "!pip install datasets\n",
        "!pip install huggingface_hub\n",
        "!pip install tokenizers"
      ]
    },
    {
      "cell_type": "code",
      "execution_count": 11,
      "metadata": {
        "execution": {
          "iopub.execute_input": "2023-12-22T13:58:16.580565Z",
          "iopub.status.busy": "2023-12-22T13:58:16.579806Z",
          "iopub.status.idle": "2023-12-22T13:58:22.986149Z",
          "shell.execute_reply": "2023-12-22T13:58:22.985202Z",
          "shell.execute_reply.started": "2023-12-22T13:58:16.580525Z"
        },
        "id": "JSLEjNV5b1Vj",
        "trusted": true
      },
      "outputs": [],
      "source": [
        "import os\n",
        "from pathlib import Path\n",
        "import torch\n",
        "import re\n",
        "import random\n",
        "import transformers, datasets\n",
        "from tokenizers import BertWordPieceTokenizer\n",
        "from transformers import BertTokenizer\n",
        "from tqdm import tqdm\n",
        "from torch.utils.data import Dataset, DataLoader\n",
        "import itertools\n",
        "import math\n",
        "import torch.nn.functional as F\n",
        "import numpy as np\n",
        "import pandas as pd\n",
        "from torch.optim import Adam\n",
        "from sklearn.model_selection import train_test_split\n",
        "import tokenizers\n",
        "from huggingface_hub import notebook_login\n",
        "\n",
        "import matplotlib.pyplot as plt\n",
        "import seaborn as sns\n",
        "import pickle\n"
      ]
    },
    {
      "cell_type": "markdown",
      "metadata": {
        "id": "_6C7a70U5E5x"
      },
      "source": [
        "# 1-MLM Implementation with PyTorch From Scratch: <font color=yellow>Total Points:70</font>"
      ]
    },
    {
      "cell_type": "markdown",
      "metadata": {
        "id": "FoiUphZzvzX-"
      },
      "source": [
        "## 1-1-Data Preprocessing"
      ]
    },
    {
      "cell_type": "code",
      "execution_count": 12,
      "metadata": {
        "execution": {
          "iopub.execute_input": "2023-12-22T09:44:34.022414Z",
          "iopub.status.busy": "2023-12-22T09:44:34.021884Z",
          "iopub.status.idle": "2023-12-22T09:44:34.050790Z",
          "shell.execute_reply": "2023-12-22T09:44:34.049606Z",
          "shell.execute_reply.started": "2023-12-22T09:44:34.022374Z"
        },
        "id": "uoJq4EW966EP",
        "trusted": true
      },
      "outputs": [],
      "source": [
        "#load dataset file and clean it\n",
        "with open('/content/Parsi_Mianeh_Corpus.txt', 'r') as f:\n",
        "  corpus = f.read()\n",
        "corpus = re.sub('٭', '', corpus)\n",
        "corpus = re.sub('\\xa0', '', corpus)\n",
        "corpus = re.sub('#', '', corpus)"
      ]
    },
    {
      "cell_type": "code",
      "execution_count": 13,
      "metadata": {
        "execution": {
          "iopub.execute_input": "2023-12-22T09:44:43.916174Z",
          "iopub.status.busy": "2023-12-22T09:44:43.915812Z",
          "iopub.status.idle": "2023-12-22T09:44:44.101214Z",
          "shell.execute_reply": "2023-12-22T09:44:44.100309Z",
          "shell.execute_reply.started": "2023-12-22T09:44:43.916145Z"
        },
        "id": "waWsUyT-52Ii",
        "trusted": true
      },
      "outputs": [],
      "source": [
        "#train tokenizer from scratch with byte pair level\n",
        "spl_tokens = ['[PAD]', '[CLS]', '[SEP]', '[MASK]', '[UNK]']\n",
        "temp_post_processor = tokenizers.processors.TemplateProcessing(\n",
        "    single=\"[CLS] $A [SEP]\",\n",
        "    pair=\"[CLS] $A [SEP] $B:1 [SEP]:1\",\n",
        "    special_tokens=[\n",
        "        (\"[CLS]\", spl_tokens.index(\"[CLS]\")),\n",
        "        (\"[SEP]\", spl_tokens.index(\"[SEP]\")),\n",
        "    ],\n",
        ")\n",
        "\n",
        "tokenizer = tokenizers.Tokenizer(tokenizers.models.BPE(unk_token = spl_tokens[0], mask_token=spl_tokens[2]))\n",
        "tokenizer_trainer = tokenizers.trainers.BpeTrainer(special_tokens = spl_tokens)\n",
        "tokenizer.pre_tokenizer = tokenizers.pre_tokenizers.Whitespace()\n",
        "tokenizer.post_processor=temp_post_processor\n",
        "\n",
        "paths = [\"Parsi_Mianeh_Corpus.txt\"]\n",
        "tokenizer.train(paths, tokenizer_trainer)\n",
        "tokenizer.save('tokenizer.json')"
      ]
    },
    {
      "cell_type": "code",
      "execution_count": 14,
      "metadata": {
        "colab": {
          "base_uri": "https://localhost:8080/"
        },
        "execution": {
          "iopub.execute_input": "2023-12-22T09:44:48.530143Z",
          "iopub.status.busy": "2023-12-22T09:44:48.529739Z",
          "iopub.status.idle": "2023-12-22T09:44:48.538123Z",
          "shell.execute_reply": "2023-12-22T09:44:48.537255Z",
          "shell.execute_reply.started": "2023-12-22T09:44:48.530113Z"
        },
        "id": "YNfb6uHhlQsC",
        "outputId": "3b328f26-b28e-46ec-e5b6-9d6547555b4d",
        "trusted": true
      },
      "outputs": [
        {
          "name": "stdout",
          "output_type": "stream",
          "text": [
            "6881\n"
          ]
        }
      ],
      "source": [
        "#get vocab size\n",
        "vocab_size = tokenizer.get_vocab_size()\n",
        "print(vocab_size)"
      ]
    },
    {
      "cell_type": "markdown",
      "metadata": {
        "id": "VapucAYj6nd5"
      },
      "source": [
        "<h4>You  need a token with <font color=greeen>WRITE</font> permission</h4>"
      ]
    },
    {
      "cell_type": "code",
      "execution_count": 15,
      "metadata": {
        "colab": {
          "base_uri": "https://localhost:8080/",
          "height": 358,
          "referenced_widgets": [
            "cb9aff2cd81847938e58e308d737b690",
            "435cd42a55a14222b99be5e26fdcdb67",
            "8d3a3c8276714ce5a059fbe9bb8b4917",
            "dd5990dbe4d54fefbc20e5cac7f58069",
            "537970aed04e48d79bd70d35c509f1bf",
            "d0d6a1c1ec74440496cce0b63b4c27a5",
            "cc4eb62b66aa40a8893eb23317fbb753",
            "1d9c9619b1574c059d94446e9ed3ba1c",
            "dbef1de2cc9e42d5bad46767502e32eb",
            "e207f892baa64c4cb97478345f7a6c56",
            "fc0c0d7a3aa74187b835f11a15a83917",
            "b6a3fa6b482c4b11b27cdf88bf9f486d",
            "83929cd05cd44aef844034315c018761",
            "028d6134307f40c1861bef2ece1ee4f0",
            "89c6118601064401ab4a2e83410e8787",
            "014f66320a1c47e4805cf30876845551",
            "3e9178b8e5234b5aa7ab3040946d3234"
          ]
        },
        "execution": {
          "iopub.execute_input": "2023-12-22T09:52:41.008161Z",
          "iopub.status.busy": "2023-12-22T09:52:41.007810Z",
          "iopub.status.idle": "2023-12-22T09:52:41.029740Z",
          "shell.execute_reply": "2023-12-22T09:52:41.028788Z",
          "shell.execute_reply.started": "2023-12-22T09:52:41.008137Z"
        },
        "id": "nZ0e8_-bxLGv",
        "outputId": "27765b5b-c4d8-4582-ecef-51b97cefa54c",
        "trusted": true
      },
      "outputs": [
        {
          "data": {
            "application/vnd.jupyter.widget-view+json": {
              "model_id": "cb9aff2cd81847938e58e308d737b690",
              "version_major": 2,
              "version_minor": 0
            },
            "text/plain": [
              "VBox(children=(HTML(value='<center> <img\\nsrc=https://huggingface.co/front/assets/huggingface_logo-noborder.sv…"
            ]
          },
          "metadata": {},
          "output_type": "display_data"
        }
      ],
      "source": [
        "#logging in to hugging face\n",
        "notebook_login()"
      ]
    },
    {
      "cell_type": "code",
      "execution_count": 16,
      "metadata": {
        "colab": {
          "base_uri": "https://localhost:8080/"
        },
        "execution": {
          "iopub.execute_input": "2023-12-22T09:52:51.672657Z",
          "iopub.status.busy": "2023-12-22T09:52:51.672159Z",
          "iopub.status.idle": "2023-12-22T09:52:52.468828Z",
          "shell.execute_reply": "2023-12-22T09:52:52.467648Z",
          "shell.execute_reply.started": "2023-12-22T09:52:51.672622Z"
        },
        "id": "phSkAHN1lS85",
        "outputId": "411515d7-e44f-4e21-b74e-6323c5eb94aa",
        "trusted": true
      },
      "outputs": [
        {
          "name": "stderr",
          "output_type": "stream",
          "text": [
            "The tokenizer class you load from this checkpoint is not the same type as the class this function is called from. It may result in unexpected tokenization. \n",
            "The tokenizer class you load from this checkpoint is 'PreTrainedTokenizerFast'. \n",
            "The class this function is called from is 'RobertaTokenizerFast'.\n"
          ]
        },
        {
          "data": {
            "text/plain": [
              "('tokenizer/tokenizer_config.json',\n",
              " 'tokenizer/special_tokens_map.json',\n",
              " 'tokenizer/vocab.json',\n",
              " 'tokenizer/merges.txt',\n",
              " 'tokenizer/added_tokens.json',\n",
              " 'tokenizer/tokenizer.json')"
            ]
          },
          "execution_count": 16,
          "metadata": {},
          "output_type": "execute_result"
        }
      ],
      "source": [
        "#saved fast tokenizer to file and convert it to roberta tokenizer\n",
        "fast_tokenizer = transformers.PreTrainedTokenizerFast(tokenizer_file='tokenizer.json')\n",
        "fast_tokenizer.save_pretrained('fast_tokenizer')\n",
        "\n",
        "tokenizer = transformers.RobertaTokenizerFast.from_pretrained('fast_tokenizer')\n",
        "tokenizer.pad_token_id = 0\n",
        "tokenizer.cls_token_id = 1\n",
        "tokenizer.sep_token_id = 2\n",
        "tokenizer.mask_token_id = 3\n",
        "tokenizer.unk_token_id = 4\n",
        "\n",
        "your_hugging_face_id=\"Mortrest\"\n",
        "tokenizer.save_pretrained(f'{your_hugging_face_id}/parsig_tokenizer', push_to_hub=True)\n",
        "tokenizer.save_pretrained('tokenizer')"
      ]
    },
    {
      "cell_type": "code",
      "execution_count": 17,
      "metadata": {
        "execution": {
          "iopub.execute_input": "2023-12-22T09:52:58.387758Z",
          "iopub.status.busy": "2023-12-22T09:52:58.387296Z",
          "iopub.status.idle": "2023-12-22T09:52:58.408134Z",
          "shell.execute_reply": "2023-12-22T09:52:58.407288Z",
          "shell.execute_reply.started": "2023-12-22T09:52:58.387726Z"
        },
        "id": "O7RO26qK_WbR",
        "trusted": true
      },
      "outputs": [],
      "source": [
        "class Custom_Dataset(Dataset):\n",
        "    def __init__(self, tokenizer, data, max_length):\n",
        "        self.tokenizer = tokenizer\n",
        "        self.corpus = data\n",
        "        self.corpus_lines = len(data)\n",
        "        self.max_length = max_length\n",
        "        self.preprocessed_data=None\n",
        "\n",
        "    def __len__(self):\n",
        "        return self.corpus_lines\n",
        "\n",
        "    def __getitem__(self, index):\n",
        "        return self.preprocessed_data[index]\n",
        "\n",
        "\n",
        "    def random_word(self, token_ids):\n",
        "\n",
        "        # remove cls and sep token\n",
        "        token_ids=token_ids[1:-1]\n",
        "        output_label = []\n",
        "        output = []\n",
        "\n",
        "        # 15% of the tokens would be replaced\n",
        "        for i, token_id in enumerate(token_ids):\n",
        "            prob = random.random()\n",
        "\n",
        "            if prob < 0.15:\n",
        "              prob /= 0.15\n",
        "              # 80% chance change token to mask token\n",
        "              if prob < 0.8:\n",
        "                  output.append(self.tokenizer.vocab['[MASK]'])\n",
        "\n",
        "              # 10% chance change token to random token\n",
        "              elif prob < 0.9:\n",
        "                  output.append(random.randrange(self.tokenizer.vocab_size))\n",
        "\n",
        "              # 10% chance change token to current token\n",
        "              else:\n",
        "                  output.append(token_id)\n",
        "              output_label.append(token_id)\n",
        "            else:\n",
        "              output.append(token_id)\n",
        "              output_label.append(-100)\n",
        "\n",
        "\n",
        "        # flattening\n",
        "        output = list(itertools.chain(*[[x] if not isinstance(x, list) else x for x in output]))\n",
        "        output_label = list(itertools.chain(*[[x] if not isinstance(x, list) else x for x in output_label]))\n",
        "        assert len(output) == len(output_label)\n",
        "        return output, output_label\n",
        "\n",
        "    def get_corpus_line(self, index):\n",
        "        return self.corpus[index]\n",
        "\n",
        "\n",
        "    def preprocess_function(self):\n",
        "        preprocessed_data=[]\n",
        "\n",
        "        for i in tqdm(range(self.corpus_lines)):\n",
        "            # get sample at index\n",
        "          data = self.get_corpus_line(i)\n",
        "\n",
        "          # Step 2: replace 15% of tokens randomly\n",
        "          text_token_ids, text_labels = self.random_word(data['input_ids'])\n",
        "\n",
        "          # Step 3: Adding CLS and SEP tokens to the start and end of sentences\n",
        "          input_ids = [self.tokenizer.vocab['[CLS]']] + text_token_ids + [self.tokenizer.vocab['[SEP]']]\n",
        "          labels = [-100] + text_labels + [-100]\n",
        "\n",
        "          # Step 4: Truncate at max_length\n",
        "          input_ids = (input_ids)[:self.max_length]\n",
        "          segment_ids = ([1 for _ in range(len(input_ids))])[:self.max_length]\n",
        "          labels = (labels)[:self.max_length]\n",
        "\n",
        "          # Step 5: pad ids and labels\n",
        "          padding = [self.tokenizer.vocab['[PAD]'] for _ in range(self.max_length - len(input_ids))]\n",
        "          label_padding = [-100 for _ in range(self.max_length - len(input_ids))]\n",
        "          input_ids.extend(padding), segment_ids.extend(padding), labels.extend(label_padding)\n",
        "\n",
        "          output = {\"input_ids\": input_ids,\n",
        "                    \"labels\": labels,\n",
        "                    \"segment_ids\": segment_ids}\n",
        "\n",
        "          output={key: torch.tensor(value) for key, value in output.items()}\n",
        "          preprocessed_data.append(output)\n",
        "\n",
        "        self.preprocessed_data=preprocessed_data\n",
        "        return preprocessed_data"
      ]
    },
    {
      "cell_type": "markdown",
      "metadata": {
        "id": "9KFiR4mqd1_4"
      },
      "source": [
        "Loading Dataset"
      ]
    },
    {
      "cell_type": "code",
      "execution_count": 18,
      "metadata": {
        "colab": {
          "base_uri": "https://localhost:8080/",
          "height": 424
        },
        "execution": {
          "iopub.execute_input": "2023-12-22T09:53:22.474395Z",
          "iopub.status.busy": "2023-12-22T09:53:22.473628Z",
          "iopub.status.idle": "2023-12-22T09:53:22.511143Z",
          "shell.execute_reply": "2023-12-22T09:53:22.510275Z",
          "shell.execute_reply.started": "2023-12-22T09:53:22.474365Z"
        },
        "id": "x3mnNPPceKGv",
        "outputId": "4d21c03c-cd7a-4039-dae0-ddea9d12dc2c",
        "trusted": true
      },
      "outputs": [
        {
          "data": {
            "text/html": [
              "\n",
              "  <div id=\"df-a62d93c8-3c16-4656-99a5-bb9eb3a997c0\" class=\"colab-df-container\">\n",
              "    <div>\n",
              "<style scoped>\n",
              "    .dataframe tbody tr th:only-of-type {\n",
              "        vertical-align: middle;\n",
              "    }\n",
              "\n",
              "    .dataframe tbody tr th {\n",
              "        vertical-align: top;\n",
              "    }\n",
              "\n",
              "    .dataframe thead th {\n",
              "        text-align: right;\n",
              "    }\n",
              "</style>\n",
              "<table border=\"1\" class=\"dataframe\">\n",
              "  <thead>\n",
              "    <tr style=\"text-align: right;\">\n",
              "      <th></th>\n",
              "      <th>text</th>\n",
              "    </tr>\n",
              "  </thead>\n",
              "  <tbody>\n",
              "    <tr>\n",
              "      <th>0</th>\n",
              "      <td>ud baγōbaxt ān ī did-iz baxšēnd</td>\n",
              "    </tr>\n",
              "    <tr>\n",
              "      <th>1</th>\n",
              "      <td>ud ka mīrēnd ahlaw hēnd</td>\n",
              "    </tr>\n",
              "    <tr>\n",
              "      <th>2</th>\n",
              "      <td>ud ōy ī pēm-xwarišn mardōm tan-drusttar ud zōr...</td>\n",
              "    </tr>\n",
              "    <tr>\n",
              "      <th>3</th>\n",
              "      <td>kū pādixšāyān rāy tis-ē ham-pursagīh ī abāg dā...</td>\n",
              "    </tr>\n",
              "    <tr>\n",
              "      <th>4</th>\n",
              "      <td>pad ǰōrdā ham-dādestān būd hēnd kū ān and gyāg...</td>\n",
              "    </tr>\n",
              "    <tr>\n",
              "      <th>...</th>\n",
              "      <td>...</td>\n",
              "    </tr>\n",
              "    <tr>\n",
              "      <th>3404</th>\n",
              "      <td>ud pad wīst-sālag hāxtēd kawīg ī kundā pus</td>\n",
              "    </tr>\n",
              "    <tr>\n",
              "      <th>3405</th>\n",
              "      <td>čē guft ēstēd</td>\n",
              "    </tr>\n",
              "    <tr>\n",
              "      <th>3406</th>\n",
              "      <td>čē ōy ī bēš-burdār rāmišn ī gētīg ud mēnōg wan...</td>\n",
              "    </tr>\n",
              "    <tr>\n",
              "      <th>3407</th>\n",
              "      <td>ud šašom kē pad čašm ī yazadān ud uzwān ī wehā...</td>\n",
              "    </tr>\n",
              "    <tr>\n",
              "      <th>3408</th>\n",
              "      <td>bistag ī gurgānīg ka pad sōr-ābag brēzēnd ud n...</td>\n",
              "    </tr>\n",
              "  </tbody>\n",
              "</table>\n",
              "<p>3409 rows × 1 columns</p>\n",
              "</div>\n",
              "    <div class=\"colab-df-buttons\">\n",
              "\n",
              "  <div class=\"colab-df-container\">\n",
              "    <button class=\"colab-df-convert\" onclick=\"convertToInteractive('df-a62d93c8-3c16-4656-99a5-bb9eb3a997c0')\"\n",
              "            title=\"Convert this dataframe to an interactive table.\"\n",
              "            style=\"display:none;\">\n",
              "\n",
              "  <svg xmlns=\"http://www.w3.org/2000/svg\" height=\"24px\" viewBox=\"0 -960 960 960\">\n",
              "    <path d=\"M120-120v-720h720v720H120Zm60-500h600v-160H180v160Zm220 220h160v-160H400v160Zm0 220h160v-160H400v160ZM180-400h160v-160H180v160Zm440 0h160v-160H620v160ZM180-180h160v-160H180v160Zm440 0h160v-160H620v160Z\"/>\n",
              "  </svg>\n",
              "    </button>\n",
              "\n",
              "  <style>\n",
              "    .colab-df-container {\n",
              "      display:flex;\n",
              "      gap: 12px;\n",
              "    }\n",
              "\n",
              "    .colab-df-convert {\n",
              "      background-color: #E8F0FE;\n",
              "      border: none;\n",
              "      border-radius: 50%;\n",
              "      cursor: pointer;\n",
              "      display: none;\n",
              "      fill: #1967D2;\n",
              "      height: 32px;\n",
              "      padding: 0 0 0 0;\n",
              "      width: 32px;\n",
              "    }\n",
              "\n",
              "    .colab-df-convert:hover {\n",
              "      background-color: #E2EBFA;\n",
              "      box-shadow: 0px 1px 2px rgba(60, 64, 67, 0.3), 0px 1px 3px 1px rgba(60, 64, 67, 0.15);\n",
              "      fill: #174EA6;\n",
              "    }\n",
              "\n",
              "    .colab-df-buttons div {\n",
              "      margin-bottom: 4px;\n",
              "    }\n",
              "\n",
              "    [theme=dark] .colab-df-convert {\n",
              "      background-color: #3B4455;\n",
              "      fill: #D2E3FC;\n",
              "    }\n",
              "\n",
              "    [theme=dark] .colab-df-convert:hover {\n",
              "      background-color: #434B5C;\n",
              "      box-shadow: 0px 1px 3px 1px rgba(0, 0, 0, 0.15);\n",
              "      filter: drop-shadow(0px 1px 2px rgba(0, 0, 0, 0.3));\n",
              "      fill: #FFFFFF;\n",
              "    }\n",
              "  </style>\n",
              "\n",
              "    <script>\n",
              "      const buttonEl =\n",
              "        document.querySelector('#df-a62d93c8-3c16-4656-99a5-bb9eb3a997c0 button.colab-df-convert');\n",
              "      buttonEl.style.display =\n",
              "        google.colab.kernel.accessAllowed ? 'block' : 'none';\n",
              "\n",
              "      async function convertToInteractive(key) {\n",
              "        const element = document.querySelector('#df-a62d93c8-3c16-4656-99a5-bb9eb3a997c0');\n",
              "        const dataTable =\n",
              "          await google.colab.kernel.invokeFunction('convertToInteractive',\n",
              "                                                    [key], {});\n",
              "        if (!dataTable) return;\n",
              "\n",
              "        const docLinkHtml = 'Like what you see? Visit the ' +\n",
              "          '<a target=\"_blank\" href=https://colab.research.google.com/notebooks/data_table.ipynb>data table notebook</a>'\n",
              "          + ' to learn more about interactive tables.';\n",
              "        element.innerHTML = '';\n",
              "        dataTable['output_type'] = 'display_data';\n",
              "        await google.colab.output.renderOutput(dataTable, element);\n",
              "        const docLink = document.createElement('div');\n",
              "        docLink.innerHTML = docLinkHtml;\n",
              "        element.appendChild(docLink);\n",
              "      }\n",
              "    </script>\n",
              "  </div>\n",
              "\n",
              "\n",
              "<div id=\"df-31717952-793e-4e12-b624-47c1d0e2a568\">\n",
              "  <button class=\"colab-df-quickchart\" onclick=\"quickchart('df-31717952-793e-4e12-b624-47c1d0e2a568')\"\n",
              "            title=\"Suggest charts\"\n",
              "            style=\"display:none;\">\n",
              "\n",
              "<svg xmlns=\"http://www.w3.org/2000/svg\" height=\"24px\"viewBox=\"0 0 24 24\"\n",
              "     width=\"24px\">\n",
              "    <g>\n",
              "        <path d=\"M19 3H5c-1.1 0-2 .9-2 2v14c0 1.1.9 2 2 2h14c1.1 0 2-.9 2-2V5c0-1.1-.9-2-2-2zM9 17H7v-7h2v7zm4 0h-2V7h2v10zm4 0h-2v-4h2v4z\"/>\n",
              "    </g>\n",
              "</svg>\n",
              "  </button>\n",
              "\n",
              "<style>\n",
              "  .colab-df-quickchart {\n",
              "      --bg-color: #E8F0FE;\n",
              "      --fill-color: #1967D2;\n",
              "      --hover-bg-color: #E2EBFA;\n",
              "      --hover-fill-color: #174EA6;\n",
              "      --disabled-fill-color: #AAA;\n",
              "      --disabled-bg-color: #DDD;\n",
              "  }\n",
              "\n",
              "  [theme=dark] .colab-df-quickchart {\n",
              "      --bg-color: #3B4455;\n",
              "      --fill-color: #D2E3FC;\n",
              "      --hover-bg-color: #434B5C;\n",
              "      --hover-fill-color: #FFFFFF;\n",
              "      --disabled-bg-color: #3B4455;\n",
              "      --disabled-fill-color: #666;\n",
              "  }\n",
              "\n",
              "  .colab-df-quickchart {\n",
              "    background-color: var(--bg-color);\n",
              "    border: none;\n",
              "    border-radius: 50%;\n",
              "    cursor: pointer;\n",
              "    display: none;\n",
              "    fill: var(--fill-color);\n",
              "    height: 32px;\n",
              "    padding: 0;\n",
              "    width: 32px;\n",
              "  }\n",
              "\n",
              "  .colab-df-quickchart:hover {\n",
              "    background-color: var(--hover-bg-color);\n",
              "    box-shadow: 0 1px 2px rgba(60, 64, 67, 0.3), 0 1px 3px 1px rgba(60, 64, 67, 0.15);\n",
              "    fill: var(--button-hover-fill-color);\n",
              "  }\n",
              "\n",
              "  .colab-df-quickchart-complete:disabled,\n",
              "  .colab-df-quickchart-complete:disabled:hover {\n",
              "    background-color: var(--disabled-bg-color);\n",
              "    fill: var(--disabled-fill-color);\n",
              "    box-shadow: none;\n",
              "  }\n",
              "\n",
              "  .colab-df-spinner {\n",
              "    border: 2px solid var(--fill-color);\n",
              "    border-color: transparent;\n",
              "    border-bottom-color: var(--fill-color);\n",
              "    animation:\n",
              "      spin 1s steps(1) infinite;\n",
              "  }\n",
              "\n",
              "  @keyframes spin {\n",
              "    0% {\n",
              "      border-color: transparent;\n",
              "      border-bottom-color: var(--fill-color);\n",
              "      border-left-color: var(--fill-color);\n",
              "    }\n",
              "    20% {\n",
              "      border-color: transparent;\n",
              "      border-left-color: var(--fill-color);\n",
              "      border-top-color: var(--fill-color);\n",
              "    }\n",
              "    30% {\n",
              "      border-color: transparent;\n",
              "      border-left-color: var(--fill-color);\n",
              "      border-top-color: var(--fill-color);\n",
              "      border-right-color: var(--fill-color);\n",
              "    }\n",
              "    40% {\n",
              "      border-color: transparent;\n",
              "      border-right-color: var(--fill-color);\n",
              "      border-top-color: var(--fill-color);\n",
              "    }\n",
              "    60% {\n",
              "      border-color: transparent;\n",
              "      border-right-color: var(--fill-color);\n",
              "    }\n",
              "    80% {\n",
              "      border-color: transparent;\n",
              "      border-right-color: var(--fill-color);\n",
              "      border-bottom-color: var(--fill-color);\n",
              "    }\n",
              "    90% {\n",
              "      border-color: transparent;\n",
              "      border-bottom-color: var(--fill-color);\n",
              "    }\n",
              "  }\n",
              "</style>\n",
              "\n",
              "  <script>\n",
              "    async function quickchart(key) {\n",
              "      const quickchartButtonEl =\n",
              "        document.querySelector('#' + key + ' button');\n",
              "      quickchartButtonEl.disabled = true;  // To prevent multiple clicks.\n",
              "      quickchartButtonEl.classList.add('colab-df-spinner');\n",
              "      try {\n",
              "        const charts = await google.colab.kernel.invokeFunction(\n",
              "            'suggestCharts', [key], {});\n",
              "      } catch (error) {\n",
              "        console.error('Error during call to suggestCharts:', error);\n",
              "      }\n",
              "      quickchartButtonEl.classList.remove('colab-df-spinner');\n",
              "      quickchartButtonEl.classList.add('colab-df-quickchart-complete');\n",
              "    }\n",
              "    (() => {\n",
              "      let quickchartButtonEl =\n",
              "        document.querySelector('#df-31717952-793e-4e12-b624-47c1d0e2a568 button');\n",
              "      quickchartButtonEl.style.display =\n",
              "        google.colab.kernel.accessAllowed ? 'block' : 'none';\n",
              "    })();\n",
              "  </script>\n",
              "</div>\n",
              "\n",
              "  <div id=\"id_ccb5f567-8a59-48f2-9837-c8e1e5d4dad9\">\n",
              "    <style>\n",
              "      .colab-df-generate {\n",
              "        background-color: #E8F0FE;\n",
              "        border: none;\n",
              "        border-radius: 50%;\n",
              "        cursor: pointer;\n",
              "        display: none;\n",
              "        fill: #1967D2;\n",
              "        height: 32px;\n",
              "        padding: 0 0 0 0;\n",
              "        width: 32px;\n",
              "      }\n",
              "\n",
              "      .colab-df-generate:hover {\n",
              "        background-color: #E2EBFA;\n",
              "        box-shadow: 0px 1px 2px rgba(60, 64, 67, 0.3), 0px 1px 3px 1px rgba(60, 64, 67, 0.15);\n",
              "        fill: #174EA6;\n",
              "      }\n",
              "\n",
              "      [theme=dark] .colab-df-generate {\n",
              "        background-color: #3B4455;\n",
              "        fill: #D2E3FC;\n",
              "      }\n",
              "\n",
              "      [theme=dark] .colab-df-generate:hover {\n",
              "        background-color: #434B5C;\n",
              "        box-shadow: 0px 1px 3px 1px rgba(0, 0, 0, 0.15);\n",
              "        filter: drop-shadow(0px 1px 2px rgba(0, 0, 0, 0.3));\n",
              "        fill: #FFFFFF;\n",
              "      }\n",
              "    </style>\n",
              "    <button class=\"colab-df-generate\" onclick=\"generateWithVariable('corpus_df')\"\n",
              "            title=\"Generate code using this dataframe.\"\n",
              "            style=\"display:none;\">\n",
              "\n",
              "  <svg xmlns=\"http://www.w3.org/2000/svg\" height=\"24px\"viewBox=\"0 0 24 24\"\n",
              "       width=\"24px\">\n",
              "    <path d=\"M7,19H8.4L18.45,9,17,7.55,7,17.6ZM5,21V16.75L18.45,3.32a2,2,0,0,1,2.83,0l1.4,1.43a1.91,1.91,0,0,1,.58,1.4,1.91,1.91,0,0,1-.58,1.4L9.25,21ZM18.45,9,17,7.55Zm-12,3A5.31,5.31,0,0,0,4.9,8.1,5.31,5.31,0,0,0,1,6.5,5.31,5.31,0,0,0,4.9,4.9,5.31,5.31,0,0,0,6.5,1,5.31,5.31,0,0,0,8.1,4.9,5.31,5.31,0,0,0,12,6.5,5.46,5.46,0,0,0,6.5,12Z\"/>\n",
              "  </svg>\n",
              "    </button>\n",
              "    <script>\n",
              "      (() => {\n",
              "      const buttonEl =\n",
              "        document.querySelector('#id_ccb5f567-8a59-48f2-9837-c8e1e5d4dad9 button.colab-df-generate');\n",
              "      buttonEl.style.display =\n",
              "        google.colab.kernel.accessAllowed ? 'block' : 'none';\n",
              "\n",
              "      buttonEl.onclick = () => {\n",
              "        google.colab.notebook.generateWithVariable('corpus_df');\n",
              "      }\n",
              "      })();\n",
              "    </script>\n",
              "  </div>\n",
              "\n",
              "    </div>\n",
              "  </div>\n"
            ],
            "text/plain": [
              "                                                   text\n",
              "0                       ud baγōbaxt ān ī did-iz baxšēnd\n",
              "1                               ud ka mīrēnd ahlaw hēnd\n",
              "2     ud ōy ī pēm-xwarišn mardōm tan-drusttar ud zōr...\n",
              "3     kū pādixšāyān rāy tis-ē ham-pursagīh ī abāg dā...\n",
              "4     pad ǰōrdā ham-dādestān būd hēnd kū ān and gyāg...\n",
              "...                                                 ...\n",
              "3404         ud pad wīst-sālag hāxtēd kawīg ī kundā pus\n",
              "3405                                      čē guft ēstēd\n",
              "3406  čē ōy ī bēš-burdār rāmišn ī gētīg ud mēnōg wan...\n",
              "3407  ud šašom kē pad čašm ī yazadān ud uzwān ī wehā...\n",
              "3408  bistag ī gurgānīg ka pad sōr-ābag brēzēnd ud n...\n",
              "\n",
              "[3409 rows x 1 columns]"
            ]
          },
          "execution_count": 18,
          "metadata": {},
          "output_type": "execute_result"
        }
      ],
      "source": [
        "with open('/content/Parsi_Mianeh_Corpus.txt', 'r') as f:\n",
        "  text = f.read()\n",
        "sentences = text.split('\\n')[:-1]\n",
        "corpus_df=pd.DataFrame(data=sentences, columns=[\"text\"])\n",
        "corpus_df"
      ]
    },
    {
      "cell_type": "code",
      "execution_count": 19,
      "metadata": {
        "colab": {
          "base_uri": "https://localhost:8080/"
        },
        "execution": {
          "iopub.execute_input": "2023-12-22T09:53:28.436072Z",
          "iopub.status.busy": "2023-12-22T09:53:28.435700Z",
          "iopub.status.idle": "2023-12-22T09:53:28.473262Z",
          "shell.execute_reply": "2023-12-22T09:53:28.472404Z",
          "shell.execute_reply.started": "2023-12-22T09:53:28.436044Z"
        },
        "id": "YioyZlLJ8Dsp",
        "outputId": "8c602cec-5eb4-4ece-e7e5-0df794243c55",
        "trusted": true
      },
      "outputs": [
        {
          "data": {
            "text/plain": [
              "DatasetDict({\n",
              "    train: Dataset({\n",
              "        features: ['text'],\n",
              "        num_rows: 3409\n",
              "    })\n",
              "})"
            ]
          },
          "execution_count": 19,
          "metadata": {},
          "output_type": "execute_result"
        }
      ],
      "source": [
        "from datasets import DatasetDict, Dataset\n",
        "\n",
        "dataset = DatasetDict({'train': Dataset.from_pandas(corpus_df)})\n",
        "dataset"
      ]
    },
    {
      "cell_type": "code",
      "execution_count": 20,
      "metadata": {
        "colab": {
          "base_uri": "https://localhost:8080/",
          "height": 153,
          "referenced_widgets": [
            "33ad3d7f0d744df3af5b36c925c92055",
            "f2530b349b534a7aba6d92ece656d890",
            "eeacf6b3ed6a4880b325277561eda09e",
            "2e1a088b955d46f0a3d3bdee84226710",
            "e2a02111939a41e78e73d831e1f6c0fc",
            "c31cd988364d4c6eaaf747408c492561",
            "e89cc56c1e18499592271600735f0ca1",
            "a410da9bc27447e1bcdc441631c5b997",
            "3b83398943534eedae67aa5bf915aef7",
            "dae0103b55aa41a181a080e53ff3140e",
            "dcb0ac262bb74bafa5d86ad60850c460"
          ]
        },
        "execution": {
          "iopub.execute_input": "2023-12-22T09:53:31.540003Z",
          "iopub.status.busy": "2023-12-22T09:53:31.539635Z",
          "iopub.status.idle": "2023-12-22T09:53:32.524298Z",
          "shell.execute_reply": "2023-12-22T09:53:32.523413Z",
          "shell.execute_reply.started": "2023-12-22T09:53:31.539973Z"
        },
        "id": "6wCfK91R8BOR",
        "outputId": "978dae3b-852d-486b-94d1-0f8f20017c9e",
        "trusted": true
      },
      "outputs": [
        {
          "data": {
            "application/vnd.jupyter.widget-view+json": {
              "model_id": "33ad3d7f0d744df3af5b36c925c92055",
              "version_major": 2,
              "version_minor": 0
            },
            "text/plain": [
              "Map:   0%|          | 0/3409 [00:00<?, ? examples/s]"
            ]
          },
          "metadata": {},
          "output_type": "display_data"
        },
        {
          "data": {
            "text/plain": [
              "DatasetDict({\n",
              "    train: Dataset({\n",
              "        features: ['text', 'input_ids', 'attention_mask'],\n",
              "        num_rows: 3409\n",
              "    })\n",
              "})"
            ]
          },
          "execution_count": 20,
          "metadata": {},
          "output_type": "execute_result"
        }
      ],
      "source": [
        "max_input_length = 512\n",
        "max_target_length = 64\n",
        "\n",
        "def tokenize_preprocess_function(examples):\n",
        "    model_inputs = tokenizer(examples[\"text\"], max_length=max_input_length, truncation=True)\n",
        "    return model_inputs\n",
        "\n",
        "tokenized_datasets = dataset.map(tokenize_preprocess_function, batched=False)\n",
        "tokenized_datasets"
      ]
    },
    {
      "cell_type": "markdown",
      "metadata": {
        "id": "FR7ae7qDBq7Q"
      },
      "source": [
        "Preprocess your dataset once and Save it"
      ]
    },
    {
      "cell_type": "code",
      "execution_count": 21,
      "metadata": {
        "colab": {
          "base_uri": "https://localhost:8080/"
        },
        "execution": {
          "iopub.execute_input": "2023-12-22T09:53:35.812054Z",
          "iopub.status.busy": "2023-12-22T09:53:35.811298Z",
          "iopub.status.idle": "2023-12-22T09:53:49.212645Z",
          "shell.execute_reply": "2023-12-22T09:53:49.211307Z",
          "shell.execute_reply.started": "2023-12-22T09:53:35.812022Z"
        },
        "id": "cqLlvKziNQ_t",
        "outputId": "700c0c97-fdd8-4c29-ed93-8d095b5dce8b",
        "trusted": true
      },
      "outputs": [
        {
          "name": "stderr",
          "output_type": "stream",
          "text": [
            "100%|██████████| 3409/3409 [18:05<00:00,  3.14it/s]\n"
          ]
        }
      ],
      "source": [
        "MAX_LEN=100\n",
        "\n",
        "train_dataset = Custom_Dataset(tokenizer, tokenized_datasets['train'], max_length=MAX_LEN)\n",
        "preprocessed_data=train_dataset.preprocess_function()"
      ]
    },
    {
      "cell_type": "code",
      "execution_count": 22,
      "metadata": {
        "id": "GV-RTomB8zX2"
      },
      "outputs": [],
      "source": [
        "with open('/content/preprocessed_data.pkl', 'wb') as file:\n",
        "  pickle.dump(preprocessed_data, file)"
      ]
    },
    {
      "cell_type": "markdown",
      "metadata": {
        "id": "cAGqONxv-Jfj"
      },
      "source": [
        "<font color=yellow>shared link of preprocessed Data</font> </br>\n",
        "<font color=greeen>add the shortcut to your drive first</font></br>\n",
        "https://drive.google.com/file/d/1ktCRq0J6QDzrW4T-Obx8m7u6GLU7JTq1/view"
      ]
    },
    {
      "cell_type": "code",
      "execution_count": 23,
      "metadata": {
        "colab": {
          "base_uri": "https://localhost:8080/"
        },
        "id": "g3Vgj7PNTZ4u",
        "outputId": "c49af5f3-e9ce-4d5e-c4f9-14e97854dacd"
      },
      "outputs": [
        {
          "name": "stdout",
          "output_type": "stream",
          "text": [
            "3409\n"
          ]
        }
      ],
      "source": [
        "MAX_LEN=100\n",
        "path=\"/content/preprocessed_data.pkl\"\n",
        "with open(path, 'rb') as file:\n",
        "    preprocessed_data = pickle.load(file)\n",
        "\n",
        "print(len(preprocessed_data))"
      ]
    },
    {
      "cell_type": "code",
      "execution_count": 24,
      "metadata": {
        "colab": {
          "base_uri": "https://localhost:8080/"
        },
        "execution": {
          "iopub.execute_input": "2023-12-22T09:54:28.307068Z",
          "iopub.status.busy": "2023-12-22T09:54:28.306718Z",
          "iopub.status.idle": "2023-12-22T09:54:28.340389Z",
          "shell.execute_reply": "2023-12-22T09:54:28.339527Z",
          "shell.execute_reply.started": "2023-12-22T09:54:28.307042Z"
        },
        "id": "Ky11prQr759h",
        "outputId": "b6f35001-e50c-4cb8-8a97-e1a523c3bc53",
        "trusted": true
      },
      "outputs": [
        {
          "data": {
            "text/plain": [
              "{'input_ids': tensor([[   1,   54,   65,  ...,    0,    0,    0],\n",
              "         [   1, 2363,  125,  ...,    0,    0,    0],\n",
              "         [   1,   53, 1011,  ...,    0,    0,    0],\n",
              "         ...,\n",
              "         [   1,  189,   59,  ...,    0,    0,    0],\n",
              "         [   1,  350,    3,  ...,    0,    0,    0],\n",
              "         [   1,  494,  731,  ...,    0,    0,    0]]),\n",
              " 'labels': tensor([[-100, -100, -100,  ..., -100, -100, -100],\n",
              "         [-100, -100, -100,  ..., -100, -100, -100],\n",
              "         [-100, -100, -100,  ..., -100, -100, -100],\n",
              "         ...,\n",
              "         [-100, -100,   59,  ..., -100, -100, -100],\n",
              "         [-100, -100,  216,  ..., -100, -100, -100],\n",
              "         [-100, -100, -100,  ..., -100, -100, -100]]),\n",
              " 'segment_ids': tensor([[1, 1, 1,  ..., 0, 0, 0],\n",
              "         [1, 1, 1,  ..., 0, 0, 0],\n",
              "         [1, 1, 1,  ..., 0, 0, 0],\n",
              "         ...,\n",
              "         [1, 1, 1,  ..., 0, 0, 0],\n",
              "         [1, 1, 1,  ..., 0, 0, 0],\n",
              "         [1, 1, 1,  ..., 0, 0, 0]])}"
            ]
          },
          "execution_count": 24,
          "metadata": {},
          "output_type": "execute_result"
        }
      ],
      "source": [
        "BATCH_SIZE=128\n",
        "\n",
        "train_loader = DataLoader(preprocessed_data, batch_size=BATCH_SIZE, shuffle=True, pin_memory=True)\n",
        "sample_data = next(iter(train_loader))\n",
        "sample_data\n",
        "# print(train_data[random.randrange(len(train_dataset))])"
      ]
    },
    {
      "cell_type": "markdown",
      "metadata": {
        "id": "VpVv_m6lv8vB"
      },
      "source": [
        "## 1-2-Embeddings"
      ]
    },
    {
      "cell_type": "markdown",
      "metadata": {
        "id": "vDICblxKdAR_"
      },
      "source": [
        "Positional Embedding"
      ]
    },
    {
      "cell_type": "code",
      "execution_count": 25,
      "metadata": {
        "execution": {
          "iopub.execute_input": "2023-12-22T09:55:52.151611Z",
          "iopub.status.busy": "2023-12-22T09:55:52.151210Z",
          "iopub.status.idle": "2023-12-22T09:55:52.160385Z",
          "shell.execute_reply": "2023-12-22T09:55:52.159407Z",
          "shell.execute_reply.started": "2023-12-22T09:55:52.151565Z"
        },
        "id": "K0Vtsv8r4dym",
        "trusted": true
      },
      "outputs": [],
      "source": [
        "class PositionalEmbedding(torch.nn.Module):\n",
        "    \"Implement the PE function.\"\n",
        "\n",
        "    def __init__(self, d_model, max_len, device=\"cpu\"):\n",
        "        super(PositionalEmbedding, self).__init__()\n",
        "\n",
        "        self.device = device\n",
        "\n",
        "        pe = torch.zeros(max_len, d_model).to(self.device)\n",
        "        p = torch.arange(0, max_len).unsqueeze(1).float()\n",
        "        div = torch.exp(torch.arange(0, d_model, 2).float() * -(torch.log(torch.tensor(10000.0)) / d_model))\n",
        "        pe[:, 0::2] = torch.sin(p * div)\n",
        "        pe[:, 1::2] = torch.cos(p* div)\n",
        "        pe = pe.unsqueeze(0)\n",
        "\n",
        "        self.register_buffer('pe', pe)\n",
        "\n",
        "    def forward(self, x):\n",
        "        \"\"\"\n",
        "        :params x: (batch_size, max_len)\n",
        "        :output shape: (batch_size, max_len, d_model)\n",
        "        \"\"\"\n",
        "\n",
        "        return self.pe[:, :x.size(1)].detach()"
      ]
    },
    {
      "cell_type": "markdown",
      "metadata": {
        "id": "2EcbtKPfdA-P"
      },
      "source": [
        "Token Embedding"
      ]
    },
    {
      "cell_type": "code",
      "execution_count": 26,
      "metadata": {
        "execution": {
          "iopub.execute_input": "2023-12-22T09:55:58.421215Z",
          "iopub.status.busy": "2023-12-22T09:55:58.420566Z",
          "iopub.status.idle": "2023-12-22T09:55:58.429228Z",
          "shell.execute_reply": "2023-12-22T09:55:58.428301Z",
          "shell.execute_reply.started": "2023-12-22T09:55:58.421183Z"
        },
        "id": "cFdZHrAu7mcA",
        "trusted": true
      },
      "outputs": [],
      "source": [
        "class Embedding(torch.nn.Module):\n",
        "    \"\"\"\n",
        "    Embedding which is consisted with under features\n",
        "        1. TokenEmbedding : normal embedding matrix\n",
        "        2. PositionalEmbedding : adding positional information using sin, cos\n",
        "        2. SegmentEmbedding : adding sentence segment info, (sent_A:1, sent_B:2)\n",
        "        sum of all these features are output of Embedding\n",
        "    \"\"\"\n",
        "\n",
        "    def __init__(self, vocab_size, embed_size, seq_len, dropout=0.1, device=\"cpu\"):\n",
        "        super().__init__()\n",
        "        self.token_embedding = torch.nn.Embedding(num_embeddings=vocab_size, embedding_dim = embed_size)\n",
        "        self.pos_embedding = PositionalEmbedding(embed_size, seq_len)\n",
        "        self.segment_embedding = torch.nn.Embedding(num_embeddings=3, embedding_dim=embed_size)  #, padding_idx=0 delted from last input\n",
        "        self.dropout = torch.nn.Dropout(dropout)\n",
        "\n",
        "    def forward(self, sequence, segment_id):\n",
        "        x = self.token_embedding(sequence) + self.pos_embedding(sequence) + self.segment_embedding(segment_id)\n",
        "        return self.dropout(x)\n"
      ]
    },
    {
      "cell_type": "markdown",
      "metadata": {
        "id": "G73cmtcE1c9A"
      },
      "source": [
        "## 1-3-Attention Module"
      ]
    },
    {
      "cell_type": "markdown",
      "metadata": {
        "id": "52h9ZGB27tTw"
      },
      "source": [
        "Multi Head Attention"
      ]
    },
    {
      "cell_type": "code",
      "execution_count": 27,
      "metadata": {
        "execution": {
          "iopub.execute_input": "2023-12-22T09:38:18.319049Z",
          "iopub.status.busy": "2023-12-22T09:38:18.318701Z",
          "iopub.status.idle": "2023-12-22T09:38:18.325540Z",
          "shell.execute_reply": "2023-12-22T09:38:18.324560Z",
          "shell.execute_reply.started": "2023-12-22T09:38:18.319020Z"
        },
        "id": "Z05fhi-TexWw",
        "trusted": true
      },
      "outputs": [],
      "source": [
        "class ScaledDotProductAttention(torch.nn.Module):\n",
        "    def __init__(self):\n",
        "        super(ScaledDotProductAttention, self).__init__()\n",
        "\n",
        "    def forward(self, Q, K, V, attn_mask, k_dim):\n",
        "        scores = torch.matmul(Q, K.transpose(-1, -2)) / np.sqrt(k_dim)\n",
        "        scores = scores.masked_fill(attn_mask == True, -1e9) # Fill padding elements with extremely low score\n",
        "        attn = torch.nn.Softmax(dim=-1)(scores)\n",
        "        context = torch.matmul(attn, V)\n",
        "        return context, attn"
      ]
    },
    {
      "cell_type": "code",
      "execution_count": 28,
      "metadata": {
        "execution": {
          "iopub.execute_input": "2023-12-22T10:13:01.134740Z",
          "iopub.status.busy": "2023-12-22T10:13:01.133957Z",
          "iopub.status.idle": "2023-12-22T10:13:01.145409Z",
          "shell.execute_reply": "2023-12-22T10:13:01.144309Z",
          "shell.execute_reply.started": "2023-12-22T10:13:01.134706Z"
        },
        "id": "t_1RlEOfgsm4",
        "trusted": true
      },
      "outputs": [],
      "source": [
        "class MultiHeadedAttention(torch.nn.Module):\n",
        "\n",
        "    def __init__(self, heads, d_model, dropout=0.1):\n",
        "        super(MultiHeadedAttention, self).__init__()\n",
        "        assert d_model % heads == 0\n",
        "\n",
        "          # Your Code Here\n",
        "        self.d_model = d_model\n",
        "        self.d_k = d_model // heads\n",
        "        self.h = heads\n",
        "        self.dropout = dropout\n",
        "        self.Q_weights = torch.nn.Linear(d_model, d_model)\n",
        "        self.K_weights = torch.nn.Linear(d_model, d_model)\n",
        "        self.V_weights = torch.nn.Linear(d_model, d_model)\n",
        "        self.O_weights = torch.nn.Linear(d_model, d_model)\n",
        "\n",
        "\n",
        "    def forward(self, query, key, value, mask):\n",
        "        \"\"\"\n",
        "        :params query, key, value of shape: (batch_size, max_len, d_model)\n",
        "        :param mask: pad and non-pad token masks shape: (batch_size, 1, 1, max_words)\n",
        "        :output shape: (batch_size, max_len, d_model)\n",
        "        \"\"\"\n",
        "\n",
        "        Q = self.Q_weights(query)\n",
        "        V = self.V_weights(value)\n",
        "        K = self.K_weights(key)\n",
        "\n",
        "        # Now dividing the heads\n",
        "        Q = Q.view(Q.shape[0],self.h ,Q.shape[1], self.d_k)\n",
        "        V = V.view(V.shape[0],self.h ,V.shape[1], self.d_k)\n",
        "        K = K.view(K.shape[0],self.h ,K.shape[1], self.d_k)\n",
        "\n",
        "        att = ScaledDotProductAttention()\n",
        "        x, self.attention_score = att(Q, K, V, mask, self.d_k)\n",
        "\n",
        "        # It must be checked wheter it works or not\n",
        "        x = x.view(x.shape[0], x.shape[-2], self.d_model)\n",
        "        x = self.O_weights(x)\n",
        "        return x"
      ]
    },
    {
      "cell_type": "markdown",
      "metadata": {
        "id": "r22vwGSW1qxZ"
      },
      "source": [
        "## 1-4-Encoder Module"
      ]
    },
    {
      "cell_type": "code",
      "execution_count": 29,
      "metadata": {
        "execution": {
          "iopub.execute_input": "2023-12-22T10:13:03.093352Z",
          "iopub.status.busy": "2023-12-22T10:13:03.092949Z",
          "iopub.status.idle": "2023-12-22T10:13:03.101168Z",
          "shell.execute_reply": "2023-12-22T10:13:03.100161Z",
          "shell.execute_reply.started": "2023-12-22T10:13:03.093318Z"
        },
        "id": "F-WoxQU2gu7M",
        "trusted": true
      },
      "outputs": [],
      "source": [
        "class PositionwiseFeedForward(torch.nn.Module):\n",
        "    \"Implements FFN equation.\"\n",
        "    def __init__(self, d_model, middle_dim, dropout=0.1):\n",
        "        super(PositionwiseFeedForward, self).__init__()\n",
        "\n",
        "        self.w_1 = torch.nn.Linear(d_model, middle_dim)\n",
        "        self.w_2 = torch.nn.Linear(middle_dim, d_model)\n",
        "        self.dropout = torch.nn.Dropout(dropout)\n",
        "    def forward(self, x):\n",
        "        \"\"\"\n",
        "        :param x: (batch_size, max_len, d_model)\n",
        "        :output shape: (batch_size, max_len, d_model)\n",
        "        \"\"\"\n",
        "        out = self.w_1(x)\n",
        "        out = torch.nn.functional.relu(out)\n",
        "        out = self.dropout(out)\n",
        "        out = self.w_2(out)\n",
        "        out = out + x\n",
        "        return out"
      ]
    },
    {
      "cell_type": "code",
      "execution_count": 30,
      "metadata": {
        "execution": {
          "iopub.execute_input": "2023-12-22T10:13:03.255976Z",
          "iopub.status.busy": "2023-12-22T10:13:03.255685Z",
          "iopub.status.idle": "2023-12-22T10:13:03.263835Z",
          "shell.execute_reply": "2023-12-22T10:13:03.262929Z",
          "shell.execute_reply.started": "2023-12-22T10:13:03.255951Z"
        },
        "id": "ppWNkeCu7mZW",
        "trusted": true
      },
      "outputs": [],
      "source": [
        "class EncoderLayer(torch.nn.Module):\n",
        "    def __init__(self, d_model=768, heads=12, feed_forward_hidden=768 * 4, dropout=0.1):\n",
        "        super(EncoderLayer, self).__init__()\n",
        "\n",
        "        self.attention = MultiHeadedAttention(heads, d_model, dropout)\n",
        "        self.f_f = PositionwiseFeedForward(d_model, feed_forward_hidden, dropout)\n",
        "        self.norm = torch.nn.LayerNorm(d_model)\n",
        "        self.dropout = torch.nn.Dropout(dropout)\n",
        "\n",
        "    def forward(self, embeddings, mask):\n",
        "        \"\"\":param embeddings: input embeddings (batch_size, max_len, d_model)\n",
        "           :param mask: pad and non-pad token masks (batch_size, 1, 1, max_len)\n",
        "           :output shape: (batch_size, max_len, d_model)\n",
        "        \"\"\"\n",
        "\n",
        "        attention_o = self.attention(embeddings, embeddings, embeddings, mask)\n",
        "        attention_o_dropout = self.dropout(attention_o)\n",
        "        attention_o = self.norm(embeddings + attention_o_dropout)\n",
        "        ff_output = self.f_f(attention_o)\n",
        "        ff_o_dropout = self.dropout(ff_output)\n",
        "        output = self.norm(attention_o + ff_o_dropout)\n",
        "        return output\n"
      ]
    },
    {
      "cell_type": "markdown",
      "metadata": {
        "id": "3FMHUw0874c8"
      },
      "source": [
        "## 1-5-Final model"
      ]
    },
    {
      "cell_type": "code",
      "execution_count": 31,
      "metadata": {
        "execution": {
          "iopub.execute_input": "2023-12-22T10:13:04.581161Z",
          "iopub.status.busy": "2023-12-22T10:13:04.580790Z",
          "iopub.status.idle": "2023-12-22T10:13:04.586645Z",
          "shell.execute_reply": "2023-12-22T10:13:04.585665Z",
          "shell.execute_reply.started": "2023-12-22T10:13:04.581130Z"
        },
        "id": "7kOdc5pDfEa4",
        "trusted": true
      },
      "outputs": [],
      "source": [
        "def get_attn_pad_mask(seq_a, seq_b):\n",
        "    batch_size, len_a = seq_a.size()\n",
        "    batch_size, len_b = seq_b.size()\n",
        "    pad_attn_mask = seq_b.data.eq(0).unsqueeze(1) # one is for masking pad tokens True\n",
        "    return pad_attn_mask.expand(batch_size, len_a, len_b).unsqueeze(1)  # batch_size x 1 x len_a x len_b"
      ]
    },
    {
      "cell_type": "code",
      "execution_count": 32,
      "metadata": {
        "execution": {
          "iopub.execute_input": "2023-12-22T10:13:04.832477Z",
          "iopub.status.busy": "2023-12-22T10:13:04.832150Z",
          "iopub.status.idle": "2023-12-22T10:13:04.841257Z",
          "shell.execute_reply": "2023-12-22T10:13:04.840304Z",
          "shell.execute_reply.started": "2023-12-22T10:13:04.832452Z"
        },
        "id": "FsblQwrJ7mWd",
        "trusted": true
      },
      "outputs": [],
      "source": [
        "class Masked_Language_Model(torch.nn.Module):\n",
        "    def __init__(self, vocab_size, seq_len, d_model=768, n_layers=12, heads=12, dropout=0.1, device=\"cpu\"):\n",
        "        super(Masked_Language_Model, self).__init__()\n",
        "        self.d_model = d_model\n",
        "        self.n_layers = n_layers\n",
        "        self.heads = heads\n",
        "        self.dropout = torch.nn.Dropout(dropout)\n",
        "        self.embedding = Embedding(vocab_size, d_model, seq_len, dropout, device)\n",
        "        self.encoder_layers = self._make_layers(n_layers)\n",
        "        self.fc = torch.nn.Linear(d_model, vocab_size)\n",
        "\n",
        "    def _make_layers(self, n_layers):\n",
        "        layers = []\n",
        "        for _ in range(n_layers):\n",
        "            layers.append(EncoderLayer())\n",
        "        return torch.nn.ModuleList(layers)\n",
        "\n",
        "    def forward(self, x, segment_info):\n",
        "        mask = self._get_attention_pad_mask(x, x)\n",
        "        embeddings = self.embedding(x, segment_info)\n",
        "        for layer in self.encoder_layers:\n",
        "            embeddings = layer(embeddings, mask)\n",
        "        out = self.fc(embeddings)\n",
        "        return out\n",
        "\n",
        "    def _get_attention_pad_mask(self, x, y):\n",
        "        return get_attn_pad_mask(x, y)\n"
      ]
    },
    {
      "cell_type": "markdown",
      "metadata": {
        "id": "NxTNofhRNi84"
      },
      "source": [
        "## 1-6-Trainer and LR_scheduler"
      ]
    },
    {
      "cell_type": "code",
      "execution_count": 33,
      "metadata": {
        "execution": {
          "iopub.execute_input": "2023-12-22T10:13:05.457673Z",
          "iopub.status.busy": "2023-12-22T10:13:05.457343Z",
          "iopub.status.idle": "2023-12-22T10:13:05.465704Z",
          "shell.execute_reply": "2023-12-22T10:13:05.464720Z",
          "shell.execute_reply.started": "2023-12-22T10:13:05.457647Z"
        },
        "id": "mXDDVm1bAkPV",
        "trusted": true
      },
      "outputs": [],
      "source": [
        "class Learning_Rate_Scheduler():\n",
        "    '''A simple wrapper class for learning rate scheduling'''\n",
        "    def __init__(self, optimizer, d_model, n_warmup_steps):\n",
        "        self._optimizer = optimizer\n",
        "        self.n_warmup_steps = n_warmup_steps\n",
        "        self.n_current_steps = 0\n",
        "        self.init_lr = np.power(d_model, -0.5)\n",
        "\n",
        "    def step_and_update_lr(self):\n",
        "        \"Step with the inner optimizer\"\n",
        "        self._update_learning_rate()\n",
        "        self._optimizer.step()\n",
        "\n",
        "    def zero_grad(self):\n",
        "        \"Zero out the gradients by the inner optimizer\"\n",
        "        self._optimizer.zero_grad()\n",
        "\n",
        "    def _get_lr_scale(self):\n",
        "        return np.min([\n",
        "            np.power(self.n_current_steps, -0.5),\n",
        "            np.power(self.n_warmup_steps, -1.5) * self.n_current_steps])\n",
        "\n",
        "    def _update_learning_rate(self):\n",
        "        ''' Learning rate scheduling per step '''\n",
        "\n",
        "        self.n_current_steps += 1\n",
        "        lr = self.init_lr * self._get_lr_scale()\n",
        "\n",
        "        for param_group in self._optimizer.param_groups:\n",
        "            param_group['lr'] = lr"
      ]
    },
    {
      "cell_type": "code",
      "execution_count": 34,
      "metadata": {
        "execution": {
          "iopub.execute_input": "2023-12-22T10:13:06.173694Z",
          "iopub.status.busy": "2023-12-22T10:13:06.172895Z",
          "iopub.status.idle": "2023-12-22T10:13:06.189681Z",
          "shell.execute_reply": "2023-12-22T10:13:06.188844Z",
          "shell.execute_reply.started": "2023-12-22T10:13:06.173663Z"
        },
        "id": "4YZZGpJS8c0Y",
        "trusted": true
      },
      "outputs": [],
      "source": [
        "import torch.nn.functional as F\n",
        "\n",
        "class Trainer:\n",
        "    def __init__(\n",
        "        self,\n",
        "        model,\n",
        "        train_dataloader,\n",
        "        num_epochs,\n",
        "        test_dataloader=None,\n",
        "        lr= 1e-4,\n",
        "        weight_decay=0.08,\n",
        "        betas=(0.9, 0.999),\n",
        "        warmup_steps=10000,\n",
        "        device='cuda'\n",
        "        ):\n",
        "\n",
        "        self.device = device\n",
        "        self.model = model\n",
        "        self.train_data = train_dataloader\n",
        "        self.test_data = test_dataloader\n",
        "\n",
        "\n",
        "        \"\"\" Defining optimizer and Learning Rate scheduler \"\"\"\n",
        "        self.optimizer = Adam(self.model.parameters(), lr=lr, betas=betas, weight_decay=weight_decay)\n",
        "        self.lr_scheduler = Learning_Rate_Scheduler(\n",
        "            self.optimizer, self.model.d_model, n_warmup_steps=warmup_steps\n",
        "            )\n",
        "\n",
        "        \"\"\" Using CrossEntropy Loss function for predicting the masked_token \"\"\"\n",
        "        self.criterion = torch.nn.CrossEntropyLoss(ignore_index=-100)\n",
        "\n",
        "        print(\"Total Parameters:\", sum([p.nelement() for p in self.model.parameters()]))\n",
        "\n",
        "\n",
        "\n",
        "    def Fit(self, train_loader, num_epochs, path_to_save):\n",
        "\n",
        "      self.train_losses = []\n",
        "      lrs=[]\n",
        "\n",
        "      for epoch in range(num_epochs):\n",
        "        train_per_epoch_loss=0\n",
        "        train_data_total = 0\n",
        "\n",
        "        with tqdm(train_loader, unit=\"batch\") as batches:\n",
        "            for data in batches:\n",
        "                batches.set_description(f\"Epoch {epoch + 1}\")\n",
        "\n",
        "                # 0. batch_data will be sent into the device(GPU or cpu)\n",
        "                data = {key: value.to(self.device) for key, value in data.items()}\n",
        "\n",
        "                # 1. forward phase\n",
        "                log = self.model(data[\"input_ids\"], data['segment_ids'])\n",
        "\n",
        "                # 2. calculate Loss only for MASKed tokens\n",
        "                \"\"\" Attention! non-masked token ids are set to -100 \"\"\"\n",
        "                loss = self.criterion(log.view(-1, log.size(-1)), data[\"labels\"].view(-1))\n",
        "                # 3. backward and optimization\n",
        "                self.optimizer.zero_grad()\n",
        "                loss.backward()\n",
        "                self.optimizer.step()\n",
        "                self.lr_scheduler.step_and_update_lr()\n",
        "\n",
        "                lrs.append(self.optimizer.param_groups[0][\"lr\"])\n",
        "                train_data_total += len(data[\"labels\"])\n",
        "                train_per_epoch_loss += loss.item()\n",
        "                batches.set_postfix(train_loss=(train_per_epoch_loss / len(train_loader)))  # update loss per batch of data\n",
        "\n",
        "        self.train_losses.append(train_per_epoch_loss / len(train_loader))\n",
        "\n",
        "        if epoch%10==0:\n",
        "          PATH=f\"{path_to_save}mlm_{num_epochs}Eps_{epoch}\"\n",
        "\n",
        "          torch.save({\n",
        "                      'epoch': epoch,\n",
        "                      'model_state_dict': self.model.state_dict(),\n",
        "                      'optimizer_state_dict': self.optimizer.state_dict(),\n",
        "                      'loss': self.train_losses[-1],\n",
        "                      }, PATH)\n",
        "\n",
        "      self.history={\n",
        "        'train_losses':self.train_losses,\n",
        "        'optimizer':self.optimizer,\n",
        "        'learning_rates':lrs\n",
        "      }\n",
        "      return self.history"
      ]
    },
    {
      "cell_type": "markdown",
      "metadata": {
        "id": "u2gjb2p1Ux7g"
      },
      "source": [
        "## 1-7-Training the model"
      ]
    },
    {
      "cell_type": "code",
      "execution_count": 35,
      "metadata": {
        "colab": {
          "base_uri": "https://localhost:8080/"
        },
        "execution": {
          "iopub.execute_input": "2023-12-22T10:14:32.702747Z",
          "iopub.status.busy": "2023-12-22T10:14:32.702332Z",
          "iopub.status.idle": "2023-12-22T10:42:16.526415Z",
          "shell.execute_reply": "2023-12-22T10:42:16.525390Z",
          "shell.execute_reply.started": "2023-12-22T10:14:32.702719Z"
        },
        "id": "Lj_D9a9_8dlQ",
        "outputId": "659100c0-13ec-444b-910f-20c2431e4dd9",
        "trusted": true
      },
      "outputs": [
        {
          "name": "stdout",
          "output_type": "stream",
          "text": [
            "Total Parameters: 53096417\n"
          ]
        },
        {
          "name": "stderr",
          "output_type": "stream",
          "text": [
            "Epoch 1: 100%|██████████| 27/27 [00:25<00:00,  1.06batch/s, train_loss=7.67]\n",
            "Epoch 2: 100%|██████████| 27/27 [00:25<00:00,  1.08batch/s, train_loss=7.55]\n",
            "Epoch 3: 100%|██████████| 27/27 [00:26<00:00,  1.04batch/s, train_loss=7.5]\n",
            "Epoch 4: 100%|██████████| 27/27 [00:27<00:00,  1.01s/batch, train_loss=7.42]\n",
            "Epoch 5: 100%|██████████| 27/27 [00:27<00:00,  1.03s/batch, train_loss=7.35]\n",
            "Epoch 6: 100%|██████████| 27/27 [00:27<00:00,  1.01s/batch, train_loss=7.26]\n",
            "Epoch 7: 100%|██████████| 27/27 [00:27<00:00,  1.01s/batch, train_loss=7.17]\n",
            "Epoch 8: 100%|██████████| 27/27 [00:27<00:00,  1.02s/batch, train_loss=7.08]\n",
            "Epoch 9: 100%|██████████| 27/27 [00:27<00:00,  1.01s/batch, train_loss=6.99]\n",
            "Epoch 10: 100%|██████████| 27/27 [00:27<00:00,  1.02s/batch, train_loss=6.9]\n",
            "Epoch 11: 100%|██████████| 27/27 [00:27<00:00,  1.02s/batch, train_loss=6.81]\n",
            "Epoch 12: 100%|██████████| 27/27 [00:27<00:00,  1.02s/batch, train_loss=6.72]\n",
            "Epoch 13: 100%|██████████| 27/27 [00:27<00:00,  1.02s/batch, train_loss=6.64]\n",
            "Epoch 14: 100%|██████████| 27/27 [00:27<00:00,  1.01s/batch, train_loss=6.57]\n",
            "Epoch 15: 100%|██████████| 27/27 [00:27<00:00,  1.02s/batch, train_loss=6.5]\n",
            "Epoch 16: 100%|██████████| 27/27 [00:27<00:00,  1.02s/batch, train_loss=6.44]\n",
            "Epoch 17: 100%|██████████| 27/27 [00:27<00:00,  1.02s/batch, train_loss=6.4]\n",
            "Epoch 18: 100%|██████████| 27/27 [00:27<00:00,  1.02s/batch, train_loss=6.36]\n",
            "Epoch 19: 100%|██████████| 27/27 [00:27<00:00,  1.02s/batch, train_loss=6.32]\n",
            "Epoch 20: 100%|██████████| 27/27 [00:27<00:00,  1.01s/batch, train_loss=6.28]\n",
            "Epoch 21: 100%|██████████| 27/27 [00:27<00:00,  1.01s/batch, train_loss=6.26]\n",
            "Epoch 22: 100%|██████████| 27/27 [00:27<00:00,  1.02s/batch, train_loss=6.23]\n",
            "Epoch 23: 100%|██████████| 27/27 [00:27<00:00,  1.03s/batch, train_loss=6.21]\n",
            "Epoch 24: 100%|██████████| 27/27 [00:27<00:00,  1.01s/batch, train_loss=6.19]\n",
            "Epoch 25: 100%|██████████| 27/27 [00:27<00:00,  1.02s/batch, train_loss=6.17]\n",
            "Epoch 26: 100%|██████████| 27/27 [00:27<00:00,  1.02s/batch, train_loss=6.15]\n",
            "Epoch 27: 100%|██████████| 27/27 [00:27<00:00,  1.01s/batch, train_loss=6.14]\n",
            "Epoch 28: 100%|██████████| 27/27 [00:27<00:00,  1.01s/batch, train_loss=6.13]\n",
            "Epoch 29: 100%|██████████| 27/27 [00:27<00:00,  1.02s/batch, train_loss=6.11]\n",
            "Epoch 30: 100%|██████████| 27/27 [00:27<00:00,  1.02s/batch, train_loss=6.1]\n",
            "Epoch 31: 100%|██████████| 27/27 [00:27<00:00,  1.02s/batch, train_loss=6.09]\n",
            "Epoch 32: 100%|██████████| 27/27 [00:27<00:00,  1.02s/batch, train_loss=6.08]\n",
            "Epoch 33: 100%|██████████| 27/27 [00:27<00:00,  1.02s/batch, train_loss=6.08]\n",
            "Epoch 34: 100%|██████████| 27/27 [00:27<00:00,  1.01s/batch, train_loss=6.06]\n",
            "Epoch 35: 100%|██████████| 27/27 [00:27<00:00,  1.01s/batch, train_loss=6.05]\n",
            "Epoch 36: 100%|██████████| 27/27 [00:27<00:00,  1.01s/batch, train_loss=6.05]\n",
            "Epoch 37: 100%|██████████| 27/27 [00:27<00:00,  1.01s/batch, train_loss=6.04]\n",
            "Epoch 38: 100%|██████████| 27/27 [00:27<00:00,  1.01s/batch, train_loss=6.03]\n",
            "Epoch 39: 100%|██████████| 27/27 [00:27<00:00,  1.01s/batch, train_loss=6.02]\n",
            "Epoch 40: 100%|██████████| 27/27 [00:27<00:00,  1.01s/batch, train_loss=6.03]\n",
            "Epoch 41: 100%|██████████| 27/27 [00:27<00:00,  1.01s/batch, train_loss=6.02]\n",
            "Epoch 42: 100%|██████████| 27/27 [00:27<00:00,  1.01s/batch, train_loss=6.01]\n",
            "Epoch 43: 100%|██████████| 27/27 [00:27<00:00,  1.02s/batch, train_loss=6.01]\n",
            "Epoch 44: 100%|██████████| 27/27 [00:27<00:00,  1.01s/batch, train_loss=6.01]\n",
            "Epoch 45: 100%|██████████| 27/27 [00:27<00:00,  1.01s/batch, train_loss=5.99]\n",
            "Epoch 46: 100%|██████████| 27/27 [00:27<00:00,  1.02s/batch, train_loss=5.99]\n",
            "Epoch 47: 100%|██████████| 27/27 [00:27<00:00,  1.01s/batch, train_loss=5.99]\n",
            "Epoch 48: 100%|██████████| 27/27 [00:27<00:00,  1.01s/batch, train_loss=5.99]\n",
            "Epoch 49: 100%|██████████| 27/27 [00:27<00:00,  1.01s/batch, train_loss=5.99]\n",
            "Epoch 50: 100%|██████████| 27/27 [00:27<00:00,  1.01s/batch, train_loss=5.98]\n",
            "Epoch 51: 100%|██████████| 27/27 [00:27<00:00,  1.02s/batch, train_loss=5.98]\n",
            "Epoch 52: 100%|██████████| 27/27 [00:27<00:00,  1.01s/batch, train_loss=5.98]\n",
            "Epoch 53: 100%|██████████| 27/27 [00:27<00:00,  1.02s/batch, train_loss=5.97]\n",
            "Epoch 54: 100%|██████████| 27/27 [00:27<00:00,  1.01s/batch, train_loss=5.97]\n",
            "Epoch 55: 100%|██████████| 27/27 [00:27<00:00,  1.01s/batch, train_loss=5.97]\n",
            "Epoch 56: 100%|██████████| 27/27 [00:27<00:00,  1.01s/batch, train_loss=5.97]\n",
            "Epoch 57: 100%|██████████| 27/27 [00:27<00:00,  1.01s/batch, train_loss=5.97]\n",
            "Epoch 58: 100%|██████████| 27/27 [00:27<00:00,  1.01s/batch, train_loss=5.97]\n",
            "Epoch 59: 100%|██████████| 27/27 [00:27<00:00,  1.01s/batch, train_loss=5.97]\n",
            "Epoch 60: 100%|██████████| 27/27 [00:27<00:00,  1.01s/batch, train_loss=5.97]\n"
          ]
        }
      ],
      "source": [
        "device = torch.device(\"cuda:0\" if torch.cuda.is_available() else \"cpu\")\n",
        "path_to_save_checkpoints=\"/content/\"\n",
        "\n",
        "num_epochs = 60\n",
        "BATCH_SIZE=128\n",
        "train_loader = DataLoader(preprocessed_data, batch_size=BATCH_SIZE, shuffle=True, pin_memory=True)\n",
        "\n",
        "\n",
        "model = Masked_Language_Model(\n",
        "  vocab_size=tokenizer.vocab_size,\n",
        "  seq_len=MAX_LEN,\n",
        "  d_model=768,\n",
        "  n_layers=6,\n",
        "  heads=12,\n",
        "  dropout=0.1,\n",
        "  device=device\n",
        ")\n",
        "model=model.to(device)\n",
        "\n",
        "trainer = Trainer(model, train_loader, num_epochs, lr= 1e-3, weight_decay=0.08, betas=(0.9, 0.999), device=device)\n",
        "history=trainer.Fit(train_loader, num_epochs, path_to_save_checkpoints)"
      ]
    },
    {
      "cell_type": "markdown",
      "metadata": {
        "id": "bs3x2Jwb9HA3"
      },
      "source": [
        "Plot Training Loss"
      ]
    },
    {
      "cell_type": "code",
      "execution_count": 36,
      "metadata": {
        "colab": {
          "base_uri": "https://localhost:8080/",
          "height": 487
        },
        "execution": {
          "iopub.execute_input": "2023-12-22T10:42:46.433040Z",
          "iopub.status.busy": "2023-12-22T10:42:46.432687Z",
          "iopub.status.idle": "2023-12-22T10:42:46.822443Z",
          "shell.execute_reply": "2023-12-22T10:42:46.821497Z",
          "shell.execute_reply.started": "2023-12-22T10:42:46.433015Z"
        },
        "id": "W7-y6Wt69E8S",
        "outputId": "ab68ce68-1a9c-40eb-85d1-c2402670903a",
        "trusted": true
      },
      "outputs": [
        {
          "data": {
            "image/png": "[encoded data removed]",
            "text/plain": [
              "<Figure size 700x500 with 1 Axes>"
            ]
          },
          "metadata": {},
          "output_type": "display_data"
        }
      ],
      "source": [
        "plt.subplots(figsize=(7, 5))\n",
        "sns.set_style(\"dark\")\n",
        "sns.lineplot(data=np.asarray(history['train_losses']),label=\"Train Loss\").set(title=\"loss change during training\", xlabel=\"epoch\", ylabel=\"loss\")\n",
        "plt.legend()\n",
        "plt.show()"
      ]
    },
    {
      "cell_type": "markdown",
      "metadata": {
        "id": "ewYp_Z474-Lh"
      },
      "source": [
        "# 2-Implement MLM with Hugging_Face: <font color=yellow>Total Points:30</font>"
      ]
    },
    {
      "cell_type": "markdown",
      "metadata": {
        "id": "pPYggFvgMhJ7"
      },
      "source": [
        "<h3><font color=lightblue>In this part you will train a RoBERTa MLM using Hugging Face library</font></h3>"
      ]
    },
    {
      "cell_type": "markdown",
      "metadata": {
        "id": "_hZXSIbK64Sm"
      },
      "source": [
        "<h4>you will need a token with <font color=greeen>WRITE</font> permission</h4>"
      ]
    },
    {
      "cell_type": "code",
      "execution_count": 37,
      "metadata": {
        "colab": {
          "base_uri": "https://localhost:8080/",
          "height": 358,
          "referenced_widgets": [
            "a3214d5ff65542d6b482e6ba5edf55fd",
            "167d1a907bb147e6a2149524e7018bc2",
            "4f8237edda774cd6a9125c99bb8eab32",
            "49906e5d695e4aadb58d9b779fe31483",
            "cae4d327b31e4642a8a7d9ee03336fc6",
            "e6d5b66f4b6843a8b20e92332e75ae02",
            "a4710ffa63ed472fbfeb5e813a357459",
            "8aae8514d20845918e95db3732d6f0e1",
            "478abf59965b4c2cb7dd49b177786822",
            "dca383baa12a4d0c97548aafcc6fc934",
            "4b004fbb149d48aebc26705c596cb4f6",
            "f811b4b9f5914062902ca72883e7fcec",
            "43ebed9ee548421a858054ba106cbcaf",
            "c2743a676c784d4788eca05d8c7f85e0",
            "33f80e54389e41eeb49aad3b97afc1c9",
            "8b63748e96f74817a5339e93659a55df",
            "fd275929d9e248ef9faf7099d96bc177"
          ]
        },
        "execution": {
          "iopub.execute_input": "2023-12-22T13:58:45.441069Z",
          "iopub.status.busy": "2023-12-22T13:58:45.440335Z",
          "iopub.status.idle": "2023-12-22T13:58:45.463748Z",
          "shell.execute_reply": "2023-12-22T13:58:45.462801Z",
          "shell.execute_reply.started": "2023-12-22T13:58:45.441035Z"
        },
        "id": "AKv_43yzcMDz",
        "outputId": "f469d58b-d0c1-446e-e52b-41a823a45076",
        "trusted": true
      },
      "outputs": [
        {
          "data": {
            "application/vnd.jupyter.widget-view+json": {
              "model_id": "a3214d5ff65542d6b482e6ba5edf55fd",
              "version_major": 2,
              "version_minor": 0
            },
            "text/plain": [
              "VBox(children=(HTML(value='<center> <img\\nsrc=https://huggingface.co/front/assets/huggingface_logo-noborder.sv…"
            ]
          },
          "metadata": {},
          "output_type": "display_data"
        }
      ],
      "source": [
        "#logging in to hugging face\n",
        "notebook_login()\n"
      ]
    },
    {
      "cell_type": "markdown",
      "metadata": {
        "id": "0DkOJRfkG4NN"
      },
      "source": [
        "## 2-1-Load, Train and Save the Tokenizer on Dataset texts"
      ]
    },
    {
      "cell_type": "code",
      "execution_count": 38,
      "metadata": {
        "execution": {
          "iopub.execute_input": "2023-12-22T13:58:54.699872Z",
          "iopub.status.busy": "2023-12-22T13:58:54.699479Z",
          "iopub.status.idle": "2023-12-22T13:58:54.723403Z",
          "shell.execute_reply": "2023-12-22T13:58:54.722645Z",
          "shell.execute_reply.started": "2023-12-22T13:58:54.699840Z"
        },
        "id": "9jDvD1pbSTE4",
        "trusted": true
      },
      "outputs": [],
      "source": [
        "#load dataset file and clean it\n",
        "with open('/content/Parsi_Mianeh_Corpus.txt', 'r') as f:\n",
        "  corpus = f.read()\n",
        "corpus = re.sub('٭', '', corpus)\n",
        "corpus = re.sub('\\xa0', '', corpus)\n",
        "corpus = re.sub('#', '', corpus)"
      ]
    },
    {
      "cell_type": "code",
      "execution_count": 39,
      "metadata": {
        "execution": {
          "iopub.execute_input": "2023-12-22T13:58:55.162020Z",
          "iopub.status.busy": "2023-12-22T13:58:55.161292Z",
          "iopub.status.idle": "2023-12-22T13:58:55.347075Z",
          "shell.execute_reply": "2023-12-22T13:58:55.346234Z",
          "shell.execute_reply.started": "2023-12-22T13:58:55.161982Z"
        },
        "id": "IBo_1z8gXP7t",
        "trusted": true
      },
      "outputs": [],
      "source": [
        "#train tokenizer from scratch with byte pair level\n",
        "spl_tokens = [\"[UNK]\", \"[SEP]\", \"[MASK]\", \"[CLS]\", \"[PAD]\"]\n",
        "temp_post_processor = tokenizers.processors.TemplateProcessing(\n",
        "    single=\"[CLS] $A [SEP]\",\n",
        "    pair=\"[CLS] $A [SEP] $B:1 [SEP]:1\",\n",
        "    special_tokens=[\n",
        "        (\"[CLS]\", spl_tokens.index(\"[CLS]\")),\n",
        "        (\"[SEP]\", spl_tokens.index(\"[SEP]\")),\n",
        "    ],\n",
        ")\n",
        "\n",
        "tokenizer = tokenizers.Tokenizer(tokenizers.models.BPE(unk_token = spl_tokens[0], mask_token=spl_tokens[2]))\n",
        "tokenizer_trainer = tokenizers.trainers.BpeTrainer(special_tokens = spl_tokens)\n",
        "tokenizer.pre_tokenizer = tokenizers.pre_tokenizers.Whitespace()\n",
        "tokenizer.post_processor=temp_post_processor\n",
        "\n",
        "paths = [\"Parsi_Mianeh_Corpus.txt\"]\n",
        "tokenizer.train(paths, tokenizer_trainer)\n",
        "tokenizer.save('tokenizer.json')"
      ]
    },
    {
      "cell_type": "code",
      "execution_count": 40,
      "metadata": {
        "colab": {
          "base_uri": "https://localhost:8080/"
        },
        "execution": {
          "iopub.execute_input": "2023-12-22T13:58:57.401961Z",
          "iopub.status.busy": "2023-12-22T13:58:57.401233Z",
          "iopub.status.idle": "2023-12-22T13:58:57.409570Z",
          "shell.execute_reply": "2023-12-22T13:58:57.408499Z",
          "shell.execute_reply.started": "2023-12-22T13:58:57.401930Z"
        },
        "id": "1hk7Nv_fv1wk",
        "outputId": "7c8d991a-3ba6-4110-8afe-e0d735b8a1d0",
        "trusted": true
      },
      "outputs": [
        {
          "name": "stdout",
          "output_type": "stream",
          "text": [
            "6881\n"
          ]
        }
      ],
      "source": [
        "#get vocab size\n",
        "vocab_size = tokenizer.get_vocab_size()\n",
        "print(vocab_size)"
      ]
    },
    {
      "cell_type": "code",
      "execution_count": 41,
      "metadata": {
        "colab": {
          "base_uri": "https://localhost:8080/"
        },
        "execution": {
          "iopub.execute_input": "2023-12-22T13:59:01.391002Z",
          "iopub.status.busy": "2023-12-22T13:59:01.390633Z",
          "iopub.status.idle": "2023-12-22T13:59:02.745207Z",
          "shell.execute_reply": "2023-12-22T13:59:02.744299Z",
          "shell.execute_reply.started": "2023-12-22T13:59:01.390970Z"
        },
        "id": "pxfX3cf7s1ps",
        "outputId": "70686131-0e1a-4b47-c054-c8d77b439bac",
        "trusted": true
      },
      "outputs": [
        {
          "name": "stderr",
          "output_type": "stream",
          "text": [
            "The tokenizer class you load from this checkpoint is not the same type as the class this function is called from. It may result in unexpected tokenization. \n",
            "The tokenizer class you load from this checkpoint is 'PreTrainedTokenizerFast'. \n",
            "The class this function is called from is 'RobertaTokenizerFast'.\n"
          ]
        },
        {
          "data": {
            "text/plain": [
              "('tokenizer/tokenizer_config.json',\n",
              " 'tokenizer/special_tokens_map.json',\n",
              " 'tokenizer/vocab.json',\n",
              " 'tokenizer/merges.txt',\n",
              " 'tokenizer/added_tokens.json',\n",
              " 'tokenizer/tokenizer.json')"
            ]
          },
          "execution_count": 41,
          "metadata": {},
          "output_type": "execute_result"
        }
      ],
      "source": [
        "#saved fast tokenizer to file and convert it to roberta tokenizer\n",
        "fast_tokenizer = transformers.PreTrainedTokenizerFast(tokenizer_file='tokenizer.json')\n",
        "fast_tokenizer.save_pretrained('fast_tokenizer')\n",
        "\n",
        "tok = transformers.RobertaTokenizerFast.from_pretrained('fast_tokenizer')\n",
        "tok.unk_token_id = 0\n",
        "tok.sep_token_id = 1\n",
        "tok.mask_token_id = 2\n",
        "tok.cls_token_id = 3\n",
        "tok.pad_token_id = 4\n",
        "\n",
        "your_hugging_face_id=\"Mortrest\"\n",
        "tok.save_pretrained(f'{your_hugging_face_id}/parsig_pos', push_to_hub=True)\n",
        "tok.save_pretrained(f'{your_hugging_face_id}/parsig_tokenizer', push_to_hub=True)\n",
        "tok.save_pretrained('tokenizer')"
      ]
    },
    {
      "cell_type": "markdown",
      "metadata": {
        "id": "ZTXSKuHPHCHU"
      },
      "source": [
        "## 2-2-Data preparation"
      ]
    },
    {
      "cell_type": "code",
      "execution_count": 42,
      "metadata": {
        "execution": {
          "iopub.execute_input": "2023-12-22T13:59:03.790439Z",
          "iopub.status.busy": "2023-12-22T13:59:03.790059Z",
          "iopub.status.idle": "2023-12-22T13:59:03.797633Z",
          "shell.execute_reply": "2023-12-22T13:59:03.796631Z",
          "shell.execute_reply.started": "2023-12-22T13:59:03.790409Z"
        },
        "id": "lYxsLPWxgpZ-",
        "trusted": true
      },
      "outputs": [],
      "source": [
        "#define Custom Dataset class for our model\n",
        "class CustomDataset(torch.utils.data.Dataset):\n",
        "    def __init__(self, df, tokenizer):\n",
        "        # or use the RobertaTokenizer from `transformers` directly.\n",
        "        self.examples = []\n",
        "        # For every value in the dataframe\n",
        "        for example in df.values:\n",
        "            x=tokenizer.encode_plus(example, max_length = 100, truncation=True, padding=True)\n",
        "            self.examples += [{\"input_ids\":x.input_ids, \"attention_mask\": x.attention_mask}]\n",
        "\n",
        "    def __len__(self):\n",
        "        return len(self.examples)\n",
        "\n",
        "    def __getitem__(self, i):\n",
        "        # We’ll pad at the batch level.\n",
        "        return {key: torch.tensor(value) for key, value in self.examples[i].items()}"
      ]
    },
    {
      "cell_type": "code",
      "execution_count": 43,
      "metadata": {
        "colab": {
          "base_uri": "https://localhost:8080/"
        },
        "execution": {
          "iopub.execute_input": "2023-12-22T13:59:04.479239Z",
          "iopub.status.busy": "2023-12-22T13:59:04.478396Z",
          "iopub.status.idle": "2023-12-22T13:59:04.883440Z",
          "shell.execute_reply": "2023-12-22T13:59:04.882639Z",
          "shell.execute_reply.started": "2023-12-22T13:59:04.479202Z"
        },
        "id": "Hnr33GyoGrFN",
        "outputId": "22fe496e-7ece-4208-edbb-8a3a6fa7c69a",
        "trusted": true
      },
      "outputs": [
        {
          "name": "stderr",
          "output_type": "stream",
          "text": [
            "Special tokens have been added in the vocabulary, make sure the associated word embeddings are fine-tuned or trained.\n"
          ]
        }
      ],
      "source": [
        "#load tokenizer from trained model\n",
        "tokenizer = transformers.AutoTokenizer.from_pretrained('tokenizer', padding_side='right', max_length=100)\n",
        "\n",
        "#read files again for train model\n",
        "with open('/content/Parsi_Mianeh_Corpus.txt', 'r') as f:\n",
        "  fin_snt = f.read()\n",
        "fin_snt = fin_snt.split('\\n')[:-1]\n",
        "\n",
        "\n",
        "# Create the train and evaluation dataset\n",
        "train_data, eval_data = train_test_split(fin_snt, train_size=0.85)\n",
        "train_df = pd.DataFrame({'text': train_data})\n",
        "eval_df = pd.DataFrame({'text': eval_data})\n",
        "\n",
        "train_dataset = CustomDataset(train_df['text'], tokenizer)\n",
        "eval_dataset = CustomDataset(eval_df['text'], tokenizer)"
      ]
    },
    {
      "cell_type": "markdown",
      "metadata": {
        "id": "hqT3fZAEIArI"
      },
      "source": [
        "## 2-3-Define model and its Config"
      ]
    },
    {
      "cell_type": "code",
      "execution_count": 44,
      "metadata": {
        "colab": {
          "base_uri": "https://localhost:8080/"
        },
        "execution": {
          "iopub.execute_input": "2023-12-22T13:59:06.702942Z",
          "iopub.status.busy": "2023-12-22T13:59:06.702525Z",
          "iopub.status.idle": "2023-12-22T13:59:06.709291Z",
          "shell.execute_reply": "2023-12-22T13:59:06.708365Z",
          "shell.execute_reply.started": "2023-12-22T13:59:06.702909Z"
        },
        "id": "GrZrODkdTZ48",
        "outputId": "cfd03002-6a3d-4699-8749-bc499544fee9",
        "trusted": true
      },
      "outputs": [
        {
          "data": {
            "text/plain": [
              "RobertaTokenizerFast(name_or_path='tokenizer', vocab_size=6881, model_max_length=1000000000000000019884624838656, is_fast=True, padding_side='right', truncation_side='right', special_tokens={'bos_token': '<s>', 'eos_token': '</s>', 'unk_token': '[UNK]', 'sep_token': '[SEP]', 'pad_token': '[PAD]', 'cls_token': '[CLS]', 'mask_token': '[MASK]'}, clean_up_tokenization_spaces=True),  added_tokens_decoder={\n",
              "\t0: AddedToken(\"[UNK]\", rstrip=False, lstrip=False, single_word=False, normalized=False, special=True),\n",
              "\t1: AddedToken(\"[SEP]\", rstrip=False, lstrip=False, single_word=False, normalized=False, special=True),\n",
              "\t2: AddedToken(\"[MASK]\", rstrip=False, lstrip=False, single_word=False, normalized=False, special=True),\n",
              "\t3: AddedToken(\"[CLS]\", rstrip=False, lstrip=False, single_word=False, normalized=False, special=True),\n",
              "\t4: AddedToken(\"[PAD]\", rstrip=False, lstrip=False, single_word=False, normalized=False, special=True),\n",
              "\t6881: AddedToken(\"<s>\", rstrip=False, lstrip=False, single_word=False, normalized=False, special=True),\n",
              "\t6882: AddedToken(\"</s>\", rstrip=False, lstrip=False, single_word=False, normalized=False, special=True),\n",
              "\t6883: AddedToken(\"<unk>\", rstrip=False, lstrip=False, single_word=False, normalized=False, special=True),\n",
              "\t6884: AddedToken(\"<pad>\", rstrip=False, lstrip=False, single_word=False, normalized=False, special=True),\n",
              "\t6885: AddedToken(\"<mask>\", rstrip=False, lstrip=True, single_word=False, normalized=False, special=True),\n",
              "}"
            ]
          },
          "execution_count": 44,
          "metadata": {},
          "output_type": "execute_result"
        }
      ],
      "source": [
        "tokenizer"
      ]
    },
    {
      "cell_type": "code",
      "execution_count": 45,
      "metadata": {
        "execution": {
          "iopub.execute_input": "2023-12-22T13:59:07.273261Z",
          "iopub.status.busy": "2023-12-22T13:59:07.272533Z",
          "iopub.status.idle": "2023-12-22T13:59:09.960169Z",
          "shell.execute_reply": "2023-12-22T13:59:09.959149Z",
          "shell.execute_reply.started": "2023-12-22T13:59:07.273220Z"
        },
        "id": "VYxQQUaker61",
        "trusted": true
      },
      "outputs": [],
      "source": [
        "#generate config for train Roberta masked language model\n",
        "from transformers import RobertaForMaskedLM\n",
        "from transformers import RobertaConfig\n",
        "\n",
        "\"\"\" Define appropriate config and instantiate the model  \"\"\"\n",
        "\n",
        "config = RobertaConfig()\n",
        "model = RobertaForMaskedLM(config=config)\n"
      ]
    },
    {
      "cell_type": "code",
      "execution_count": 46,
      "metadata": {
        "execution": {
          "iopub.execute_input": "2023-12-22T13:59:09.962154Z",
          "iopub.status.busy": "2023-12-22T13:59:09.961812Z",
          "iopub.status.idle": "2023-12-22T13:59:19.397984Z",
          "shell.execute_reply": "2023-12-22T13:59:19.397080Z",
          "shell.execute_reply.started": "2023-12-22T13:59:09.962128Z"
        },
        "id": "nTQ6YP5SGsj0",
        "trusted": true
      },
      "outputs": [],
      "source": [
        "from transformers import DataCollatorForLanguageModeling\n",
        "\n",
        "\"\"\" Define datacollator for masked language modeling and set the appropriate parameters  \"\"\"\n",
        "data_collator = DataCollatorForLanguageModeling(\n",
        "    tokenizer=tokenizer,\n",
        "    mlm=True,\n",
        "    mlm_probability=0.15,\n",
        ")"
      ]
    },
    {
      "cell_type": "markdown",
      "metadata": {
        "id": "4LSOT5pGIJft"
      },
      "source": [
        "## 2-4-Set training arguments and define a Trainer"
      ]
    },
    {
      "cell_type": "code",
      "execution_count": 47,
      "metadata": {
        "execution": {
          "iopub.execute_input": "2023-12-22T13:59:26.129411Z",
          "iopub.status.busy": "2023-12-22T13:59:26.128779Z",
          "iopub.status.idle": "2023-12-22T13:59:31.382231Z",
          "shell.execute_reply": "2023-12-22T13:59:31.381402Z",
          "shell.execute_reply.started": "2023-12-22T13:59:26.129379Z"
        },
        "id": "YSutZcOVMgo0",
        "trusted": true
      },
      "outputs": [],
      "source": [
        "from transformers import Trainer, TrainingArguments, EarlyStoppingCallback\n",
        "\n",
        "NUM_EPOCHS = 200\n",
        "BATCH_SIZE = 64\n",
        "learning_rate = 1e-4\n",
        "checkpoints_output_dir = \"/content/mlm\"\n",
        "\n",
        "early_stopping_callback = EarlyStoppingCallback(\n",
        "    early_stopping_patience=5,\n",
        "    early_stopping_threshold=0.0002,\n",
        ")\n",
        "\n",
        "training_args = TrainingArguments(\n",
        "    output_dir=checkpoints_output_dir,\n",
        "    overwrite_output_dir=True,\n",
        "    num_train_epochs=NUM_EPOCHS,\n",
        "    per_device_train_batch_size=BATCH_SIZE,\n",
        "    learning_rate=learning_rate,\n",
        "    save_total_limit=2,\n",
        "    save_steps=500,\n",
        "    logging_dir=\"./logs\",\n",
        "    logging_steps=100,\n",
        "    evaluation_strategy=\"steps\",\n",
        "    eval_steps=100,\n",
        "    load_best_model_at_end=True,\n",
        "    metric_for_best_model=\"eval_loss\",\n",
        ")\n",
        "\n",
        "trainer = Trainer(\n",
        "    model=model,\n",
        "    args=training_args,\n",
        "    data_collator=data_collator,\n",
        "    train_dataset=train_dataset,\n",
        "    eval_dataset = eval_dataset,\n",
        "    callbacks=[early_stopping_callback],\n",
        ")\n"
      ]
    },
    {
      "cell_type": "markdown",
      "metadata": {
        "id": "GsV1xR1OOvgb"
      },
      "source": [
        "## 2-5-Training the model"
      ]
    },
    {
      "cell_type": "markdown",
      "metadata": {
        "id": "BkwZbgpUUEdT"
      },
      "source": [
        "<h4><font color=hotpink>Perplexity before Training</font></h4>"
      ]
    },
    {
      "cell_type": "markdown",
      "metadata": {
        "id": "vz7wAw1N5F23"
      },
      "source": [
        "\n",
        "*   <font color=lightblue>In information theory, perplexity is a measurement of how well a probability distribution or probability model predicts a sample. </font>\n",
        "*   <font color=lightblue>A low perplexity indicates the probability distribution is good at predicting the sample.</font>\n",
        "*   <font color=lightblue>The perplexity of a language model measures the degree of uncertainty of a LM when it generates a new token, averaged over very long sequences</font>\n",
        "\n",
        "<font color=lightpink>We will calculate perplexity before and after training, in order to see how well the model is doing:</font>"
      ]
    },
    {
      "cell_type": "code",
      "execution_count": 48,
      "metadata": {
        "colab": {
          "base_uri": "https://localhost:8080/",
          "height": 92
        },
        "execution": {
          "iopub.execute_input": "2023-12-22T10:56:19.688599Z",
          "iopub.status.busy": "2023-12-22T10:56:19.688184Z",
          "iopub.status.idle": "2023-12-22T10:58:33.159826Z",
          "shell.execute_reply": "2023-12-22T10:58:33.158818Z",
          "shell.execute_reply.started": "2023-12-22T10:56:19.688569Z"
        },
        "id": "7wHH6egbN4Oq",
        "outputId": "1f4a7b89-fa47-43e2-d417-19af893c2a19",
        "trusted": true
      },
      "outputs": [
        {
          "name": "stderr",
          "output_type": "stream",
          "text": [
            "You're using a RobertaTokenizerFast tokenizer. Please note that with a fast tokenizer, using the `__call__` method is faster than using a method to encode the text followed by a call to the `pad` method to get a padded encoding.\n"
          ]
        },
        {
          "data": {
            "text/html": [
              "\n",
              "    <div>\n",
              "      \n",
              "      <progress value='64' max='64' style='width:300px; height:20px; vertical-align: middle;'></progress>\n",
              "      [64/64 00:02]\n",
              "    </div>\n",
              "    "
            ],
            "text/plain": [
              "<IPython.core.display.HTML object>"
            ]
          },
          "metadata": {},
          "output_type": "display_data"
        },
        {
          "name": "stdout",
          "output_type": "stream",
          "text": [
            ">>> Perplexity: 54461.26\n"
          ]
        }
      ],
      "source": [
        "import math\n",
        "\n",
        "eval_results = trainer.evaluate()\n",
        "print(f\">>> Perplexity: {math.exp(eval_results['eval_loss']):.2f}\")"
      ]
    },
    {
      "cell_type": "markdown",
      "metadata": {
        "id": "dO2PUiyNKc_T"
      },
      "source": [
        "**Train the model and Save it**"
      ]
    },
    {
      "cell_type": "code",
      "execution_count": 49,
      "metadata": {
        "colab": {
          "base_uri": "https://localhost:8080/",
          "height": 541
        },
        "execution": {
          "iopub.execute_input": "2023-12-22T13:59:40.539977Z",
          "iopub.status.busy": "2023-12-22T13:59:40.539260Z",
          "iopub.status.idle": "2023-12-22T14:23:27.357522Z",
          "shell.execute_reply": "2023-12-22T14:23:27.355283Z",
          "shell.execute_reply.started": "2023-12-22T13:59:40.539940Z"
        },
        "id": "kTcDnOd4Kbky",
        "outputId": "5390286f-b31f-4789-fc4b-386d21b1fc4b",
        "trusted": true
      },
      "outputs": [
        {
          "data": {
            "text/html": [
              "\n",
              "    <div>\n",
              "      \n",
              "      <progress value='1200' max='9200' style='width:300px; height:20px; vertical-align: middle;'></progress>\n",
              "      [1200/9200 24:18 < 2:42:20, 0.82 it/s, Epoch 26/200]\n",
              "    </div>\n",
              "    <table border=\"1\" class=\"dataframe\">\n",
              "  <thead>\n",
              " <tr style=\"text-align: left;\">\n",
              "      <th>Step</th>\n",
              "      <th>Training Loss</th>\n",
              "      <th>Validation Loss</th>\n",
              "    </tr>\n",
              "  </thead>\n",
              "  <tbody>\n",
              "    <tr>\n",
              "      <td>100</td>\n",
              "      <td>7.128700</td>\n",
              "      <td>6.415595</td>\n",
              "    </tr>\n",
              "    <tr>\n",
              "      <td>200</td>\n",
              "      <td>6.234900</td>\n",
              "      <td>6.294248</td>\n",
              "    </tr>\n",
              "    <tr>\n",
              "      <td>300</td>\n",
              "      <td>6.129400</td>\n",
              "      <td>6.240099</td>\n",
              "    </tr>\n",
              "    <tr>\n",
              "      <td>400</td>\n",
              "      <td>6.083200</td>\n",
              "      <td>6.225763</td>\n",
              "    </tr>\n",
              "    <tr>\n",
              "      <td>500</td>\n",
              "      <td>6.387200</td>\n",
              "      <td>6.201651</td>\n",
              "    </tr>\n",
              "    <tr>\n",
              "      <td>600</td>\n",
              "      <td>6.057200</td>\n",
              "      <td>6.286014</td>\n",
              "    </tr>\n",
              "    <tr>\n",
              "      <td>700</td>\n",
              "      <td>6.042300</td>\n",
              "      <td>6.108440</td>\n",
              "    </tr>\n",
              "    <tr>\n",
              "      <td>800</td>\n",
              "      <td>6.031100</td>\n",
              "      <td>6.259767</td>\n",
              "    </tr>\n",
              "    <tr>\n",
              "      <td>900</td>\n",
              "      <td>6.009000</td>\n",
              "      <td>6.380611</td>\n",
              "    </tr>\n",
              "    <tr>\n",
              "      <td>1000</td>\n",
              "      <td>6.015200</td>\n",
              "      <td>6.228566</td>\n",
              "    </tr>\n",
              "    <tr>\n",
              "      <td>1100</td>\n",
              "      <td>6.000400</td>\n",
              "      <td>6.218699</td>\n",
              "    </tr>\n",
              "    <tr>\n",
              "      <td>1200</td>\n",
              "      <td>5.988700</td>\n",
              "      <td>6.406621</td>\n",
              "    </tr>\n",
              "  </tbody>\n",
              "</table><p>"
            ],
            "text/plain": [
              "<IPython.core.display.HTML object>"
            ]
          },
          "metadata": {},
          "output_type": "display_data"
        },
        {
          "data": {
            "text/html": [
              "\n",
              "    <div>\n",
              "      \n",
              "      <progress value='128' max='64' style='width:300px; height:20px; vertical-align: middle;'></progress>\n",
              "      [64/64 02:03]\n",
              "    </div>\n",
              "    "
            ],
            "text/plain": [
              "<IPython.core.display.HTML object>"
            ]
          },
          "metadata": {},
          "output_type": "display_data"
        },
        {
          "name": "stderr",
          "output_type": "stream",
          "text": [
            "There were missing keys in the checkpoint model loaded: ['lm_head.decoder.weight', 'lm_head.decoder.bias'].\n"
          ]
        },
        {
          "data": {
            "text/plain": [
              "TrainOutput(global_step=1200, training_loss=6.175617472330729, metrics={'train_runtime': 1459.9195, 'train_samples_per_second': 396.871, 'train_steps_per_second': 6.302, 'total_flos': 3260457407321532.0, 'train_loss': 6.175617472330729, 'epoch': 26.09})"
            ]
          },
          "execution_count": 49,
          "metadata": {},
          "output_type": "execute_result"
        }
      ],
      "source": [
        "# Train the model\n",
        "trainer.train()"
      ]
    },
    {
      "cell_type": "code",
      "execution_count": 50,
      "metadata": {
        "execution": {
          "iopub.execute_input": "2023-12-22T14:23:32.974358Z",
          "iopub.status.busy": "2023-12-22T14:23:32.973388Z",
          "iopub.status.idle": "2023-12-22T14:23:34.052638Z",
          "shell.execute_reply": "2023-12-22T14:23:34.051462Z",
          "shell.execute_reply.started": "2023-12-22T14:23:32.974322Z"
        },
        "id": "Q4u_mUlr5XO1",
        "trusted": true
      },
      "outputs": [],
      "source": [
        "path_to_save_model=\"/content/drive/MyDrive\"\n",
        "trainer.save_model(f\"{path_to_save_model}/model.pk\")"
      ]
    },
    {
      "cell_type": "code",
      "execution_count": 51,
      "metadata": {
        "colab": {
          "base_uri": "https://localhost:8080/"
        },
        "execution": {
          "iopub.execute_input": "2023-12-22T14:23:35.690977Z",
          "iopub.status.busy": "2023-12-22T14:23:35.690279Z",
          "iopub.status.idle": "2023-12-22T14:23:35.709515Z",
          "shell.execute_reply": "2023-12-22T14:23:35.708651Z",
          "shell.execute_reply.started": "2023-12-22T14:23:35.690940Z"
        },
        "id": "Tt8LiD6M0khP",
        "outputId": "e41813a2-5240-40f8-cb1a-cfb85485e3eb",
        "trusted": true
      },
      "outputs": [
        {
          "data": {
            "text/plain": [
              "('/content//tokenizer.pk/tokenizer_config.json',\n",
              " '/content//tokenizer.pk/special_tokens_map.json',\n",
              " '/content//tokenizer.pk/vocab.json',\n",
              " '/content//tokenizer.pk/merges.txt',\n",
              " '/content//tokenizer.pk/added_tokens.json',\n",
              " '/content//tokenizer.pk/tokenizer.json')"
            ]
          },
          "execution_count": 51,
          "metadata": {},
          "output_type": "execute_result"
        }
      ],
      "source": [
        "tokenizer.save_pretrained(f'{path_to_save_model}/tokenizer.pk')"
      ]
    },
    {
      "cell_type": "code",
      "execution_count": 52,
      "metadata": {
        "colab": {
          "base_uri": "https://localhost:8080/",
          "height": 131,
          "referenced_widgets": [
            "7e30beb4d91e49d2bfcf2822c69a190a",
            "8b027b80df1a48acade4d435d85a488b",
            "3344f1869026470abed7996234734e89",
            "0711ed1a65c94d6c8a85bd0e6fb7c81a",
            "b2f3ae7218214cf3bae36528b9206a0f",
            "d69a0e79703e4634886a1d52b3d88714",
            "9916df1e247c4047aacb416d62d9aed5",
            "7feff0b1e96a4708a3e2c4a60c3e6d47",
            "6b98b2d05d1f4e2dbf24824e859531e5",
            "9d02fac77ee94d70af54357476696137",
            "8ff987dd4f284f17bf1e22afd176bfd3",
            "3aeb7b4e56564e279c4724a76d977043",
            "215a1461868f41359c8a2b8bccf264cc",
            "472709c0d38f4667ab20e8440f36c944",
            "8c914401cbff4157be44230620ab9563",
            "cd500c8a72734b8d9127eacc2f16b8cb",
            "88c476be0741484ab2468b98048d977d",
            "7016d3923c1f4e03b43355a408ae9249",
            "662b7c7f98c34cb096baca14473eb3f0",
            "b7be9ca5f39f451288272fc19d262ff1",
            "848f653394a84bf59da515f4fe62a6a9",
            "1fd69ac9a0e74171a4aaab7dcfeb015d",
            "60b71fdbb16c4eedabe19496c3a7fcf0",
            "14d7543335b54a6e8deb5f8108bc2e9a",
            "84b6cc43fd564c6a9bdd9b4954066bf7",
            "86a3e18e6c324065be78ae9055f7170f",
            "d071002e1dc84a04b0cdaabff6ef6df7",
            "b739f64c7b6d4b14ae24d133a4631dae",
            "e686504ea68d4225936f6e532dae8a37",
            "15584a851e734a88838c6b5b0ea43e42",
            "e7051422263a4467a8106705c5f19bf2",
            "9202302a9cae4636961de117f48471ba",
            "e71ba7902aec47b0b1ef7d85ce1176d9"
          ]
        },
        "execution": {
          "iopub.execute_input": "2023-12-22T14:23:37.649054Z",
          "iopub.status.busy": "2023-12-22T14:23:37.648397Z",
          "iopub.status.idle": "2023-12-22T14:23:55.271522Z",
          "shell.execute_reply": "2023-12-22T14:23:55.270234Z",
          "shell.execute_reply.started": "2023-12-22T14:23:37.649021Z"
        },
        "id": "ysSlQ27Q5axO",
        "outputId": "4908a13e-1f78-488a-fda6-d78ac313fcb1",
        "trusted": true
      },
      "outputs": [
        {
          "data": {
            "application/vnd.jupyter.widget-view+json": {
              "model_id": "7e30beb4d91e49d2bfcf2822c69a190a",
              "version_major": 2,
              "version_minor": 0
            },
            "text/plain": [
              "Upload 2 LFS files:   0%|          | 0/2 [00:00<?, ?it/s]"
            ]
          },
          "metadata": {},
          "output_type": "display_data"
        },
        {
          "data": {
            "application/vnd.jupyter.widget-view+json": {
              "model_id": "3aeb7b4e56564e279c4724a76d977043",
              "version_major": 2,
              "version_minor": 0
            },
            "text/plain": [
              "model.safetensors:   0%|          | 0.00/499M [00:00<?, ?B/s]"
            ]
          },
          "metadata": {},
          "output_type": "display_data"
        },
        {
          "data": {
            "application/vnd.jupyter.widget-view+json": {
              "model_id": "60b71fdbb16c4eedabe19496c3a7fcf0",
              "version_major": 2,
              "version_minor": 0
            },
            "text/plain": [
              "training_args.bin:   0%|          | 0.00/4.54k [00:00<?, ?B/s]"
            ]
          },
          "metadata": {},
          "output_type": "display_data"
        },
        {
          "data": {
            "application/vnd.google.colaboratory.intrinsic+json": {
              "type": "string"
            },
            "text/plain": [
              "'https://huggingface.co/Mahdi-Salahshour/mlm/tree/main/'"
            ]
          },
          "execution_count": 52,
          "metadata": {},
          "output_type": "execute_result"
        }
      ],
      "source": [
        "trainer.push_to_hub()"
      ]
    },
    {
      "cell_type": "code",
      "execution_count": 53,
      "metadata": {
        "colab": {
          "base_uri": "https://localhost:8080/"
        },
        "execution": {
          "iopub.execute_input": "2023-12-22T14:24:01.450104Z",
          "iopub.status.busy": "2023-12-22T14:24:01.449670Z",
          "iopub.status.idle": "2023-12-22T14:24:05.374319Z",
          "shell.execute_reply": "2023-12-22T14:24:05.373056Z",
          "shell.execute_reply.started": "2023-12-22T14:24:01.450071Z"
        },
        "id": "18iY2gzC0k2h",
        "outputId": "cb05f91c-eec4-4f7c-e6d9-f1a698576563",
        "trusted": true
      },
      "outputs": [
        {
          "data": {
            "text/plain": [
              "('Mortrest/mlm_tokenizer/tokenizer_config.json',\n",
              " 'Mortrest/mlm_tokenizer/special_tokens_map.json',\n",
              " 'Mortrest/mlm_tokenizer/vocab.json',\n",
              " 'Mortrest/mlm_tokenizer/merges.txt',\n",
              " 'Mortrest/mlm_tokenizer/added_tokens.json',\n",
              " 'Mortrest/mlm_tokenizer/tokenizer.json')"
            ]
          },
          "execution_count": 53,
          "metadata": {},
          "output_type": "execute_result"
        }
      ],
      "source": [
        "tokenizer.save_pretrained(f'{your_hugging_face_id}/mlm_tokenizer', push_to_hub=True)"
      ]
    },
    {
      "cell_type": "markdown",
      "metadata": {
        "id": "c2mBruvxURGS"
      },
      "source": [
        "<h4><font color=hotpink>Perplexity after Training</font></h4>"
      ]
    },
    {
      "cell_type": "code",
      "execution_count": 54,
      "metadata": {
        "colab": {
          "base_uri": "https://localhost:8080/",
          "height": 54
        },
        "execution": {
          "iopub.execute_input": "2023-12-22T14:24:11.109662Z",
          "iopub.status.busy": "2023-12-22T14:24:11.109248Z",
          "iopub.status.idle": "2023-12-22T14:24:12.849865Z",
          "shell.execute_reply": "2023-12-22T14:24:12.848987Z",
          "shell.execute_reply.started": "2023-12-22T14:24:11.109627Z"
        },
        "id": "iMYApW8UN7gO",
        "outputId": "2a4222cb-b817-474f-9870-10a451900cdb",
        "trusted": true
      },
      "outputs": [
        {
          "data": {
            "text/html": [
              "\n",
              "    <div>\n",
              "      \n",
              "      <progress value='64' max='64' style='width:300px; height:20px; vertical-align: middle;'></progress>\n",
              "      [64/64 00:02]\n",
              "    </div>\n",
              "    "
            ],
            "text/plain": [
              "<IPython.core.display.HTML object>"
            ]
          },
          "metadata": {},
          "output_type": "display_data"
        },
        {
          "name": "stdout",
          "output_type": "stream",
          "text": [
            ">>> Perplexity: 534.21\n"
          ]
        }
      ],
      "source": [
        "eval_results = trainer.evaluate()\n",
        "print(f\">>> Perplexity: {math.exp(eval_results['eval_loss']):.2f}\")"
      ]
    },
    {
      "cell_type": "code",
      "execution_count": 55,
      "metadata": {
        "colab": {
          "base_uri": "https://localhost:8080/"
        },
        "execution": {
          "iopub.execute_input": "2023-12-22T14:24:15.696082Z",
          "iopub.status.busy": "2023-12-22T14:24:15.695712Z",
          "iopub.status.idle": "2023-12-22T14:24:18.734921Z",
          "shell.execute_reply": "2023-12-22T14:24:18.732293Z",
          "shell.execute_reply.started": "2023-12-22T14:24:15.696051Z"
        },
        "id": "ugmqLiks46Mf",
        "outputId": "18fbf635-bbd3-4e38-efc8-79be323bfda5",
        "trusted": true
      },
      "outputs": [
        {
          "name": "stdout",
          "output_type": "stream",
          "text": [
            ">>> hamāg - zōhr pus ī wāspuhr ī šāhān - ī dāmān pahlomtom andar gēhān abāyišnīgtom\n",
            ">>> hamāg - zōhr pus ī wāspuhr ī šāhān ī ī dāmān pahlomtom andar gēhān abāyišnīgtom\n",
            ">>> hamāg - zōhr pus ī wāspuhr ī šāhān ud ī dāmān pahlomtom andar gēhān abāyišnīgtom\n",
            ">>> hamāg - zōhr pus ī wāspuhr ī šāhān pad ī dāmān pahlomtom andar gēhān abāyišnīgtom\n",
            ">>> hamāg - zōhr pus ī wāspuhr ī šāhān be ī dāmān pahlomtom andar gēhān abāyišnīgtom\n"
          ]
        }
      ],
      "source": [
        "from transformers import pipeline\n",
        "\n",
        "model=model.to(\"cpu\")\n",
        "mask_filler = pipeline('fill-mask', model=model, tokenizer=tokenizer)\n",
        "\n",
        "masked_query=\"hamāg-zōhr pus ī wāspuhr ī šāhān [MASK] ī dāmān pahlomtom andar gēhān abāyišnīgtom\"\n",
        "preds=mask_filler(masked_query)\n",
        "\n",
        "for pred in preds:\n",
        "    print(f\">>> {pred['sequence']}\")"
      ]
    }
  ],
  "metadata": {
    "accelerator": "GPU",
    "colab": {
      "collapsed_sections": [
        "detIdW4eVJsV",
        "_6C7a70U5E5x",
        "FoiUphZzvzX-",
        "VpVv_m6lv8vB",
        "G73cmtcE1c9A",
        "r22vwGSW1qxZ",
        "3FMHUw0874c8",
        "NxTNofhRNi84",
        "u2gjb2p1Ux7g",
        "ewYp_Z474-Lh",
        "0DkOJRfkG4NN",
        "ZTXSKuHPHCHU",
        "hqT3fZAEIArI",
        "4LSOT5pGIJft",
        "GsV1xR1OOvgb"
      ],
      "provenance": []
    },
    "kaggle": {
      "accelerator": "gpu",
      "dataSources": [
        {
          "datasetId": 4207490,
          "sourceId": 7260168,
          "sourceType": "datasetVersion"
        }
      ],
      "dockerImageVersionId": 30626,
      "isGpuEnabled": true,
      "isInternetEnabled": true,
      "language": "python",
      "sourceType": "notebook"
    },
    "kernelspec": {
      "display_name": "Python 3",
      "language": "python",
      "name": "python3"
    },
    "language_info": {
      "codemirror_mode": {
        "name": "ipython",
        "version": 3
      },
      "file_extension": ".py",
      "mimetype": "text/x-python",
      "name": "python",
      "nbconvert_exporter": "python",
      "pygments_lexer": "ipython3",
      "version": "3.10.12"
    },
    "widgets": {
      "application/vnd.jupyter.widget-state+json": {
        "014f66320a1c47e4805cf30876845551": {
          "model_module": "@jupyter-widgets/base",
          "model_module_version": "1.2.0",
          "model_name": "LayoutModel",
          "state": {
            "_model_module": "@jupyter-widgets/base",
            "_model_module_version": "1.2.0",
            "_model_name": "LayoutModel",
            "_view_count": null,
            "_view_module": "@jupyter-widgets/base",
            "_view_module_version": "1.2.0",
            "_view_name": "LayoutView",
            "align_content": null,
            "align_items": null,
            "align_self": null,
            "border": null,
            "bottom": null,
            "display": null,
            "flex": null,
            "flex_flow": null,
            "grid_area": null,
            "grid_auto_columns": null,
            "grid_auto_flow": null,
            "grid_auto_rows": null,
            "grid_column": null,
            "grid_gap": null,
            "grid_row": null,
            "grid_template_areas": null,
            "grid_template_columns": null,
            "grid_template_rows": null,
            "height": null,
            "justify_content": null,
            "justify_items": null,
            "left": null,
            "margin": null,
            "max_height": null,
            "max_width": null,
            "min_height": null,
            "min_width": null,
            "object_fit": null,
            "object_position": null,
            "order": null,
            "overflow": null,
            "overflow_x": null,
            "overflow_y": null,
            "padding": null,
            "right": null,
            "top": null,
            "visibility": null,
            "width": null
          }
        },
        "028d6134307f40c1861bef2ece1ee4f0": {
          "model_module": "@jupyter-widgets/base",
          "model_module_version": "1.2.0",
          "model_name": "LayoutModel",
          "state": {
            "_model_module": "@jupyter-widgets/base",
            "_model_module_version": "1.2.0",
            "_model_name": "LayoutModel",
            "_view_count": null,
            "_view_module": "@jupyter-widgets/base",
            "_view_module_version": "1.2.0",
            "_view_name": "LayoutView",
            "align_content": null,
            "align_items": null,
            "align_self": null,
            "border": null,
            "bottom": null,
            "display": null,
            "flex": null,
            "flex_flow": null,
            "grid_area": null,
            "grid_auto_columns": null,
            "grid_auto_flow": null,
            "grid_auto_rows": null,
            "grid_column": null,
            "grid_gap": null,
            "grid_row": null,
            "grid_template_areas": null,
            "grid_template_columns": null,
            "grid_template_rows": null,
            "height": null,
            "justify_content": null,
            "justify_items": null,
            "left": null,
            "margin": null,
            "max_height": null,
            "max_width": null,
            "min_height": null,
            "min_width": null,
            "object_fit": null,
            "object_position": null,
            "order": null,
            "overflow": null,
            "overflow_x": null,
            "overflow_y": null,
            "padding": null,
            "right": null,
            "top": null,
            "visibility": null,
            "width": null
          }
        },
        "0711ed1a65c94d6c8a85bd0e6fb7c81a": {
          "model_module": "@jupyter-widgets/controls",
          "model_module_version": "1.5.0",
          "model_name": "HTMLModel",
          "state": {
            "_dom_classes": [],
            "_model_module": "@jupyter-widgets/controls",
            "_model_module_version": "1.5.0",
            "_model_name": "HTMLModel",
            "_view_count": null,
            "_view_module": "@jupyter-widgets/controls",
            "_view_module_version": "1.5.0",
            "_view_name": "HTMLView",
            "description": "",
            "description_tooltip": null,
            "layout": "IPY_MODEL_9d02fac77ee94d70af54357476696137",
            "placeholder": "​",
            "style": "IPY_MODEL_8ff987dd4f284f17bf1e22afd176bfd3",
            "value": " 2/2 [00:11&lt;00:00, 11.61s/it]"
          }
        },
        "14d7543335b54a6e8deb5f8108bc2e9a": {
          "model_module": "@jupyter-widgets/controls",
          "model_module_version": "1.5.0",
          "model_name": "HTMLModel",
          "state": {
            "_dom_classes": [],
            "_model_module": "@jupyter-widgets/controls",
            "_model_module_version": "1.5.0",
            "_model_name": "HTMLModel",
            "_view_count": null,
            "_view_module": "@jupyter-widgets/controls",
            "_view_module_version": "1.5.0",
            "_view_name": "HTMLView",
            "description": "",
            "description_tooltip": null,
            "layout": "IPY_MODEL_b739f64c7b6d4b14ae24d133a4631dae",
            "placeholder": "​",
            "style": "IPY_MODEL_e686504ea68d4225936f6e532dae8a37",
            "value": "training_args.bin: 100%"
          }
        },
        "15584a851e734a88838c6b5b0ea43e42": {
          "model_module": "@jupyter-widgets/base",
          "model_module_version": "1.2.0",
          "model_name": "LayoutModel",
          "state": {
            "_model_module": "@jupyter-widgets/base",
            "_model_module_version": "1.2.0",
            "_model_name": "LayoutModel",
            "_view_count": null,
            "_view_module": "@jupyter-widgets/base",
            "_view_module_version": "1.2.0",
            "_view_name": "LayoutView",
            "align_content": null,
            "align_items": null,
            "align_self": null,
            "border": null,
            "bottom": null,
            "display": null,
            "flex": null,
            "flex_flow": null,
            "grid_area": null,
            "grid_auto_columns": null,
            "grid_auto_flow": null,
            "grid_auto_rows": null,
            "grid_column": null,
            "grid_gap": null,
            "grid_row": null,
            "grid_template_areas": null,
            "grid_template_columns": null,
            "grid_template_rows": null,
            "height": null,
            "justify_content": null,
            "justify_items": null,
            "left": null,
            "margin": null,
            "max_height": null,
            "max_width": null,
            "min_height": null,
            "min_width": null,
            "object_fit": null,
            "object_position": null,
            "order": null,
            "overflow": null,
            "overflow_x": null,
            "overflow_y": null,
            "padding": null,
            "right": null,
            "top": null,
            "visibility": null,
            "width": null
          }
        },
        "167d1a907bb147e6a2149524e7018bc2": {
          "model_module": "@jupyter-widgets/controls",
          "model_module_version": "1.5.0",
          "model_name": "HTMLModel",
          "state": {
            "_dom_classes": [],
            "_model_module": "@jupyter-widgets/controls",
            "_model_module_version": "1.5.0",
            "_model_name": "HTMLModel",
            "_view_count": null,
            "_view_module": "@jupyter-widgets/controls",
            "_view_module_version": "1.5.0",
            "_view_name": "HTMLView",
            "description": "",
            "description_tooltip": null,
            "layout": "IPY_MODEL_8aae8514d20845918e95db3732d6f0e1",
            "placeholder": "​",
            "style": "IPY_MODEL_478abf59965b4c2cb7dd49b177786822",
            "value": "<center> <img\nsrc=https://huggingface.co/front/assets/huggingface_logo-noborder.svg\nalt='Hugging Face'> <br> Copy a token from <a\nhref=\"https://huggingface.co/settings/tokens\" target=\"_blank\">your Hugging Face\ntokens page</a> and paste it below. <br> Immediately click login after copying\nyour token or it might be stored in plain text in this notebook file. </center>"
          }
        },
        "1d9c9619b1574c059d94446e9ed3ba1c": {
          "model_module": "@jupyter-widgets/base",
          "model_module_version": "1.2.0",
          "model_name": "LayoutModel",
          "state": {
            "_model_module": "@jupyter-widgets/base",
            "_model_module_version": "1.2.0",
            "_model_name": "LayoutModel",
            "_view_count": null,
            "_view_module": "@jupyter-widgets/base",
            "_view_module_version": "1.2.0",
            "_view_name": "LayoutView",
            "align_content": null,
            "align_items": null,
            "align_self": null,
            "border": null,
            "bottom": null,
            "display": null,
            "flex": null,
            "flex_flow": null,
            "grid_area": null,
            "grid_auto_columns": null,
            "grid_auto_flow": null,
            "grid_auto_rows": null,
            "grid_column": null,
            "grid_gap": null,
            "grid_row": null,
            "grid_template_areas": null,
            "grid_template_columns": null,
            "grid_template_rows": null,
            "height": null,
            "justify_content": null,
            "justify_items": null,
            "left": null,
            "margin": null,
            "max_height": null,
            "max_width": null,
            "min_height": null,
            "min_width": null,
            "object_fit": null,
            "object_position": null,
            "order": null,
            "overflow": null,
            "overflow_x": null,
            "overflow_y": null,
            "padding": null,
            "right": null,
            "top": null,
            "visibility": null,
            "width": null
          }
        },
        "1fd69ac9a0e74171a4aaab7dcfeb015d": {
          "model_module": "@jupyter-widgets/controls",
          "model_module_version": "1.5.0",
          "model_name": "DescriptionStyleModel",
          "state": {
            "_model_module": "@jupyter-widgets/controls",
            "_model_module_version": "1.5.0",
            "_model_name": "DescriptionStyleModel",
            "_view_count": null,
            "_view_module": "@jupyter-widgets/base",
            "_view_module_version": "1.2.0",
            "_view_name": "StyleView",
            "description_width": ""
          }
        },
        "215a1461868f41359c8a2b8bccf264cc": {
          "model_module": "@jupyter-widgets/controls",
          "model_module_version": "1.5.0",
          "model_name": "HTMLModel",
          "state": {
            "_dom_classes": [],
            "_model_module": "@jupyter-widgets/controls",
            "_model_module_version": "1.5.0",
            "_model_name": "HTMLModel",
            "_view_count": null,
            "_view_module": "@jupyter-widgets/controls",
            "_view_module_version": "1.5.0",
            "_view_name": "HTMLView",
            "description": "",
            "description_tooltip": null,
            "layout": "IPY_MODEL_88c476be0741484ab2468b98048d977d",
            "placeholder": "​",
            "style": "IPY_MODEL_7016d3923c1f4e03b43355a408ae9249",
            "value": "model.safetensors: 100%"
          }
        },
        "2e1a088b955d46f0a3d3bdee84226710": {
          "model_module": "@jupyter-widgets/controls",
          "model_module_version": "1.5.0",
          "model_name": "HTMLModel",
          "state": {
            "_dom_classes": [],
            "_model_module": "@jupyter-widgets/controls",
            "_model_module_version": "1.5.0",
            "_model_name": "HTMLModel",
            "_view_count": null,
            "_view_module": "@jupyter-widgets/controls",
            "_view_module_version": "1.5.0",
            "_view_name": "HTMLView",
            "description": "",
            "description_tooltip": null,
            "layout": "IPY_MODEL_dae0103b55aa41a181a080e53ff3140e",
            "placeholder": "​",
            "style": "IPY_MODEL_dcb0ac262bb74bafa5d86ad60850c460",
            "value": " 3409/3409 [00:00&lt;00:00, 4024.49 examples/s]"
          }
        },
        "3344f1869026470abed7996234734e89": {
          "model_module": "@jupyter-widgets/controls",
          "model_module_version": "1.5.0",
          "model_name": "FloatProgressModel",
          "state": {
            "_dom_classes": [],
            "_model_module": "@jupyter-widgets/controls",
            "_model_module_version": "1.5.0",
            "_model_name": "FloatProgressModel",
            "_view_count": null,
            "_view_module": "@jupyter-widgets/controls",
            "_view_module_version": "1.5.0",
            "_view_name": "ProgressView",
            "bar_style": "success",
            "description": "",
            "description_tooltip": null,
            "layout": "IPY_MODEL_7feff0b1e96a4708a3e2c4a60c3e6d47",
            "max": 2,
            "min": 0,
            "orientation": "horizontal",
            "style": "IPY_MODEL_6b98b2d05d1f4e2dbf24824e859531e5",
            "value": 2
          }
        },
        "33ad3d7f0d744df3af5b36c925c92055": {
          "model_module": "@jupyter-widgets/controls",
          "model_module_version": "1.5.0",
          "model_name": "HBoxModel",
          "state": {
            "_dom_classes": [],
            "_model_module": "@jupyter-widgets/controls",
            "_model_module_version": "1.5.0",
            "_model_name": "HBoxModel",
            "_view_count": null,
            "_view_module": "@jupyter-widgets/controls",
            "_view_module_version": "1.5.0",
            "_view_name": "HBoxView",
            "box_style": "",
            "children": [
              "IPY_MODEL_f2530b349b534a7aba6d92ece656d890",
              "IPY_MODEL_eeacf6b3ed6a4880b325277561eda09e",
              "IPY_MODEL_2e1a088b955d46f0a3d3bdee84226710"
            ],
            "layout": "IPY_MODEL_e2a02111939a41e78e73d831e1f6c0fc"
          }
        },
        "33f80e54389e41eeb49aad3b97afc1c9": {
          "model_module": "@jupyter-widgets/controls",
          "model_module_version": "1.5.0",
          "model_name": "ButtonStyleModel",
          "state": {
            "_model_module": "@jupyter-widgets/controls",
            "_model_module_version": "1.5.0",
            "_model_name": "ButtonStyleModel",
            "_view_count": null,
            "_view_module": "@jupyter-widgets/base",
            "_view_module_version": "1.2.0",
            "_view_name": "StyleView",
            "button_color": null,
            "font_weight": ""
          }
        },
        "3aeb7b4e56564e279c4724a76d977043": {
          "model_module": "@jupyter-widgets/controls",
          "model_module_version": "1.5.0",
          "model_name": "HBoxModel",
          "state": {
            "_dom_classes": [],
            "_model_module": "@jupyter-widgets/controls",
            "_model_module_version": "1.5.0",
            "_model_name": "HBoxModel",
            "_view_count": null,
            "_view_module": "@jupyter-widgets/controls",
            "_view_module_version": "1.5.0",
            "_view_name": "HBoxView",
            "box_style": "",
            "children": [
              "IPY_MODEL_215a1461868f41359c8a2b8bccf264cc",
              "IPY_MODEL_472709c0d38f4667ab20e8440f36c944",
              "IPY_MODEL_8c914401cbff4157be44230620ab9563"
            ],
            "layout": "IPY_MODEL_cd500c8a72734b8d9127eacc2f16b8cb"
          }
        },
        "3b83398943534eedae67aa5bf915aef7": {
          "model_module": "@jupyter-widgets/controls",
          "model_module_version": "1.5.0",
          "model_name": "ProgressStyleModel",
          "state": {
            "_model_module": "@jupyter-widgets/controls",
            "_model_module_version": "1.5.0",
            "_model_name": "ProgressStyleModel",
            "_view_count": null,
            "_view_module": "@jupyter-widgets/base",
            "_view_module_version": "1.2.0",
            "_view_name": "StyleView",
            "bar_color": null,
            "description_width": ""
          }
        },
        "3e9178b8e5234b5aa7ab3040946d3234": {
          "model_module": "@jupyter-widgets/controls",
          "model_module_version": "1.5.0",
          "model_name": "DescriptionStyleModel",
          "state": {
            "_model_module": "@jupyter-widgets/controls",
            "_model_module_version": "1.5.0",
            "_model_name": "DescriptionStyleModel",
            "_view_count": null,
            "_view_module": "@jupyter-widgets/base",
            "_view_module_version": "1.2.0",
            "_view_name": "StyleView",
            "description_width": ""
          }
        },
        "435cd42a55a14222b99be5e26fdcdb67": {
          "model_module": "@jupyter-widgets/controls",
          "model_module_version": "1.5.0",
          "model_name": "HTMLModel",
          "state": {
            "_dom_classes": [],
            "_model_module": "@jupyter-widgets/controls",
            "_model_module_version": "1.5.0",
            "_model_name": "HTMLModel",
            "_view_count": null,
            "_view_module": "@jupyter-widgets/controls",
            "_view_module_version": "1.5.0",
            "_view_name": "HTMLView",
            "description": "",
            "description_tooltip": null,
            "layout": "IPY_MODEL_1d9c9619b1574c059d94446e9ed3ba1c",
            "placeholder": "​",
            "style": "IPY_MODEL_dbef1de2cc9e42d5bad46767502e32eb",
            "value": "<center> <img\nsrc=https://huggingface.co/front/assets/huggingface_logo-noborder.svg\nalt='Hugging Face'> <br> Copy a token from <a\nhref=\"https://huggingface.co/settings/tokens\" target=\"_blank\">your Hugging Face\ntokens page</a> and paste it below. <br> Immediately click login after copying\nyour token or it might be stored in plain text in this notebook file. </center>"
          }
        },
        "43ebed9ee548421a858054ba106cbcaf": {
          "model_module": "@jupyter-widgets/controls",
          "model_module_version": "1.5.0",
          "model_name": "DescriptionStyleModel",
          "state": {
            "_model_module": "@jupyter-widgets/controls",
            "_model_module_version": "1.5.0",
            "_model_name": "DescriptionStyleModel",
            "_view_count": null,
            "_view_module": "@jupyter-widgets/base",
            "_view_module_version": "1.2.0",
            "_view_name": "StyleView",
            "description_width": ""
          }
        },
        "472709c0d38f4667ab20e8440f36c944": {
          "model_module": "@jupyter-widgets/controls",
          "model_module_version": "1.5.0",
          "model_name": "FloatProgressModel",
          "state": {
            "_dom_classes": [],
            "_model_module": "@jupyter-widgets/controls",
            "_model_module_version": "1.5.0",
            "_model_name": "FloatProgressModel",
            "_view_count": null,
            "_view_module": "@jupyter-widgets/controls",
            "_view_module_version": "1.5.0",
            "_view_name": "ProgressView",
            "bar_style": "success",
            "description": "",
            "description_tooltip": null,
            "layout": "IPY_MODEL_662b7c7f98c34cb096baca14473eb3f0",
            "max": 498810876,
            "min": 0,
            "orientation": "horizontal",
            "style": "IPY_MODEL_b7be9ca5f39f451288272fc19d262ff1",
            "value": 498810876
          }
        },
        "478abf59965b4c2cb7dd49b177786822": {
          "model_module": "@jupyter-widgets/controls",
          "model_module_version": "1.5.0",
          "model_name": "DescriptionStyleModel",
          "state": {
            "_model_module": "@jupyter-widgets/controls",
            "_model_module_version": "1.5.0",
            "_model_name": "DescriptionStyleModel",
            "_view_count": null,
            "_view_module": "@jupyter-widgets/base",
            "_view_module_version": "1.2.0",
            "_view_name": "StyleView",
            "description_width": ""
          }
        },
        "49906e5d695e4aadb58d9b779fe31483": {
          "model_module": "@jupyter-widgets/controls",
          "model_module_version": "1.5.0",
          "model_name": "CheckboxModel",
          "state": {
            "_dom_classes": [],
            "_model_module": "@jupyter-widgets/controls",
            "_model_module_version": "1.5.0",
            "_model_name": "CheckboxModel",
            "_view_count": null,
            "_view_module": "@jupyter-widgets/controls",
            "_view_module_version": "1.5.0",
            "_view_name": "CheckboxView",
            "description": "Add token as git credential?",
            "description_tooltip": null,
            "disabled": false,
            "indent": true,
            "layout": "IPY_MODEL_f811b4b9f5914062902ca72883e7fcec",
            "style": "IPY_MODEL_43ebed9ee548421a858054ba106cbcaf",
            "value": true
          }
        },
        "4b004fbb149d48aebc26705c596cb4f6": {
          "model_module": "@jupyter-widgets/controls",
          "model_module_version": "1.5.0",
          "model_name": "DescriptionStyleModel",
          "state": {
            "_model_module": "@jupyter-widgets/controls",
            "_model_module_version": "1.5.0",
            "_model_name": "DescriptionStyleModel",
            "_view_count": null,
            "_view_module": "@jupyter-widgets/base",
            "_view_module_version": "1.2.0",
            "_view_name": "StyleView",
            "description_width": ""
          }
        },
        "4f8237edda774cd6a9125c99bb8eab32": {
          "model_module": "@jupyter-widgets/controls",
          "model_module_version": "1.5.0",
          "model_name": "PasswordModel",
          "state": {
            "_dom_classes": [],
            "_model_module": "@jupyter-widgets/controls",
            "_model_module_version": "1.5.0",
            "_model_name": "PasswordModel",
            "_view_count": null,
            "_view_module": "@jupyter-widgets/controls",
            "_view_module_version": "1.5.0",
            "_view_name": "PasswordView",
            "continuous_update": true,
            "description": "Token:",
            "description_tooltip": null,
            "disabled": false,
            "layout": "IPY_MODEL_dca383baa12a4d0c97548aafcc6fc934",
            "placeholder": "​",
            "style": "IPY_MODEL_4b004fbb149d48aebc26705c596cb4f6",
            "value": ""
          }
        },
        "537970aed04e48d79bd70d35c509f1bf": {
          "model_module": "@jupyter-widgets/controls",
          "model_module_version": "1.5.0",
          "model_name": "ButtonModel",
          "state": {
            "_dom_classes": [],
            "_model_module": "@jupyter-widgets/controls",
            "_model_module_version": "1.5.0",
            "_model_name": "ButtonModel",
            "_view_count": null,
            "_view_module": "@jupyter-widgets/controls",
            "_view_module_version": "1.5.0",
            "_view_name": "ButtonView",
            "button_style": "",
            "description": "Login",
            "disabled": false,
            "icon": "",
            "layout": "IPY_MODEL_028d6134307f40c1861bef2ece1ee4f0",
            "style": "IPY_MODEL_89c6118601064401ab4a2e83410e8787",
            "tooltip": ""
          }
        },
        "60b71fdbb16c4eedabe19496c3a7fcf0": {
          "model_module": "@jupyter-widgets/controls",
          "model_module_version": "1.5.0",
          "model_name": "HBoxModel",
          "state": {
            "_dom_classes": [],
            "_model_module": "@jupyter-widgets/controls",
            "_model_module_version": "1.5.0",
            "_model_name": "HBoxModel",
            "_view_count": null,
            "_view_module": "@jupyter-widgets/controls",
            "_view_module_version": "1.5.0",
            "_view_name": "HBoxView",
            "box_style": "",
            "children": [
              "IPY_MODEL_14d7543335b54a6e8deb5f8108bc2e9a",
              "IPY_MODEL_84b6cc43fd564c6a9bdd9b4954066bf7",
              "IPY_MODEL_86a3e18e6c324065be78ae9055f7170f"
            ],
            "layout": "IPY_MODEL_d071002e1dc84a04b0cdaabff6ef6df7"
          }
        },
        "662b7c7f98c34cb096baca14473eb3f0": {
          "model_module": "@jupyter-widgets/base",
          "model_module_version": "1.2.0",
          "model_name": "LayoutModel",
          "state": {
            "_model_module": "@jupyter-widgets/base",
            "_model_module_version": "1.2.0",
            "_model_name": "LayoutModel",
            "_view_count": null,
            "_view_module": "@jupyter-widgets/base",
            "_view_module_version": "1.2.0",
            "_view_name": "LayoutView",
            "align_content": null,
            "align_items": null,
            "align_self": null,
            "border": null,
            "bottom": null,
            "display": null,
            "flex": null,
            "flex_flow": null,
            "grid_area": null,
            "grid_auto_columns": null,
            "grid_auto_flow": null,
            "grid_auto_rows": null,
            "grid_column": null,
            "grid_gap": null,
            "grid_row": null,
            "grid_template_areas": null,
            "grid_template_columns": null,
            "grid_template_rows": null,
            "height": null,
            "justify_content": null,
            "justify_items": null,
            "left": null,
            "margin": null,
            "max_height": null,
            "max_width": null,
            "min_height": null,
            "min_width": null,
            "object_fit": null,
            "object_position": null,
            "order": null,
            "overflow": null,
            "overflow_x": null,
            "overflow_y": null,
            "padding": null,
            "right": null,
            "top": null,
            "visibility": null,
            "width": null
          }
        },
        "6b98b2d05d1f4e2dbf24824e859531e5": {
          "model_module": "@jupyter-widgets/controls",
          "model_module_version": "1.5.0",
          "model_name": "ProgressStyleModel",
          "state": {
            "_model_module": "@jupyter-widgets/controls",
            "_model_module_version": "1.5.0",
            "_model_name": "ProgressStyleModel",
            "_view_count": null,
            "_view_module": "@jupyter-widgets/base",
            "_view_module_version": "1.2.0",
            "_view_name": "StyleView",
            "bar_color": null,
            "description_width": ""
          }
        },
        "7016d3923c1f4e03b43355a408ae9249": {
          "model_module": "@jupyter-widgets/controls",
          "model_module_version": "1.5.0",
          "model_name": "DescriptionStyleModel",
          "state": {
            "_model_module": "@jupyter-widgets/controls",
            "_model_module_version": "1.5.0",
            "_model_name": "DescriptionStyleModel",
            "_view_count": null,
            "_view_module": "@jupyter-widgets/base",
            "_view_module_version": "1.2.0",
            "_view_name": "StyleView",
            "description_width": ""
          }
        },
        "7e30beb4d91e49d2bfcf2822c69a190a": {
          "model_module": "@jupyter-widgets/controls",
          "model_module_version": "1.5.0",
          "model_name": "HBoxModel",
          "state": {
            "_dom_classes": [],
            "_model_module": "@jupyter-widgets/controls",
            "_model_module_version": "1.5.0",
            "_model_name": "HBoxModel",
            "_view_count": null,
            "_view_module": "@jupyter-widgets/controls",
            "_view_module_version": "1.5.0",
            "_view_name": "HBoxView",
            "box_style": "",
            "children": [
              "IPY_MODEL_8b027b80df1a48acade4d435d85a488b",
              "IPY_MODEL_3344f1869026470abed7996234734e89",
              "IPY_MODEL_0711ed1a65c94d6c8a85bd0e6fb7c81a"
            ],
            "layout": "IPY_MODEL_b2f3ae7218214cf3bae36528b9206a0f"
          }
        },
        "7feff0b1e96a4708a3e2c4a60c3e6d47": {
          "model_module": "@jupyter-widgets/base",
          "model_module_version": "1.2.0",
          "model_name": "LayoutModel",
          "state": {
            "_model_module": "@jupyter-widgets/base",
            "_model_module_version": "1.2.0",
            "_model_name": "LayoutModel",
            "_view_count": null,
            "_view_module": "@jupyter-widgets/base",
            "_view_module_version": "1.2.0",
            "_view_name": "LayoutView",
            "align_content": null,
            "align_items": null,
            "align_self": null,
            "border": null,
            "bottom": null,
            "display": null,
            "flex": null,
            "flex_flow": null,
            "grid_area": null,
            "grid_auto_columns": null,
            "grid_auto_flow": null,
            "grid_auto_rows": null,
            "grid_column": null,
            "grid_gap": null,
            "grid_row": null,
            "grid_template_areas": null,
            "grid_template_columns": null,
            "grid_template_rows": null,
            "height": null,
            "justify_content": null,
            "justify_items": null,
            "left": null,
            "margin": null,
            "max_height": null,
            "max_width": null,
            "min_height": null,
            "min_width": null,
            "object_fit": null,
            "object_position": null,
            "order": null,
            "overflow": null,
            "overflow_x": null,
            "overflow_y": null,
            "padding": null,
            "right": null,
            "top": null,
            "visibility": null,
            "width": null
          }
        },
        "83929cd05cd44aef844034315c018761": {
          "model_module": "@jupyter-widgets/controls",
          "model_module_version": "1.5.0",
          "model_name": "DescriptionStyleModel",
          "state": {
            "_model_module": "@jupyter-widgets/controls",
            "_model_module_version": "1.5.0",
            "_model_name": "DescriptionStyleModel",
            "_view_count": null,
            "_view_module": "@jupyter-widgets/base",
            "_view_module_version": "1.2.0",
            "_view_name": "StyleView",
            "description_width": ""
          }
        },
        "848f653394a84bf59da515f4fe62a6a9": {
          "model_module": "@jupyter-widgets/base",
          "model_module_version": "1.2.0",
          "model_name": "LayoutModel",
          "state": {
            "_model_module": "@jupyter-widgets/base",
            "_model_module_version": "1.2.0",
            "_model_name": "LayoutModel",
            "_view_count": null,
            "_view_module": "@jupyter-widgets/base",
            "_view_module_version": "1.2.0",
            "_view_name": "LayoutView",
            "align_content": null,
            "align_items": null,
            "align_self": null,
            "border": null,
            "bottom": null,
            "display": null,
            "flex": null,
            "flex_flow": null,
            "grid_area": null,
            "grid_auto_columns": null,
            "grid_auto_flow": null,
            "grid_auto_rows": null,
            "grid_column": null,
            "grid_gap": null,
            "grid_row": null,
            "grid_template_areas": null,
            "grid_template_columns": null,
            "grid_template_rows": null,
            "height": null,
            "justify_content": null,
            "justify_items": null,
            "left": null,
            "margin": null,
            "max_height": null,
            "max_width": null,
            "min_height": null,
            "min_width": null,
            "object_fit": null,
            "object_position": null,
            "order": null,
            "overflow": null,
            "overflow_x": null,
            "overflow_y": null,
            "padding": null,
            "right": null,
            "top": null,
            "visibility": null,
            "width": null
          }
        },
        "84b6cc43fd564c6a9bdd9b4954066bf7": {
          "model_module": "@jupyter-widgets/controls",
          "model_module_version": "1.5.0",
          "model_name": "FloatProgressModel",
          "state": {
            "_dom_classes": [],
            "_model_module": "@jupyter-widgets/controls",
            "_model_module_version": "1.5.0",
            "_model_name": "FloatProgressModel",
            "_view_count": null,
            "_view_module": "@jupyter-widgets/controls",
            "_view_module_version": "1.5.0",
            "_view_name": "ProgressView",
            "bar_style": "success",
            "description": "",
            "description_tooltip": null,
            "layout": "IPY_MODEL_15584a851e734a88838c6b5b0ea43e42",
            "max": 4536,
            "min": 0,
            "orientation": "horizontal",
            "style": "IPY_MODEL_e7051422263a4467a8106705c5f19bf2",
            "value": 4536
          }
        },
        "86a3e18e6c324065be78ae9055f7170f": {
          "model_module": "@jupyter-widgets/controls",
          "model_module_version": "1.5.0",
          "model_name": "HTMLModel",
          "state": {
            "_dom_classes": [],
            "_model_module": "@jupyter-widgets/controls",
            "_model_module_version": "1.5.0",
            "_model_name": "HTMLModel",
            "_view_count": null,
            "_view_module": "@jupyter-widgets/controls",
            "_view_module_version": "1.5.0",
            "_view_name": "HTMLView",
            "description": "",
            "description_tooltip": null,
            "layout": "IPY_MODEL_9202302a9cae4636961de117f48471ba",
            "placeholder": "​",
            "style": "IPY_MODEL_e71ba7902aec47b0b1ef7d85ce1176d9",
            "value": " 4.54k/4.54k [00:00&lt;00:00, 17.4kB/s]"
          }
        },
        "88c476be0741484ab2468b98048d977d": {
          "model_module": "@jupyter-widgets/base",
          "model_module_version": "1.2.0",
          "model_name": "LayoutModel",
          "state": {
            "_model_module": "@jupyter-widgets/base",
            "_model_module_version": "1.2.0",
            "_model_name": "LayoutModel",
            "_view_count": null,
            "_view_module": "@jupyter-widgets/base",
            "_view_module_version": "1.2.0",
            "_view_name": "LayoutView",
            "align_content": null,
            "align_items": null,
            "align_self": null,
            "border": null,
            "bottom": null,
            "display": null,
            "flex": null,
            "flex_flow": null,
            "grid_area": null,
            "grid_auto_columns": null,
            "grid_auto_flow": null,
            "grid_auto_rows": null,
            "grid_column": null,
            "grid_gap": null,
            "grid_row": null,
            "grid_template_areas": null,
            "grid_template_columns": null,
            "grid_template_rows": null,
            "height": null,
            "justify_content": null,
            "justify_items": null,
            "left": null,
            "margin": null,
            "max_height": null,
            "max_width": null,
            "min_height": null,
            "min_width": null,
            "object_fit": null,
            "object_position": null,
            "order": null,
            "overflow": null,
            "overflow_x": null,
            "overflow_y": null,
            "padding": null,
            "right": null,
            "top": null,
            "visibility": null,
            "width": null
          }
        },
        "89c6118601064401ab4a2e83410e8787": {
          "model_module": "@jupyter-widgets/controls",
          "model_module_version": "1.5.0",
          "model_name": "ButtonStyleModel",
          "state": {
            "_model_module": "@jupyter-widgets/controls",
            "_model_module_version": "1.5.0",
            "_model_name": "ButtonStyleModel",
            "_view_count": null,
            "_view_module": "@jupyter-widgets/base",
            "_view_module_version": "1.2.0",
            "_view_name": "StyleView",
            "button_color": null,
            "font_weight": ""
          }
        },
        "8aae8514d20845918e95db3732d6f0e1": {
          "model_module": "@jupyter-widgets/base",
          "model_module_version": "1.2.0",
          "model_name": "LayoutModel",
          "state": {
            "_model_module": "@jupyter-widgets/base",
            "_model_module_version": "1.2.0",
            "_model_name": "LayoutModel",
            "_view_count": null,
            "_view_module": "@jupyter-widgets/base",
            "_view_module_version": "1.2.0",
            "_view_name": "LayoutView",
            "align_content": null,
            "align_items": null,
            "align_self": null,
            "border": null,
            "bottom": null,
            "display": null,
            "flex": null,
            "flex_flow": null,
            "grid_area": null,
            "grid_auto_columns": null,
            "grid_auto_flow": null,
            "grid_auto_rows": null,
            "grid_column": null,
            "grid_gap": null,
            "grid_row": null,
            "grid_template_areas": null,
            "grid_template_columns": null,
            "grid_template_rows": null,
            "height": null,
            "justify_content": null,
            "justify_items": null,
            "left": null,
            "margin": null,
            "max_height": null,
            "max_width": null,
            "min_height": null,
            "min_width": null,
            "object_fit": null,
            "object_position": null,
            "order": null,
            "overflow": null,
            "overflow_x": null,
            "overflow_y": null,
            "padding": null,
            "right": null,
            "top": null,
            "visibility": null,
            "width": null
          }
        },
        "8b027b80df1a48acade4d435d85a488b": {
          "model_module": "@jupyter-widgets/controls",
          "model_module_version": "1.5.0",
          "model_name": "HTMLModel",
          "state": {
            "_dom_classes": [],
            "_model_module": "@jupyter-widgets/controls",
            "_model_module_version": "1.5.0",
            "_model_name": "HTMLModel",
            "_view_count": null,
            "_view_module": "@jupyter-widgets/controls",
            "_view_module_version": "1.5.0",
            "_view_name": "HTMLView",
            "description": "",
            "description_tooltip": null,
            "layout": "IPY_MODEL_d69a0e79703e4634886a1d52b3d88714",
            "placeholder": "​",
            "style": "IPY_MODEL_9916df1e247c4047aacb416d62d9aed5",
            "value": "Upload 2 LFS files: 100%"
          }
        },
        "8b63748e96f74817a5339e93659a55df": {
          "model_module": "@jupyter-widgets/base",
          "model_module_version": "1.2.0",
          "model_name": "LayoutModel",
          "state": {
            "_model_module": "@jupyter-widgets/base",
            "_model_module_version": "1.2.0",
            "_model_name": "LayoutModel",
            "_view_count": null,
            "_view_module": "@jupyter-widgets/base",
            "_view_module_version": "1.2.0",
            "_view_name": "LayoutView",
            "align_content": null,
            "align_items": null,
            "align_self": null,
            "border": null,
            "bottom": null,
            "display": null,
            "flex": null,
            "flex_flow": null,
            "grid_area": null,
            "grid_auto_columns": null,
            "grid_auto_flow": null,
            "grid_auto_rows": null,
            "grid_column": null,
            "grid_gap": null,
            "grid_row": null,
            "grid_template_areas": null,
            "grid_template_columns": null,
            "grid_template_rows": null,
            "height": null,
            "justify_content": null,
            "justify_items": null,
            "left": null,
            "margin": null,
            "max_height": null,
            "max_width": null,
            "min_height": null,
            "min_width": null,
            "object_fit": null,
            "object_position": null,
            "order": null,
            "overflow": null,
            "overflow_x": null,
            "overflow_y": null,
            "padding": null,
            "right": null,
            "top": null,
            "visibility": null,
            "width": null
          }
        },
        "8c914401cbff4157be44230620ab9563": {
          "model_module": "@jupyter-widgets/controls",
          "model_module_version": "1.5.0",
          "model_name": "HTMLModel",
          "state": {
            "_dom_classes": [],
            "_model_module": "@jupyter-widgets/controls",
            "_model_module_version": "1.5.0",
            "_model_name": "HTMLModel",
            "_view_count": null,
            "_view_module": "@jupyter-widgets/controls",
            "_view_module_version": "1.5.0",
            "_view_name": "HTMLView",
            "description": "",
            "description_tooltip": null,
            "layout": "IPY_MODEL_848f653394a84bf59da515f4fe62a6a9",
            "placeholder": "​",
            "style": "IPY_MODEL_1fd69ac9a0e74171a4aaab7dcfeb015d",
            "value": " 499M/499M [00:11&lt;00:00, 48.0MB/s]"
          }
        },
        "8d3a3c8276714ce5a059fbe9bb8b4917": {
          "model_module": "@jupyter-widgets/controls",
          "model_module_version": "1.5.0",
          "model_name": "PasswordModel",
          "state": {
            "_dom_classes": [],
            "_model_module": "@jupyter-widgets/controls",
            "_model_module_version": "1.5.0",
            "_model_name": "PasswordModel",
            "_view_count": null,
            "_view_module": "@jupyter-widgets/controls",
            "_view_module_version": "1.5.0",
            "_view_name": "PasswordView",
            "continuous_update": true,
            "description": "Token:",
            "description_tooltip": null,
            "disabled": false,
            "layout": "IPY_MODEL_e207f892baa64c4cb97478345f7a6c56",
            "placeholder": "​",
            "style": "IPY_MODEL_fc0c0d7a3aa74187b835f11a15a83917",
            "value": ""
          }
        },
        "8ff987dd4f284f17bf1e22afd176bfd3": {
          "model_module": "@jupyter-widgets/controls",
          "model_module_version": "1.5.0",
          "model_name": "DescriptionStyleModel",
          "state": {
            "_model_module": "@jupyter-widgets/controls",
            "_model_module_version": "1.5.0",
            "_model_name": "DescriptionStyleModel",
            "_view_count": null,
            "_view_module": "@jupyter-widgets/base",
            "_view_module_version": "1.2.0",
            "_view_name": "StyleView",
            "description_width": ""
          }
        },
        "9202302a9cae4636961de117f48471ba": {
          "model_module": "@jupyter-widgets/base",
          "model_module_version": "1.2.0",
          "model_name": "LayoutModel",
          "state": {
            "_model_module": "@jupyter-widgets/base",
            "_model_module_version": "1.2.0",
            "_model_name": "LayoutModel",
            "_view_count": null,
            "_view_module": "@jupyter-widgets/base",
            "_view_module_version": "1.2.0",
            "_view_name": "LayoutView",
            "align_content": null,
            "align_items": null,
            "align_self": null,
            "border": null,
            "bottom": null,
            "display": null,
            "flex": null,
            "flex_flow": null,
            "grid_area": null,
            "grid_auto_columns": null,
            "grid_auto_flow": null,
            "grid_auto_rows": null,
            "grid_column": null,
            "grid_gap": null,
            "grid_row": null,
            "grid_template_areas": null,
            "grid_template_columns": null,
            "grid_template_rows": null,
            "height": null,
            "justify_content": null,
            "justify_items": null,
            "left": null,
            "margin": null,
            "max_height": null,
            "max_width": null,
            "min_height": null,
            "min_width": null,
            "object_fit": null,
            "object_position": null,
            "order": null,
            "overflow": null,
            "overflow_x": null,
            "overflow_y": null,
            "padding": null,
            "right": null,
            "top": null,
            "visibility": null,
            "width": null
          }
        },
        "9916df1e247c4047aacb416d62d9aed5": {
          "model_module": "@jupyter-widgets/controls",
          "model_module_version": "1.5.0",
          "model_name": "DescriptionStyleModel",
          "state": {
            "_model_module": "@jupyter-widgets/controls",
            "_model_module_version": "1.5.0",
            "_model_name": "DescriptionStyleModel",
            "_view_count": null,
            "_view_module": "@jupyter-widgets/base",
            "_view_module_version": "1.2.0",
            "_view_name": "StyleView",
            "description_width": ""
          }
        },
        "9d02fac77ee94d70af54357476696137": {
          "model_module": "@jupyter-widgets/base",
          "model_module_version": "1.2.0",
          "model_name": "LayoutModel",
          "state": {
            "_model_module": "@jupyter-widgets/base",
            "_model_module_version": "1.2.0",
            "_model_name": "LayoutModel",
            "_view_count": null,
            "_view_module": "@jupyter-widgets/base",
            "_view_module_version": "1.2.0",
            "_view_name": "LayoutView",
            "align_content": null,
            "align_items": null,
            "align_self": null,
            "border": null,
            "bottom": null,
            "display": null,
            "flex": null,
            "flex_flow": null,
            "grid_area": null,
            "grid_auto_columns": null,
            "grid_auto_flow": null,
            "grid_auto_rows": null,
            "grid_column": null,
            "grid_gap": null,
            "grid_row": null,
            "grid_template_areas": null,
            "grid_template_columns": null,
            "grid_template_rows": null,
            "height": null,
            "justify_content": null,
            "justify_items": null,
            "left": null,
            "margin": null,
            "max_height": null,
            "max_width": null,
            "min_height": null,
            "min_width": null,
            "object_fit": null,
            "object_position": null,
            "order": null,
            "overflow": null,
            "overflow_x": null,
            "overflow_y": null,
            "padding": null,
            "right": null,
            "top": null,
            "visibility": null,
            "width": null
          }
        },
        "a3214d5ff65542d6b482e6ba5edf55fd": {
          "model_module": "@jupyter-widgets/controls",
          "model_module_version": "1.5.0",
          "model_name": "VBoxModel",
          "state": {
            "_dom_classes": [],
            "_model_module": "@jupyter-widgets/controls",
            "_model_module_version": "1.5.0",
            "_model_name": "VBoxModel",
            "_view_count": null,
            "_view_module": "@jupyter-widgets/controls",
            "_view_module_version": "1.5.0",
            "_view_name": "VBoxView",
            "box_style": "",
            "children": [
              "IPY_MODEL_167d1a907bb147e6a2149524e7018bc2",
              "IPY_MODEL_4f8237edda774cd6a9125c99bb8eab32",
              "IPY_MODEL_49906e5d695e4aadb58d9b779fe31483",
              "IPY_MODEL_cae4d327b31e4642a8a7d9ee03336fc6",
              "IPY_MODEL_e6d5b66f4b6843a8b20e92332e75ae02"
            ],
            "layout": "IPY_MODEL_a4710ffa63ed472fbfeb5e813a357459"
          }
        },
        "a410da9bc27447e1bcdc441631c5b997": {
          "model_module": "@jupyter-widgets/base",
          "model_module_version": "1.2.0",
          "model_name": "LayoutModel",
          "state": {
            "_model_module": "@jupyter-widgets/base",
            "_model_module_version": "1.2.0",
            "_model_name": "LayoutModel",
            "_view_count": null,
            "_view_module": "@jupyter-widgets/base",
            "_view_module_version": "1.2.0",
            "_view_name": "LayoutView",
            "align_content": null,
            "align_items": null,
            "align_self": null,
            "border": null,
            "bottom": null,
            "display": null,
            "flex": null,
            "flex_flow": null,
            "grid_area": null,
            "grid_auto_columns": null,
            "grid_auto_flow": null,
            "grid_auto_rows": null,
            "grid_column": null,
            "grid_gap": null,
            "grid_row": null,
            "grid_template_areas": null,
            "grid_template_columns": null,
            "grid_template_rows": null,
            "height": null,
            "justify_content": null,
            "justify_items": null,
            "left": null,
            "margin": null,
            "max_height": null,
            "max_width": null,
            "min_height": null,
            "min_width": null,
            "object_fit": null,
            "object_position": null,
            "order": null,
            "overflow": null,
            "overflow_x": null,
            "overflow_y": null,
            "padding": null,
            "right": null,
            "top": null,
            "visibility": null,
            "width": null
          }
        },
        "a4710ffa63ed472fbfeb5e813a357459": {
          "model_module": "@jupyter-widgets/base",
          "model_module_version": "1.2.0",
          "model_name": "LayoutModel",
          "state": {
            "_model_module": "@jupyter-widgets/base",
            "_model_module_version": "1.2.0",
            "_model_name": "LayoutModel",
            "_view_count": null,
            "_view_module": "@jupyter-widgets/base",
            "_view_module_version": "1.2.0",
            "_view_name": "LayoutView",
            "align_content": null,
            "align_items": "center",
            "align_self": null,
            "border": null,
            "bottom": null,
            "display": "flex",
            "flex": null,
            "flex_flow": "column",
            "grid_area": null,
            "grid_auto_columns": null,
            "grid_auto_flow": null,
            "grid_auto_rows": null,
            "grid_column": null,
            "grid_gap": null,
            "grid_row": null,
            "grid_template_areas": null,
            "grid_template_columns": null,
            "grid_template_rows": null,
            "height": null,
            "justify_content": null,
            "justify_items": null,
            "left": null,
            "margin": null,
            "max_height": null,
            "max_width": null,
            "min_height": null,
            "min_width": null,
            "object_fit": null,
            "object_position": null,
            "order": null,
            "overflow": null,
            "overflow_x": null,
            "overflow_y": null,
            "padding": null,
            "right": null,
            "top": null,
            "visibility": null,
            "width": "50%"
          }
        },
        "b2f3ae7218214cf3bae36528b9206a0f": {
          "model_module": "@jupyter-widgets/base",
          "model_module_version": "1.2.0",
          "model_name": "LayoutModel",
          "state": {
            "_model_module": "@jupyter-widgets/base",
            "_model_module_version": "1.2.0",
            "_model_name": "LayoutModel",
            "_view_count": null,
            "_view_module": "@jupyter-widgets/base",
            "_view_module_version": "1.2.0",
            "_view_name": "LayoutView",
            "align_content": null,
            "align_items": null,
            "align_self": null,
            "border": null,
            "bottom": null,
            "display": null,
            "flex": null,
            "flex_flow": null,
            "grid_area": null,
            "grid_auto_columns": null,
            "grid_auto_flow": null,
            "grid_auto_rows": null,
            "grid_column": null,
            "grid_gap": null,
            "grid_row": null,
            "grid_template_areas": null,
            "grid_template_columns": null,
            "grid_template_rows": null,
            "height": null,
            "justify_content": null,
            "justify_items": null,
            "left": null,
            "margin": null,
            "max_height": null,
            "max_width": null,
            "min_height": null,
            "min_width": null,
            "object_fit": null,
            "object_position": null,
            "order": null,
            "overflow": null,
            "overflow_x": null,
            "overflow_y": null,
            "padding": null,
            "right": null,
            "top": null,
            "visibility": null,
            "width": null
          }
        },
        "b6a3fa6b482c4b11b27cdf88bf9f486d": {
          "model_module": "@jupyter-widgets/base",
          "model_module_version": "1.2.0",
          "model_name": "LayoutModel",
          "state": {
            "_model_module": "@jupyter-widgets/base",
            "_model_module_version": "1.2.0",
            "_model_name": "LayoutModel",
            "_view_count": null,
            "_view_module": "@jupyter-widgets/base",
            "_view_module_version": "1.2.0",
            "_view_name": "LayoutView",
            "align_content": null,
            "align_items": null,
            "align_self": null,
            "border": null,
            "bottom": null,
            "display": null,
            "flex": null,
            "flex_flow": null,
            "grid_area": null,
            "grid_auto_columns": null,
            "grid_auto_flow": null,
            "grid_auto_rows": null,
            "grid_column": null,
            "grid_gap": null,
            "grid_row": null,
            "grid_template_areas": null,
            "grid_template_columns": null,
            "grid_template_rows": null,
            "height": null,
            "justify_content": null,
            "justify_items": null,
            "left": null,
            "margin": null,
            "max_height": null,
            "max_width": null,
            "min_height": null,
            "min_width": null,
            "object_fit": null,
            "object_position": null,
            "order": null,
            "overflow": null,
            "overflow_x": null,
            "overflow_y": null,
            "padding": null,
            "right": null,
            "top": null,
            "visibility": null,
            "width": null
          }
        },
        "b739f64c7b6d4b14ae24d133a4631dae": {
          "model_module": "@jupyter-widgets/base",
          "model_module_version": "1.2.0",
          "model_name": "LayoutModel",
          "state": {
            "_model_module": "@jupyter-widgets/base",
            "_model_module_version": "1.2.0",
            "_model_name": "LayoutModel",
            "_view_count": null,
            "_view_module": "@jupyter-widgets/base",
            "_view_module_version": "1.2.0",
            "_view_name": "LayoutView",
            "align_content": null,
            "align_items": null,
            "align_self": null,
            "border": null,
            "bottom": null,
            "display": null,
            "flex": null,
            "flex_flow": null,
            "grid_area": null,
            "grid_auto_columns": null,
            "grid_auto_flow": null,
            "grid_auto_rows": null,
            "grid_column": null,
            "grid_gap": null,
            "grid_row": null,
            "grid_template_areas": null,
            "grid_template_columns": null,
            "grid_template_rows": null,
            "height": null,
            "justify_content": null,
            "justify_items": null,
            "left": null,
            "margin": null,
            "max_height": null,
            "max_width": null,
            "min_height": null,
            "min_width": null,
            "object_fit": null,
            "object_position": null,
            "order": null,
            "overflow": null,
            "overflow_x": null,
            "overflow_y": null,
            "padding": null,
            "right": null,
            "top": null,
            "visibility": null,
            "width": null
          }
        },
        "b7be9ca5f39f451288272fc19d262ff1": {
          "model_module": "@jupyter-widgets/controls",
          "model_module_version": "1.5.0",
          "model_name": "ProgressStyleModel",
          "state": {
            "_model_module": "@jupyter-widgets/controls",
            "_model_module_version": "1.5.0",
            "_model_name": "ProgressStyleModel",
            "_view_count": null,
            "_view_module": "@jupyter-widgets/base",
            "_view_module_version": "1.2.0",
            "_view_name": "StyleView",
            "bar_color": null,
            "description_width": ""
          }
        },
        "c2743a676c784d4788eca05d8c7f85e0": {
          "model_module": "@jupyter-widgets/base",
          "model_module_version": "1.2.0",
          "model_name": "LayoutModel",
          "state": {
            "_model_module": "@jupyter-widgets/base",
            "_model_module_version": "1.2.0",
            "_model_name": "LayoutModel",
            "_view_count": null,
            "_view_module": "@jupyter-widgets/base",
            "_view_module_version": "1.2.0",
            "_view_name": "LayoutView",
            "align_content": null,
            "align_items": null,
            "align_self": null,
            "border": null,
            "bottom": null,
            "display": null,
            "flex": null,
            "flex_flow": null,
            "grid_area": null,
            "grid_auto_columns": null,
            "grid_auto_flow": null,
            "grid_auto_rows": null,
            "grid_column": null,
            "grid_gap": null,
            "grid_row": null,
            "grid_template_areas": null,
            "grid_template_columns": null,
            "grid_template_rows": null,
            "height": null,
            "justify_content": null,
            "justify_items": null,
            "left": null,
            "margin": null,
            "max_height": null,
            "max_width": null,
            "min_height": null,
            "min_width": null,
            "object_fit": null,
            "object_position": null,
            "order": null,
            "overflow": null,
            "overflow_x": null,
            "overflow_y": null,
            "padding": null,
            "right": null,
            "top": null,
            "visibility": null,
            "width": null
          }
        },
        "c31cd988364d4c6eaaf747408c492561": {
          "model_module": "@jupyter-widgets/base",
          "model_module_version": "1.2.0",
          "model_name": "LayoutModel",
          "state": {
            "_model_module": "@jupyter-widgets/base",
            "_model_module_version": "1.2.0",
            "_model_name": "LayoutModel",
            "_view_count": null,
            "_view_module": "@jupyter-widgets/base",
            "_view_module_version": "1.2.0",
            "_view_name": "LayoutView",
            "align_content": null,
            "align_items": null,
            "align_self": null,
            "border": null,
            "bottom": null,
            "display": null,
            "flex": null,
            "flex_flow": null,
            "grid_area": null,
            "grid_auto_columns": null,
            "grid_auto_flow": null,
            "grid_auto_rows": null,
            "grid_column": null,
            "grid_gap": null,
            "grid_row": null,
            "grid_template_areas": null,
            "grid_template_columns": null,
            "grid_template_rows": null,
            "height": null,
            "justify_content": null,
            "justify_items": null,
            "left": null,
            "margin": null,
            "max_height": null,
            "max_width": null,
            "min_height": null,
            "min_width": null,
            "object_fit": null,
            "object_position": null,
            "order": null,
            "overflow": null,
            "overflow_x": null,
            "overflow_y": null,
            "padding": null,
            "right": null,
            "top": null,
            "visibility": null,
            "width": null
          }
        },
        "cae4d327b31e4642a8a7d9ee03336fc6": {
          "model_module": "@jupyter-widgets/controls",
          "model_module_version": "1.5.0",
          "model_name": "ButtonModel",
          "state": {
            "_dom_classes": [],
            "_model_module": "@jupyter-widgets/controls",
            "_model_module_version": "1.5.0",
            "_model_name": "ButtonModel",
            "_view_count": null,
            "_view_module": "@jupyter-widgets/controls",
            "_view_module_version": "1.5.0",
            "_view_name": "ButtonView",
            "button_style": "",
            "description": "Login",
            "disabled": false,
            "icon": "",
            "layout": "IPY_MODEL_c2743a676c784d4788eca05d8c7f85e0",
            "style": "IPY_MODEL_33f80e54389e41eeb49aad3b97afc1c9",
            "tooltip": ""
          }
        },
        "cb9aff2cd81847938e58e308d737b690": {
          "model_module": "@jupyter-widgets/controls",
          "model_module_version": "1.5.0",
          "model_name": "VBoxModel",
          "state": {
            "_dom_classes": [],
            "_model_module": "@jupyter-widgets/controls",
            "_model_module_version": "1.5.0",
            "_model_name": "VBoxModel",
            "_view_count": null,
            "_view_module": "@jupyter-widgets/controls",
            "_view_module_version": "1.5.0",
            "_view_name": "VBoxView",
            "box_style": "",
            "children": [
              "IPY_MODEL_435cd42a55a14222b99be5e26fdcdb67",
              "IPY_MODEL_8d3a3c8276714ce5a059fbe9bb8b4917",
              "IPY_MODEL_dd5990dbe4d54fefbc20e5cac7f58069",
              "IPY_MODEL_537970aed04e48d79bd70d35c509f1bf",
              "IPY_MODEL_d0d6a1c1ec74440496cce0b63b4c27a5"
            ],
            "layout": "IPY_MODEL_cc4eb62b66aa40a8893eb23317fbb753"
          }
        },
        "cc4eb62b66aa40a8893eb23317fbb753": {
          "model_module": "@jupyter-widgets/base",
          "model_module_version": "1.2.0",
          "model_name": "LayoutModel",
          "state": {
            "_model_module": "@jupyter-widgets/base",
            "_model_module_version": "1.2.0",
            "_model_name": "LayoutModel",
            "_view_count": null,
            "_view_module": "@jupyter-widgets/base",
            "_view_module_version": "1.2.0",
            "_view_name": "LayoutView",
            "align_content": null,
            "align_items": "center",
            "align_self": null,
            "border": null,
            "bottom": null,
            "display": "flex",
            "flex": null,
            "flex_flow": "column",
            "grid_area": null,
            "grid_auto_columns": null,
            "grid_auto_flow": null,
            "grid_auto_rows": null,
            "grid_column": null,
            "grid_gap": null,
            "grid_row": null,
            "grid_template_areas": null,
            "grid_template_columns": null,
            "grid_template_rows": null,
            "height": null,
            "justify_content": null,
            "justify_items": null,
            "left": null,
            "margin": null,
            "max_height": null,
            "max_width": null,
            "min_height": null,
            "min_width": null,
            "object_fit": null,
            "object_position": null,
            "order": null,
            "overflow": null,
            "overflow_x": null,
            "overflow_y": null,
            "padding": null,
            "right": null,
            "top": null,
            "visibility": null,
            "width": "50%"
          }
        },
        "cd500c8a72734b8d9127eacc2f16b8cb": {
          "model_module": "@jupyter-widgets/base",
          "model_module_version": "1.2.0",
          "model_name": "LayoutModel",
          "state": {
            "_model_module": "@jupyter-widgets/base",
            "_model_module_version": "1.2.0",
            "_model_name": "LayoutModel",
            "_view_count": null,
            "_view_module": "@jupyter-widgets/base",
            "_view_module_version": "1.2.0",
            "_view_name": "LayoutView",
            "align_content": null,
            "align_items": null,
            "align_self": null,
            "border": null,
            "bottom": null,
            "display": null,
            "flex": null,
            "flex_flow": null,
            "grid_area": null,
            "grid_auto_columns": null,
            "grid_auto_flow": null,
            "grid_auto_rows": null,
            "grid_column": null,
            "grid_gap": null,
            "grid_row": null,
            "grid_template_areas": null,
            "grid_template_columns": null,
            "grid_template_rows": null,
            "height": null,
            "justify_content": null,
            "justify_items": null,
            "left": null,
            "margin": null,
            "max_height": null,
            "max_width": null,
            "min_height": null,
            "min_width": null,
            "object_fit": null,
            "object_position": null,
            "order": null,
            "overflow": null,
            "overflow_x": null,
            "overflow_y": null,
            "padding": null,
            "right": null,
            "top": null,
            "visibility": null,
            "width": null
          }
        },
        "d071002e1dc84a04b0cdaabff6ef6df7": {
          "model_module": "@jupyter-widgets/base",
          "model_module_version": "1.2.0",
          "model_name": "LayoutModel",
          "state": {
            "_model_module": "@jupyter-widgets/base",
            "_model_module_version": "1.2.0",
            "_model_name": "LayoutModel",
            "_view_count": null,
            "_view_module": "@jupyter-widgets/base",
            "_view_module_version": "1.2.0",
            "_view_name": "LayoutView",
            "align_content": null,
            "align_items": null,
            "align_self": null,
            "border": null,
            "bottom": null,
            "display": null,
            "flex": null,
            "flex_flow": null,
            "grid_area": null,
            "grid_auto_columns": null,
            "grid_auto_flow": null,
            "grid_auto_rows": null,
            "grid_column": null,
            "grid_gap": null,
            "grid_row": null,
            "grid_template_areas": null,
            "grid_template_columns": null,
            "grid_template_rows": null,
            "height": null,
            "justify_content": null,
            "justify_items": null,
            "left": null,
            "margin": null,
            "max_height": null,
            "max_width": null,
            "min_height": null,
            "min_width": null,
            "object_fit": null,
            "object_position": null,
            "order": null,
            "overflow": null,
            "overflow_x": null,
            "overflow_y": null,
            "padding": null,
            "right": null,
            "top": null,
            "visibility": null,
            "width": null
          }
        },
        "d0d6a1c1ec74440496cce0b63b4c27a5": {
          "model_module": "@jupyter-widgets/controls",
          "model_module_version": "1.5.0",
          "model_name": "HTMLModel",
          "state": {
            "_dom_classes": [],
            "_model_module": "@jupyter-widgets/controls",
            "_model_module_version": "1.5.0",
            "_model_name": "HTMLModel",
            "_view_count": null,
            "_view_module": "@jupyter-widgets/controls",
            "_view_module_version": "1.5.0",
            "_view_name": "HTMLView",
            "description": "",
            "description_tooltip": null,
            "layout": "IPY_MODEL_014f66320a1c47e4805cf30876845551",
            "placeholder": "​",
            "style": "IPY_MODEL_3e9178b8e5234b5aa7ab3040946d3234",
            "value": "\n<b>Pro Tip:</b> If you don't already have one, you can create a dedicated\n'notebooks' token with 'write' access, that you can then easily reuse for all\nnotebooks. </center>"
          }
        },
        "d69a0e79703e4634886a1d52b3d88714": {
          "model_module": "@jupyter-widgets/base",
          "model_module_version": "1.2.0",
          "model_name": "LayoutModel",
          "state": {
            "_model_module": "@jupyter-widgets/base",
            "_model_module_version": "1.2.0",
            "_model_name": "LayoutModel",
            "_view_count": null,
            "_view_module": "@jupyter-widgets/base",
            "_view_module_version": "1.2.0",
            "_view_name": "LayoutView",
            "align_content": null,
            "align_items": null,
            "align_self": null,
            "border": null,
            "bottom": null,
            "display": null,
            "flex": null,
            "flex_flow": null,
            "grid_area": null,
            "grid_auto_columns": null,
            "grid_auto_flow": null,
            "grid_auto_rows": null,
            "grid_column": null,
            "grid_gap": null,
            "grid_row": null,
            "grid_template_areas": null,
            "grid_template_columns": null,
            "grid_template_rows": null,
            "height": null,
            "justify_content": null,
            "justify_items": null,
            "left": null,
            "margin": null,
            "max_height": null,
            "max_width": null,
            "min_height": null,
            "min_width": null,
            "object_fit": null,
            "object_position": null,
            "order": null,
            "overflow": null,
            "overflow_x": null,
            "overflow_y": null,
            "padding": null,
            "right": null,
            "top": null,
            "visibility": null,
            "width": null
          }
        },
        "dae0103b55aa41a181a080e53ff3140e": {
          "model_module": "@jupyter-widgets/base",
          "model_module_version": "1.2.0",
          "model_name": "LayoutModel",
          "state": {
            "_model_module": "@jupyter-widgets/base",
            "_model_module_version": "1.2.0",
            "_model_name": "LayoutModel",
            "_view_count": null,
            "_view_module": "@jupyter-widgets/base",
            "_view_module_version": "1.2.0",
            "_view_name": "LayoutView",
            "align_content": null,
            "align_items": null,
            "align_self": null,
            "border": null,
            "bottom": null,
            "display": null,
            "flex": null,
            "flex_flow": null,
            "grid_area": null,
            "grid_auto_columns": null,
            "grid_auto_flow": null,
            "grid_auto_rows": null,
            "grid_column": null,
            "grid_gap": null,
            "grid_row": null,
            "grid_template_areas": null,
            "grid_template_columns": null,
            "grid_template_rows": null,
            "height": null,
            "justify_content": null,
            "justify_items": null,
            "left": null,
            "margin": null,
            "max_height": null,
            "max_width": null,
            "min_height": null,
            "min_width": null,
            "object_fit": null,
            "object_position": null,
            "order": null,
            "overflow": null,
            "overflow_x": null,
            "overflow_y": null,
            "padding": null,
            "right": null,
            "top": null,
            "visibility": null,
            "width": null
          }
        },
        "dbef1de2cc9e42d5bad46767502e32eb": {
          "model_module": "@jupyter-widgets/controls",
          "model_module_version": "1.5.0",
          "model_name": "DescriptionStyleModel",
          "state": {
            "_model_module": "@jupyter-widgets/controls",
            "_model_module_version": "1.5.0",
            "_model_name": "DescriptionStyleModel",
            "_view_count": null,
            "_view_module": "@jupyter-widgets/base",
            "_view_module_version": "1.2.0",
            "_view_name": "StyleView",
            "description_width": ""
          }
        },
        "dca383baa12a4d0c97548aafcc6fc934": {
          "model_module": "@jupyter-widgets/base",
          "model_module_version": "1.2.0",
          "model_name": "LayoutModel",
          "state": {
            "_model_module": "@jupyter-widgets/base",
            "_model_module_version": "1.2.0",
            "_model_name": "LayoutModel",
            "_view_count": null,
            "_view_module": "@jupyter-widgets/base",
            "_view_module_version": "1.2.0",
            "_view_name": "LayoutView",
            "align_content": null,
            "align_items": null,
            "align_self": null,
            "border": null,
            "bottom": null,
            "display": null,
            "flex": null,
            "flex_flow": null,
            "grid_area": null,
            "grid_auto_columns": null,
            "grid_auto_flow": null,
            "grid_auto_rows": null,
            "grid_column": null,
            "grid_gap": null,
            "grid_row": null,
            "grid_template_areas": null,
            "grid_template_columns": null,
            "grid_template_rows": null,
            "height": null,
            "justify_content": null,
            "justify_items": null,
            "left": null,
            "margin": null,
            "max_height": null,
            "max_width": null,
            "min_height": null,
            "min_width": null,
            "object_fit": null,
            "object_position": null,
            "order": null,
            "overflow": null,
            "overflow_x": null,
            "overflow_y": null,
            "padding": null,
            "right": null,
            "top": null,
            "visibility": null,
            "width": null
          }
        },
        "dcb0ac262bb74bafa5d86ad60850c460": {
          "model_module": "@jupyter-widgets/controls",
          "model_module_version": "1.5.0",
          "model_name": "DescriptionStyleModel",
          "state": {
            "_model_module": "@jupyter-widgets/controls",
            "_model_module_version": "1.5.0",
            "_model_name": "DescriptionStyleModel",
            "_view_count": null,
            "_view_module": "@jupyter-widgets/base",
            "_view_module_version": "1.2.0",
            "_view_name": "StyleView",
            "description_width": ""
          }
        },
        "dd5990dbe4d54fefbc20e5cac7f58069": {
          "model_module": "@jupyter-widgets/controls",
          "model_module_version": "1.5.0",
          "model_name": "CheckboxModel",
          "state": {
            "_dom_classes": [],
            "_model_module": "@jupyter-widgets/controls",
            "_model_module_version": "1.5.0",
            "_model_name": "CheckboxModel",
            "_view_count": null,
            "_view_module": "@jupyter-widgets/controls",
            "_view_module_version": "1.5.0",
            "_view_name": "CheckboxView",
            "description": "Add token as git credential?",
            "description_tooltip": null,
            "disabled": false,
            "indent": true,
            "layout": "IPY_MODEL_b6a3fa6b482c4b11b27cdf88bf9f486d",
            "style": "IPY_MODEL_83929cd05cd44aef844034315c018761",
            "value": true
          }
        },
        "e207f892baa64c4cb97478345f7a6c56": {
          "model_module": "@jupyter-widgets/base",
          "model_module_version": "1.2.0",
          "model_name": "LayoutModel",
          "state": {
            "_model_module": "@jupyter-widgets/base",
            "_model_module_version": "1.2.0",
            "_model_name": "LayoutModel",
            "_view_count": null,
            "_view_module": "@jupyter-widgets/base",
            "_view_module_version": "1.2.0",
            "_view_name": "LayoutView",
            "align_content": null,
            "align_items": null,
            "align_self": null,
            "border": null,
            "bottom": null,
            "display": null,
            "flex": null,
            "flex_flow": null,
            "grid_area": null,
            "grid_auto_columns": null,
            "grid_auto_flow": null,
            "grid_auto_rows": null,
            "grid_column": null,
            "grid_gap": null,
            "grid_row": null,
            "grid_template_areas": null,
            "grid_template_columns": null,
            "grid_template_rows": null,
            "height": null,
            "justify_content": null,
            "justify_items": null,
            "left": null,
            "margin": null,
            "max_height": null,
            "max_width": null,
            "min_height": null,
            "min_width": null,
            "object_fit": null,
            "object_position": null,
            "order": null,
            "overflow": null,
            "overflow_x": null,
            "overflow_y": null,
            "padding": null,
            "right": null,
            "top": null,
            "visibility": null,
            "width": null
          }
        },
        "e2a02111939a41e78e73d831e1f6c0fc": {
          "model_module": "@jupyter-widgets/base",
          "model_module_version": "1.2.0",
          "model_name": "LayoutModel",
          "state": {
            "_model_module": "@jupyter-widgets/base",
            "_model_module_version": "1.2.0",
            "_model_name": "LayoutModel",
            "_view_count": null,
            "_view_module": "@jupyter-widgets/base",
            "_view_module_version": "1.2.0",
            "_view_name": "LayoutView",
            "align_content": null,
            "align_items": null,
            "align_self": null,
            "border": null,
            "bottom": null,
            "display": null,
            "flex": null,
            "flex_flow": null,
            "grid_area": null,
            "grid_auto_columns": null,
            "grid_auto_flow": null,
            "grid_auto_rows": null,
            "grid_column": null,
            "grid_gap": null,
            "grid_row": null,
            "grid_template_areas": null,
            "grid_template_columns": null,
            "grid_template_rows": null,
            "height": null,
            "justify_content": null,
            "justify_items": null,
            "left": null,
            "margin": null,
            "max_height": null,
            "max_width": null,
            "min_height": null,
            "min_width": null,
            "object_fit": null,
            "object_position": null,
            "order": null,
            "overflow": null,
            "overflow_x": null,
            "overflow_y": null,
            "padding": null,
            "right": null,
            "top": null,
            "visibility": null,
            "width": null
          }
        },
        "e686504ea68d4225936f6e532dae8a37": {
          "model_module": "@jupyter-widgets/controls",
          "model_module_version": "1.5.0",
          "model_name": "DescriptionStyleModel",
          "state": {
            "_model_module": "@jupyter-widgets/controls",
            "_model_module_version": "1.5.0",
            "_model_name": "DescriptionStyleModel",
            "_view_count": null,
            "_view_module": "@jupyter-widgets/base",
            "_view_module_version": "1.2.0",
            "_view_name": "StyleView",
            "description_width": ""
          }
        },
        "e6d5b66f4b6843a8b20e92332e75ae02": {
          "model_module": "@jupyter-widgets/controls",
          "model_module_version": "1.5.0",
          "model_name": "HTMLModel",
          "state": {
            "_dom_classes": [],
            "_model_module": "@jupyter-widgets/controls",
            "_model_module_version": "1.5.0",
            "_model_name": "HTMLModel",
            "_view_count": null,
            "_view_module": "@jupyter-widgets/controls",
            "_view_module_version": "1.5.0",
            "_view_name": "HTMLView",
            "description": "",
            "description_tooltip": null,
            "layout": "IPY_MODEL_8b63748e96f74817a5339e93659a55df",
            "placeholder": "​",
            "style": "IPY_MODEL_fd275929d9e248ef9faf7099d96bc177",
            "value": "\n<b>Pro Tip:</b> If you don't already have one, you can create a dedicated\n'notebooks' token with 'write' access, that you can then easily reuse for all\nnotebooks. </center>"
          }
        },
        "e7051422263a4467a8106705c5f19bf2": {
          "model_module": "@jupyter-widgets/controls",
          "model_module_version": "1.5.0",
          "model_name": "ProgressStyleModel",
          "state": {
            "_model_module": "@jupyter-widgets/controls",
            "_model_module_version": "1.5.0",
            "_model_name": "ProgressStyleModel",
            "_view_count": null,
            "_view_module": "@jupyter-widgets/base",
            "_view_module_version": "1.2.0",
            "_view_name": "StyleView",
            "bar_color": null,
            "description_width": ""
          }
        },
        "e71ba7902aec47b0b1ef7d85ce1176d9": {
          "model_module": "@jupyter-widgets/controls",
          "model_module_version": "1.5.0",
          "model_name": "DescriptionStyleModel",
          "state": {
            "_model_module": "@jupyter-widgets/controls",
            "_model_module_version": "1.5.0",
            "_model_name": "DescriptionStyleModel",
            "_view_count": null,
            "_view_module": "@jupyter-widgets/base",
            "_view_module_version": "1.2.0",
            "_view_name": "StyleView",
            "description_width": ""
          }
        },
        "e89cc56c1e18499592271600735f0ca1": {
          "model_module": "@jupyter-widgets/controls",
          "model_module_version": "1.5.0",
          "model_name": "DescriptionStyleModel",
          "state": {
            "_model_module": "@jupyter-widgets/controls",
            "_model_module_version": "1.5.0",
            "_model_name": "DescriptionStyleModel",
            "_view_count": null,
            "_view_module": "@jupyter-widgets/base",
            "_view_module_version": "1.2.0",
            "_view_name": "StyleView",
            "description_width": ""
          }
        },
        "eeacf6b3ed6a4880b325277561eda09e": {
          "model_module": "@jupyter-widgets/controls",
          "model_module_version": "1.5.0",
          "model_name": "FloatProgressModel",
          "state": {
            "_dom_classes": [],
            "_model_module": "@jupyter-widgets/controls",
            "_model_module_version": "1.5.0",
            "_model_name": "FloatProgressModel",
            "_view_count": null,
            "_view_module": "@jupyter-widgets/controls",
            "_view_module_version": "1.5.0",
            "_view_name": "ProgressView",
            "bar_style": "success",
            "description": "",
            "description_tooltip": null,
            "layout": "IPY_MODEL_a410da9bc27447e1bcdc441631c5b997",
            "max": 3409,
            "min": 0,
            "orientation": "horizontal",
            "style": "IPY_MODEL_3b83398943534eedae67aa5bf915aef7",
            "value": 3409
          }
        },
        "f2530b349b534a7aba6d92ece656d890": {
          "model_module": "@jupyter-widgets/controls",
          "model_module_version": "1.5.0",
          "model_name": "HTMLModel",
          "state": {
            "_dom_classes": [],
            "_model_module": "@jupyter-widgets/controls",
            "_model_module_version": "1.5.0",
            "_model_name": "HTMLModel",
            "_view_count": null,
            "_view_module": "@jupyter-widgets/controls",
            "_view_module_version": "1.5.0",
            "_view_name": "HTMLView",
            "description": "",
            "description_tooltip": null,
            "layout": "IPY_MODEL_c31cd988364d4c6eaaf747408c492561",
            "placeholder": "​",
            "style": "IPY_MODEL_e89cc56c1e18499592271600735f0ca1",
            "value": "Map: 100%"
          }
        },
        "f811b4b9f5914062902ca72883e7fcec": {
          "model_module": "@jupyter-widgets/base",
          "model_module_version": "1.2.0",
          "model_name": "LayoutModel",
          "state": {
            "_model_module": "@jupyter-widgets/base",
            "_model_module_version": "1.2.0",
            "_model_name": "LayoutModel",
            "_view_count": null,
            "_view_module": "@jupyter-widgets/base",
            "_view_module_version": "1.2.0",
            "_view_name": "LayoutView",
            "align_content": null,
            "align_items": null,
            "align_self": null,
            "border": null,
            "bottom": null,
            "display": null,
            "flex": null,
            "flex_flow": null,
            "grid_area": null,
            "grid_auto_columns": null,
            "grid_auto_flow": null,
            "grid_auto_rows": null,
            "grid_column": null,
            "grid_gap": null,
            "grid_row": null,
            "grid_template_areas": null,
            "grid_template_columns": null,
            "grid_template_rows": null,
            "height": null,
            "justify_content": null,
            "justify_items": null,
            "left": null,
            "margin": null,
            "max_height": null,
            "max_width": null,
            "min_height": null,
            "min_width": null,
            "object_fit": null,
            "object_position": null,
            "order": null,
            "overflow": null,
            "overflow_x": null,
            "overflow_y": null,
            "padding": null,
            "right": null,
            "top": null,
            "visibility": null,
            "width": null
          }
        },
        "fc0c0d7a3aa74187b835f11a15a83917": {
          "model_module": "@jupyter-widgets/controls",
          "model_module_version": "1.5.0",
          "model_name": "DescriptionStyleModel",
          "state": {
            "_model_module": "@jupyter-widgets/controls",
            "_model_module_version": "1.5.0",
            "_model_name": "DescriptionStyleModel",
            "_view_count": null,
            "_view_module": "@jupyter-widgets/base",
            "_view_module_version": "1.2.0",
            "_view_name": "StyleView",
            "description_width": ""
          }
        },
        "fd275929d9e248ef9faf7099d96bc177": {
          "model_module": "@jupyter-widgets/controls",
          "model_module_version": "1.5.0",
          "model_name": "DescriptionStyleModel",
          "state": {
            "_model_module": "@jupyter-widgets/controls",
            "_model_module_version": "1.5.0",
            "_model_name": "DescriptionStyleModel",
            "_view_count": null,
            "_view_module": "@jupyter-widgets/base",
            "_view_module_version": "1.2.0",
            "_view_name": "StyleView",
            "description_width": ""
          }
        }
      }
    }
  },
  "nbformat": 4,
  "nbformat_minor": 0
}
