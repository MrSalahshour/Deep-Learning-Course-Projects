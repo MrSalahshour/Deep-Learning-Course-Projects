{
  "metadata": {
    "accelerator": "GPU",
    "colab": {
      "provenance": [],
      "gpuType": "T4"
    },
    "kernelspec": {
      "name": "python3",
      "display_name": "Python 3"
    },
    "language_info": {
      "name": "python",
      "version": "3.10.12",
      "mimetype": "text/x-python",
      "codemirror_mode": {
        "name": "ipython",
        "version": 3
      },
      "pygments_lexer": "ipython3",
      "nbconvert_exporter": "python",
      "file_extension": ".py"
    },
    "kaggle": {
      "accelerator": "nvidiaTeslaT4",
      "dataSources": [
        {
          "sourceId": 7264757,
          "sourceType": "datasetVersion",
          "datasetId": 4210685
        }
      ],
      "dockerImageVersionId": 30626,
      "isInternetEnabled": true,
      "language": "python",
      "sourceType": "notebook",
      "isGpuEnabled": true
    }
  },
  "nbformat_minor": 0,
  "nbformat": 4,
  "cells": [
    {
      "cell_type": "markdown",
      "source": [
        "<h1>HW4 - Attention and Transformers- Practical Q2</h1>\n",
        "<h3><font color=yellow>Total Points: 100</font></h3>\n",
        "\n"
      ],
      "metadata": {
        "id": "l8_GMtjZLlcQ"
      }
    },
    {
      "cell_type": "markdown",
      "source": [
        "<font size=+4>\n",
        "Introduction\n",
        "</font>\n",
        "<br/>\n",
        "<font size=+2>\n",
        "\n",
        "<br/>\n",
        "Part-of-speech tagging (POS tagging) is a natural language processing task where each word in a given text is assigned a specific part-of-speech category, such as noun, verb, adjective, etc. In the context of Roberta, a state-of-the-art language model based on the transformer architecture, POS tagging involves leveraging the model's pre-trained knowledge to accurately predict and label the grammatical roles of words in a sentence. Roberta's extensive training data and attention mechanisms enable it to capture subtle contextual cues, allowing for more nuanced and accurate POS tagging. By understanding the syntactic structure of a sentence, Roberta enhances the efficiency and precision of POS tagging, contributing to more sophisticated language understanding and downstream applications in natural language processing.\n",
        "</font>\n"
      ],
      "metadata": {
        "id": "XyRAPQ2jz3uu"
      }
    },
    {
      "cell_type": "markdown",
      "source": [
        "<font size=+2>\n",
        "In this section we want to fine-tune the Roberta that you trained in previous section for POS-Tagging Task on Parsig dataset\n",
        "<font/>"
      ],
      "metadata": {
        "id": "gadCMzj1sJNx"
      }
    },
    {
      "cell_type": "code",
      "source": [
        "!pip install transformers\n",
        "!pip install datasets\n",
        "!pip install accelerate -U\n",
        "\n",
        "import re\n",
        "import torch\n",
        "import pandas as pd\n",
        "\n",
        "import numpy as np\n",
        "import transformers\n",
        "import matplotlib.pyplot as plt\n"
      ],
      "metadata": {
        "id": "mq-uxun1OT8z",
        "execution": {
          "iopub.status.busy": "2023-12-26T05:42:55.605671Z",
          "iopub.execute_input": "2023-12-26T05:42:55.606059Z",
          "iopub.status.idle": "2023-12-26T05:43:38.249443Z",
          "shell.execute_reply.started": "2023-12-26T05:42:55.606027Z",
          "shell.execute_reply": "2023-12-26T05:43:38.248698Z"
        },
        "trusted": true
      },
      "execution_count": null,
      "outputs": []
    },
    {
      "cell_type": "code",
      "source": [
        "# All label that exist\n",
        "# AAX mean Unknown used for CLS and other symbols\n",
        "tags = {'AAX', 'B-ADJ', 'I-ADJ', 'B-ADV', 'I-ADV', 'B-N', 'I-N', 'B-V', 'I-V',\\\n",
        "        'B-PRONOUN', 'I-PRONOUN', 'B-NUM', 'I-NUM', 'B-DET', 'I-DET', 'B-PRE',\\\n",
        "        'I-PRE', 'B-POST', 'I-POST', 'B-CONJ', 'I-CONJ', 'B-JUNK', 'I-JUNK',\\\n",
        "        'B-MARKER', 'I-MARKER',}\n",
        "# Convert lables to speceif numeric id\n",
        "tag2id = {tag: id for id, tag in enumerate(sorted(list(tags)))}\n",
        "id2tag = {id: tag for tag, id in tag2id.items()}"
      ],
      "metadata": {
        "id": "j8vC1vyA1NHV",
        "execution": {
          "iopub.status.busy": "2023-12-26T05:43:51.667096Z",
          "iopub.execute_input": "2023-12-26T05:43:51.668009Z",
          "iopub.status.idle": "2023-12-26T05:43:51.674471Z",
          "shell.execute_reply.started": "2023-12-26T05:43:51.667969Z",
          "shell.execute_reply": "2023-12-26T05:43:51.673523Z"
        },
        "trusted": true
      },
      "execution_count": 31,
      "outputs": []
    },
    {
      "cell_type": "code",
      "source": [
        "######################   TODO 1.1   ########################\n",
        "# Load pretrained model that trained in previous sectiopn\n",
        "# Load tokenizer from previous section\n",
        "# Freeze base model for fine-tuning\n",
        "from transformers import AutoTokenizer, AutoModelForMaskedLM\n",
        "from torch import nn\n",
        "\n",
        "tokenizer = AutoTokenizer.from_pretrained(\"Mahdi-Salahshour/mlm_tokenizer\")\n",
        "pretrained_model = AutoModelForMaskedLM.from_pretrained(\"Mahdi-Salahshour/mlm\")\n",
        "\n",
        "\n",
        "for param in pretrained_model.parameters():\n",
        "    param.requires_grad = False\n",
        "###################### (5 points) ##########################\n"
      ],
      "metadata": {
        "colab": {
          "base_uri": "https://localhost:8080/"
        },
        "id": "xBvz2ThQOpjW",
        "outputId": "5937fd24-240a-4c35-d3d7-0dd2e6d56b72",
        "execution": {
          "iopub.status.busy": "2023-12-26T05:43:53.084572Z",
          "iopub.execute_input": "2023-12-26T05:43:53.085226Z",
          "iopub.status.idle": "2023-12-26T05:43:57.753294Z",
          "shell.execute_reply.started": "2023-12-26T05:43:53.085192Z",
          "shell.execute_reply": "2023-12-26T05:43:57.752438Z"
        },
        "trusted": true
      },
      "execution_count": 32,
      "outputs": [
        {
          "output_type": "stream",
          "name": "stderr",
          "text": [
            "Special tokens have been added in the vocabulary, make sure the associated word embeddings are fine-tuned or trained.\n"
          ]
        }
      ]
    },
    {
      "cell_type": "code",
      "source": [
        "######################   TODO 1.2  ########################\n",
        "from sklearn.model_selection import train_test_split\n",
        "\n",
        "train_df = pd.read_csv(\"train_df.csv\")\n",
        "test_df = pd.read_csv(\"test_df.csv\")\n",
        "max_length = max(max(len(seq) for seq in train_df) , max(len(seq) for seq in test_df))\n",
        "def process_labels(df, tag2id):\n",
        "    df['labels'] = df['labels'].str.split(',').apply(lambda x : [0] + [tag2id[i] for i in x] + [0])\n",
        "    return df\n",
        "\n",
        "\n",
        "train_df = process_labels(train_df, tag2id)\n",
        "test_df = process_labels(test_df, tag2id)\n",
        "\n",
        "train_df, valid_df = train_test_split(train_df, test_size=0.2, random_state=42)\n",
        "\n",
        "###################### (5 points) ##########################\n"
      ],
      "metadata": {
        "id": "riyBVLBZ23mB",
        "execution": {
          "iopub.status.busy": "2023-12-26T05:43:58.893477Z",
          "iopub.execute_input": "2023-12-26T05:43:58.893986Z",
          "iopub.status.idle": "2023-12-26T05:44:00.146826Z",
          "shell.execute_reply.started": "2023-12-26T05:43:58.893955Z",
          "shell.execute_reply": "2023-12-26T05:44:00.146016Z"
        },
        "trusted": true
      },
      "execution_count": 33,
      "outputs": []
    },
    {
      "cell_type": "code",
      "source": [
        "######################   TODO 1.3   ########################\n",
        "# Complete custom data set\n",
        "# Use Torcargmaxh dataloader for datasets\n",
        "###################### (15 points) ##########################\n",
        "\n",
        "import torch\n",
        "from torch.utils.data import Dataset, DataLoader\n",
        "from sklearn.preprocessing import LabelEncoder\n",
        "\n",
        "\n",
        "class CustomDataset(Dataset):\n",
        "    def __init__(self, df, tokenizer, max_length):\n",
        "        self.texts = df['text'].tolist()\n",
        "        self.labels = df['labels'].tolist()\n",
        "        self.tokenizer = tokenizer\n",
        "        self.max_length = max_length\n",
        "    def __getitem__(self, index):\n",
        "        text = self.texts[index]\n",
        "        labels = self.labels[index]\n",
        "        encoding = self.tokenizer(\n",
        "            text,\n",
        "            truncation=True,\n",
        "            padding='max_length',\n",
        "            max_length=self.max_length,\n",
        "            return_tensors='pt'\n",
        "        )\n",
        "\n",
        "        #add padding if the length of seq is less than max length\n",
        "\n",
        "        labels = labels[:self.max_length] + [0] * max(0, self.max_length - len(labels))\n",
        "\n",
        "        input_ids = encoding['input_ids'].squeeze()\n",
        "        attention_mask = encoding['attention_mask'].squeeze()\n",
        "\n",
        "\n",
        "        return {\n",
        "            'input_ids': input_ids,\n",
        "            'attention_mask': attention_mask,\n",
        "            'labels': torch.tensor(labels, dtype=torch.long)\n",
        "        }\n",
        "\n",
        "    def __len__(self):\n",
        "        return len(self.texts)\n",
        "\n",
        "\n",
        "train_dataset = CustomDataset(train_df, tokenizer, max_length)\n",
        "test_dataset = CustomDataset(test_df, tokenizer, max_length)\n",
        "valid_dataset = CustomDataset(valid_df, tokenizer, max_length)\n",
        "\n",
        "batch_size = 64\n",
        "trainloader = DataLoader(train_dataset, batch_size=batch_size, shuffle=True)\n",
        "testloader = DataLoader(test_dataset, batch_size=batch_size, shuffle=True)\n",
        "validloader = DataLoader(valid_dataset, batch_size=batch_size, shuffle=True)"
      ],
      "metadata": {
        "id": "a3kY0xzOaOGE",
        "execution": {
          "iopub.status.busy": "2023-12-26T05:44:01.085970Z",
          "iopub.execute_input": "2023-12-26T05:44:01.086329Z",
          "iopub.status.idle": "2023-12-26T05:44:01.100359Z",
          "shell.execute_reply.started": "2023-12-26T05:44:01.086298Z",
          "shell.execute_reply": "2023-12-26T05:44:01.099303Z"
        },
        "trusted": true
      },
      "execution_count": 34,
      "outputs": []
    },
    {
      "cell_type": "code",
      "source": [
        "import torch\n",
        "import torch.nn as nn\n",
        "from transformers import AutoModel, AutoTokenizer\n",
        "\n",
        "class PartOfSpeechTagger(nn.Module):\n",
        "    def __init__(self, size_of_input, number_of_tags, hidden_layer):\n",
        "        super(PartOfSpeechTagger, self).__init__()\n",
        "        self.fully_connected_1 = nn.Linear(size_of_input, hidden_layer)\n",
        "        self.batch_norm = nn.BatchNorm1d(hidden_layer)\n",
        "        self.relu = nn.ReLU()\n",
        "        self.fully_connected_2 = nn.Linear(hidden_layer, number_of_tags)\n",
        "\n",
        "    def forward(self, input_tensor):\n",
        "        out = self.fully_connected_1(input_tensor)\n",
        "        out = self.batch_norm(out)\n",
        "        out = self.relu(out)\n",
        "        out = self.fully_connected_2(out)\n",
        "        return out\n",
        "\n",
        "\n",
        "\n",
        "\n",
        "p_h = PartOfSpeechTagger(pretrained_model.config.hidden_size, len(tags), 1024)\n",
        "\n",
        "\n",
        "device = torch.device('cuda' if torch.cuda.is_available() else 'cpu')\n",
        "\n",
        "roberta_model = pretrained_model.roberta\n",
        "\n",
        "def forward(input_ids, attention_mask):\n",
        "    outputs = roberta_model(input_ids=input_ids, attention_mask=attention_mask)\n",
        "    last_hidden_states = outputs.last_hidden_state\n",
        "    pos_output = p_h(last_hidden_states)\n",
        "\n",
        "    return pos_output\n",
        "\n",
        "roberta_model = roberta_model.to(device)\n",
        "p_h = p_h.to(device)\n"
      ],
      "metadata": {
        "execution": {
          "iopub.status.busy": "2023-12-26T04:13:20.035175Z",
          "iopub.execute_input": "2023-12-26T04:13:20.035567Z",
          "iopub.status.idle": "2023-12-26T04:13:20.052668Z",
          "shell.execute_reply.started": "2023-12-26T04:13:20.035537Z",
          "shell.execute_reply": "2023-12-26T04:13:20.051530Z"
        },
        "trusted": true,
        "id": "xPG0pVUOLlcZ"
      },
      "execution_count": 45,
      "outputs": []
    },
    {
      "cell_type": "code",
      "source": [
        "import torch\n",
        "import torch.nn.functional as F\n",
        "from torch import nn\n",
        "from transformers import AdamW\n",
        "from tqdm import tqdm\n",
        "from sklearn.metrics import accuracy_score\n",
        "\n",
        "device = torch.device(\"cuda\" if torch.cuda.is_available() else \"cpu\")\n",
        "\n",
        "roberta_model.to(device)\n",
        "roberta_model.train()\n",
        "\n",
        "criterion = nn.CrossEntropyLoss(ignore_index=tokenizer.pad_token_id)\n",
        "optimizer = AdamW(roberta_model.parameters(), lr=2e-5)\n",
        "\n",
        "num_epochs = 50\n",
        "num_training_steps = num_epochs * len(trainloader)\n",
        "lr_scheduler = torch.optim.lr_scheduler.CosineAnnealingLR(optimizer, num_training_steps)\n",
        "\n",
        "for epoch in range(num_epochs):\n",
        "    total_loss, total_correct, total_samples = 0, 0, 0\n",
        "    tqdm_dataloader = tqdm(trainloader, desc=f\"Epoch {epoch + 1}/{num_epochs}\")\n",
        "\n",
        "    for batch in tqdm_dataloader:\n",
        "        input_ids, attention_mask, labels = [item.to(device) for item in (batch['input_ids'], batch['attention_mask'], batch['labels'])]\n",
        "        optimizer.zero_grad()\n",
        "        outputs = roberta_model(input_ids, attention_mask=attention_mask, labels=labels)\n",
        "        logits = outputs.logits\n",
        "        loss = criterion(logits.view(-1, roberta_model.config.num_labels), labels.view(-1))\n",
        "        total_loss += loss.item()\n",
        "        _, predicted_labels = torch.max(logits, 2)\n",
        "        total_correct += (predicted_labels == labels).sum().item()\n",
        "        total_samples += labels.numel()\n",
        "        loss.backward()\n",
        "        optimizer.step()\n",
        "        lr_scheduler.step()\n",
        "\n",
        "    print(f\"Epoch {epoch + 1}/{num_epochs} - Average Loss: {total_loss / len(trainloader)}, Accuracy: {total_correct / total_samples * 100:.2f}%\")\n",
        "\n",
        "    roberta_model.eval()\n",
        "    total_valid_loss, total_valid_correct, total_valid_samples = 0, 0, 0\n",
        "\n",
        "    with torch.no_grad():\n",
        "        tqdm_valid_dataloader = tqdm(validloader, desc=f\"Epoch {epoch + 1}/{num_epochs} - Validation\")\n",
        "\n",
        "        for valid_batch in tqdm_valid_dataloader:\n",
        "            input_ids_valid, attention_mask_valid, labels_valid = [item.to(device) for item in (valid_batch['input_ids'], valid_batch['attention_mask'], valid_batch['labels'])]\n",
        "            valid_outputs = roberta_model(input_ids_valid, attention_mask=attention_mask_valid, labels=labels_valid)\n",
        "            valid_logits = valid_outputs.logits\n",
        "            valid_loss = F.cross_entropy(valid_logits.view(-1, roberta_model.config.num_labels), labels_valid.view(-1), ignore_index=tokenizer.pad_token_id)\n",
        "            total_valid_loss += valid_loss.item()\n",
        "            _, predicted_labels_valid = torch.max(valid_logits, 2)\n",
        "            total_valid_correct += (predicted_labels_valid == labels_valid).sum().item()\n",
        "            total_valid_samples += labels_valid.numel()\n",
        "\n",
        "    print(f\"Epoch {epoch + 1}/{num_epochs} - Validation Loss: {total_valid_loss / len(validloader)}, Validation Accuracy: {total_valid_correct / total_valid_samples * 100:.2f}%\")\n",
        "\n",
        "    roberta_model.train()\n",
        "\n"
      ],
      "metadata": {
        "execution": {
          "iopub.status.busy": "2023-12-26T05:44:16.221060Z",
          "iopub.execute_input": "2023-12-26T05:44:16.221436Z",
          "iopub.status.idle": "2023-12-26T05:50:03.133627Z",
          "shell.execute_reply.started": "2023-12-26T05:44:16.221391Z",
          "shell.execute_reply": "2023-12-26T05:50:03.132703Z"
        },
        "trusted": true,
        "id": "J4FmO8p1Llcb",
        "outputId": "2196cfe3-c2ec-4584-bb25-2751f2154e28",
        "colab": {
          "base_uri": "https://localhost:8080/"
        }
      },
      "execution_count": 47,
      "outputs": [
        {
          "output_type": "stream",
          "name": "stderr",
          "text": [
            "Epoch 1/50: 100%|██████████| 41/41 [00:04<00:00,  8.96it/s]\n"
          ]
        },
        {
          "output_type": "stream",
          "name": "stdout",
          "text": [
            "Epoch 1/50 - Average Loss: 2.2528280165137313, Accuracy: 36.82%\n"
          ]
        },
        {
          "output_type": "stream",
          "name": "stderr",
          "text": [
            "Epoch 1/50 - Validation: 100%|██████████| 11/11 [00:00<00:00, 27.46it/s]\n"
          ]
        },
        {
          "output_type": "stream",
          "name": "stdout",
          "text": [
            "Epoch 1/50 - Validation Loss: 1.661430142142556, Validation Accuracy: 50.69%\n"
          ]
        },
        {
          "output_type": "stream",
          "name": "stderr",
          "text": [
            "Epoch 2/50: 100%|██████████| 41/41 [00:04<00:00,  9.76it/s]\n"
          ]
        },
        {
          "output_type": "stream",
          "name": "stdout",
          "text": [
            "Epoch 2/50 - Average Loss: 1.5101719338719437, Accuracy: 57.87%\n"
          ]
        },
        {
          "output_type": "stream",
          "name": "stderr",
          "text": [
            "Epoch 2/50 - Validation: 100%|██████████| 11/11 [00:00<00:00, 26.19it/s]\n"
          ]
        },
        {
          "output_type": "stream",
          "name": "stdout",
          "text": [
            "Epoch 2/50 - Validation Loss: 1.2018236897208474, Validation Accuracy: 64.30%\n"
          ]
        },
        {
          "output_type": "stream",
          "name": "stderr",
          "text": [
            "Epoch 3/50: 100%|██████████| 41/41 [00:04<00:00,  9.74it/s]\n"
          ]
        },
        {
          "output_type": "stream",
          "name": "stdout",
          "text": [
            "Epoch 3/50 - Average Loss: 1.161164533801195, Accuracy: 65.21%\n"
          ]
        },
        {
          "output_type": "stream",
          "name": "stderr",
          "text": [
            "Epoch 3/50 - Validation: 100%|██████████| 11/11 [00:00<00:00, 21.29it/s]\n"
          ]
        },
        {
          "output_type": "stream",
          "name": "stdout",
          "text": [
            "Epoch 3/50 - Validation Loss: 0.984381231394681, Validation Accuracy: 69.31%\n"
          ]
        },
        {
          "output_type": "stream",
          "name": "stderr",
          "text": [
            "Epoch 4/50: 100%|██████████| 41/41 [00:04<00:00,  9.23it/s]\n"
          ]
        },
        {
          "output_type": "stream",
          "name": "stdout",
          "text": [
            "Epoch 4/50 - Average Loss: 0.9865582439957595, Accuracy: 69.51%\n"
          ]
        },
        {
          "output_type": "stream",
          "name": "stderr",
          "text": [
            "Epoch 4/50 - Validation: 100%|██████████| 11/11 [00:00<00:00, 27.06it/s]\n"
          ]
        },
        {
          "output_type": "stream",
          "name": "stdout",
          "text": [
            "Epoch 4/50 - Validation Loss: 0.8737964034080505, Validation Accuracy: 72.24%\n"
          ]
        },
        {
          "output_type": "stream",
          "name": "stderr",
          "text": [
            "Epoch 5/50: 100%|██████████| 41/41 [00:04<00:00,  9.62it/s]\n"
          ]
        },
        {
          "output_type": "stream",
          "name": "stdout",
          "text": [
            "Epoch 5/50 - Average Loss: 0.8815629903863116, Accuracy: 72.25%\n"
          ]
        },
        {
          "output_type": "stream",
          "name": "stderr",
          "text": [
            "Epoch 5/50 - Validation: 100%|██████████| 11/11 [00:00<00:00, 24.55it/s]\n"
          ]
        },
        {
          "output_type": "stream",
          "name": "stdout",
          "text": [
            "Epoch 5/50 - Validation Loss: 0.7926277897574685, Validation Accuracy: 75.24%\n"
          ]
        },
        {
          "output_type": "stream",
          "name": "stderr",
          "text": [
            "Epoch 6/50: 100%|██████████| 41/41 [00:04<00:00,  8.95it/s]\n"
          ]
        },
        {
          "output_type": "stream",
          "name": "stdout",
          "text": [
            "Epoch 6/50 - Average Loss: 0.7967978192538749, Accuracy: 74.40%\n"
          ]
        },
        {
          "output_type": "stream",
          "name": "stderr",
          "text": [
            "Epoch 6/50 - Validation: 100%|██████████| 11/11 [00:00<00:00, 21.13it/s]\n"
          ]
        },
        {
          "output_type": "stream",
          "name": "stdout",
          "text": [
            "Epoch 6/50 - Validation Loss: 0.7129558053883639, Validation Accuracy: 77.07%\n"
          ]
        },
        {
          "output_type": "stream",
          "name": "stderr",
          "text": [
            "Epoch 7/50: 100%|██████████| 41/41 [00:04<00:00,  9.38it/s]\n"
          ]
        },
        {
          "output_type": "stream",
          "name": "stdout",
          "text": [
            "Epoch 7/50 - Average Loss: 0.7230055070504909, Accuracy: 76.91%\n"
          ]
        },
        {
          "output_type": "stream",
          "name": "stderr",
          "text": [
            "Epoch 7/50 - Validation: 100%|██████████| 11/11 [00:00<00:00, 26.59it/s]\n"
          ]
        },
        {
          "output_type": "stream",
          "name": "stdout",
          "text": [
            "Epoch 7/50 - Validation Loss: 0.7012083042751659, Validation Accuracy: 78.14%\n"
          ]
        },
        {
          "output_type": "stream",
          "name": "stderr",
          "text": [
            "Epoch 8/50: 100%|██████████| 41/41 [00:04<00:00,  9.50it/s]\n"
          ]
        },
        {
          "output_type": "stream",
          "name": "stdout",
          "text": [
            "Epoch 8/50 - Average Loss: 0.6694178901067595, Accuracy: 78.20%\n"
          ]
        },
        {
          "output_type": "stream",
          "name": "stderr",
          "text": [
            "Epoch 8/50 - Validation: 100%|██████████| 11/11 [00:00<00:00, 26.49it/s]\n"
          ]
        },
        {
          "output_type": "stream",
          "name": "stdout",
          "text": [
            "Epoch 8/50 - Validation Loss: 0.6635909622365778, Validation Accuracy: 78.52%\n"
          ]
        },
        {
          "output_type": "stream",
          "name": "stderr",
          "text": [
            "Epoch 9/50: 100%|██████████| 41/41 [00:04<00:00,  9.04it/s]\n"
          ]
        },
        {
          "output_type": "stream",
          "name": "stdout",
          "text": [
            "Epoch 9/50 - Average Loss: 0.6214566259849362, Accuracy: 79.37%\n"
          ]
        },
        {
          "output_type": "stream",
          "name": "stderr",
          "text": [
            "Epoch 9/50 - Validation: 100%|██████████| 11/11 [00:00<00:00, 26.10it/s]\n"
          ]
        },
        {
          "output_type": "stream",
          "name": "stdout",
          "text": [
            "Epoch 9/50 - Validation Loss: 0.6185390244830739, Validation Accuracy: 79.41%\n"
          ]
        },
        {
          "output_type": "stream",
          "name": "stderr",
          "text": [
            "Epoch 10/50: 100%|██████████| 41/41 [00:04<00:00,  9.50it/s]\n"
          ]
        },
        {
          "output_type": "stream",
          "name": "stdout",
          "text": [
            "Epoch 10/50 - Average Loss: 0.5805561164530312, Accuracy: 80.40%\n"
          ]
        },
        {
          "output_type": "stream",
          "name": "stderr",
          "text": [
            "Epoch 10/50 - Validation: 100%|██████████| 11/11 [00:00<00:00, 25.25it/s]\n"
          ]
        },
        {
          "output_type": "stream",
          "name": "stdout",
          "text": [
            "Epoch 10/50 - Validation Loss: 0.6009299944747578, Validation Accuracy: 79.64%\n"
          ]
        },
        {
          "output_type": "stream",
          "name": "stderr",
          "text": [
            "Epoch 11/50: 100%|██████████| 41/41 [00:04<00:00,  9.55it/s]\n"
          ]
        },
        {
          "output_type": "stream",
          "name": "stdout",
          "text": [
            "Epoch 11/50 - Average Loss: 0.5377700583236974, Accuracy: 81.85%\n"
          ]
        },
        {
          "output_type": "stream",
          "name": "stderr",
          "text": [
            "Epoch 11/50 - Validation: 100%|██████████| 11/11 [00:00<00:00, 20.85it/s]\n"
          ]
        },
        {
          "output_type": "stream",
          "name": "stdout",
          "text": [
            "Epoch 11/50 - Validation Loss: 0.5902896306731484, Validation Accuracy: 80.48%\n"
          ]
        },
        {
          "output_type": "stream",
          "name": "stderr",
          "text": [
            "Epoch 12/50: 100%|██████████| 41/41 [00:04<00:00,  9.08it/s]\n"
          ]
        },
        {
          "output_type": "stream",
          "name": "stdout",
          "text": [
            "Epoch 12/50 - Average Loss: 0.4991384010489394, Accuracy: 82.73%\n"
          ]
        },
        {
          "output_type": "stream",
          "name": "stderr",
          "text": [
            "Epoch 12/50 - Validation: 100%|██████████| 11/11 [00:00<00:00, 25.89it/s]\n"
          ]
        },
        {
          "output_type": "stream",
          "name": "stdout",
          "text": [
            "Epoch 12/50 - Validation Loss: 0.5838824537667361, Validation Accuracy: 81.09%\n"
          ]
        },
        {
          "output_type": "stream",
          "name": "stderr",
          "text": [
            "Epoch 13/50: 100%|██████████| 41/41 [00:04<00:00,  9.71it/s]\n"
          ]
        },
        {
          "output_type": "stream",
          "name": "stdout",
          "text": [
            "Epoch 13/50 - Average Loss: 0.4661375015247159, Accuracy: 83.58%\n"
          ]
        },
        {
          "output_type": "stream",
          "name": "stderr",
          "text": [
            "Epoch 13/50 - Validation: 100%|██████████| 11/11 [00:00<00:00, 26.23it/s]\n"
          ]
        },
        {
          "output_type": "stream",
          "name": "stdout",
          "text": [
            "Epoch 13/50 - Validation Loss: 0.5895793329585682, Validation Accuracy: 81.48%\n"
          ]
        },
        {
          "output_type": "stream",
          "name": "stderr",
          "text": [
            "Epoch 14/50: 100%|██████████| 41/41 [00:04<00:00,  9.32it/s]\n"
          ]
        },
        {
          "output_type": "stream",
          "name": "stdout",
          "text": [
            "Epoch 14/50 - Average Loss: 0.43708802795991664, Accuracy: 84.88%\n"
          ]
        },
        {
          "output_type": "stream",
          "name": "stderr",
          "text": [
            "Epoch 14/50 - Validation: 100%|██████████| 11/11 [00:00<00:00, 20.60it/s]\n"
          ]
        },
        {
          "output_type": "stream",
          "name": "stdout",
          "text": [
            "Epoch 14/50 - Validation Loss: 0.5729551884261045, Validation Accuracy: 81.76%\n"
          ]
        },
        {
          "output_type": "stream",
          "name": "stderr",
          "text": [
            "Epoch 15/50: 100%|██████████| 41/41 [00:04<00:00,  9.70it/s]\n"
          ]
        },
        {
          "output_type": "stream",
          "name": "stdout",
          "text": [
            "Epoch 15/50 - Average Loss: 0.4094806880485721, Accuracy: 85.47%\n"
          ]
        },
        {
          "output_type": "stream",
          "name": "stderr",
          "text": [
            "Epoch 15/50 - Validation: 100%|██████████| 11/11 [00:00<00:00, 27.58it/s]\n"
          ]
        },
        {
          "output_type": "stream",
          "name": "stdout",
          "text": [
            "Epoch 15/50 - Validation Loss: 0.5562875758517872, Validation Accuracy: 81.91%\n"
          ]
        },
        {
          "output_type": "stream",
          "name": "stderr",
          "text": [
            "Epoch 16/50: 100%|██████████| 41/41 [00:04<00:00,  9.86it/s]\n"
          ]
        },
        {
          "output_type": "stream",
          "name": "stdout",
          "text": [
            "Epoch 16/50 - Average Loss: 0.37943305620333045, Accuracy: 86.31%\n"
          ]
        },
        {
          "output_type": "stream",
          "name": "stderr",
          "text": [
            "Epoch 16/50 - Validation: 100%|██████████| 11/11 [00:00<00:00, 26.52it/s]\n"
          ]
        },
        {
          "output_type": "stream",
          "name": "stdout",
          "text": [
            "Epoch 16/50 - Validation Loss: 0.5928777022795244, Validation Accuracy: 81.88%\n"
          ]
        },
        {
          "output_type": "stream",
          "name": "stderr",
          "text": [
            "Epoch 17/50: 100%|██████████| 41/41 [00:04<00:00,  9.25it/s]\n"
          ]
        },
        {
          "output_type": "stream",
          "name": "stdout",
          "text": [
            "Epoch 17/50 - Average Loss: 0.3559106777353985, Accuracy: 87.04%\n"
          ]
        },
        {
          "output_type": "stream",
          "name": "stderr",
          "text": [
            "Epoch 17/50 - Validation: 100%|██████████| 11/11 [00:00<00:00, 27.03it/s]\n"
          ]
        },
        {
          "output_type": "stream",
          "name": "stdout",
          "text": [
            "Epoch 17/50 - Validation Loss: 0.6042602062225342, Validation Accuracy: 81.83%\n"
          ]
        },
        {
          "output_type": "stream",
          "name": "stderr",
          "text": [
            "Epoch 18/50: 100%|██████████| 41/41 [00:04<00:00,  9.82it/s]\n"
          ]
        },
        {
          "output_type": "stream",
          "name": "stdout",
          "text": [
            "Epoch 18/50 - Average Loss: 0.32586128828002187, Accuracy: 88.11%\n"
          ]
        },
        {
          "output_type": "stream",
          "name": "stderr",
          "text": [
            "Epoch 18/50 - Validation: 100%|██████████| 11/11 [00:00<00:00, 27.48it/s]\n"
          ]
        },
        {
          "output_type": "stream",
          "name": "stdout",
          "text": [
            "Epoch 18/50 - Validation Loss: 0.5928192192857916, Validation Accuracy: 81.53%\n"
          ]
        },
        {
          "output_type": "stream",
          "name": "stderr",
          "text": [
            "Epoch 19/50: 100%|██████████| 41/41 [00:04<00:00,  9.81it/s]\n"
          ]
        },
        {
          "output_type": "stream",
          "name": "stdout",
          "text": [
            "Epoch 19/50 - Average Loss: 0.3074340962055253, Accuracy: 88.69%\n"
          ]
        },
        {
          "output_type": "stream",
          "name": "stderr",
          "text": [
            "Epoch 19/50 - Validation: 100%|██████████| 11/11 [00:00<00:00, 23.47it/s]\n"
          ]
        },
        {
          "output_type": "stream",
          "name": "stdout",
          "text": [
            "Epoch 19/50 - Validation Loss: 0.5858129940249703, Validation Accuracy: 82.26%\n"
          ]
        },
        {
          "output_type": "stream",
          "name": "stderr",
          "text": [
            "Epoch 20/50: 100%|██████████| 41/41 [00:04<00:00,  9.17it/s]\n"
          ]
        },
        {
          "output_type": "stream",
          "name": "stdout",
          "text": [
            "Epoch 20/50 - Average Loss: 0.2889953175695931, Accuracy: 89.06%\n"
          ]
        },
        {
          "output_type": "stream",
          "name": "stderr",
          "text": [
            "Epoch 20/50 - Validation: 100%|██████████| 11/11 [00:00<00:00, 27.03it/s]\n"
          ]
        },
        {
          "output_type": "stream",
          "name": "stdout",
          "text": [
            "Epoch 20/50 - Validation Loss: 0.5810276188633658, Validation Accuracy: 82.21%\n"
          ]
        },
        {
          "output_type": "stream",
          "name": "stderr",
          "text": [
            "Epoch 21/50: 100%|██████████| 41/41 [00:04<00:00,  9.87it/s]\n"
          ]
        },
        {
          "output_type": "stream",
          "name": "stdout",
          "text": [
            "Epoch 21/50 - Average Loss: 0.26682043439004477, Accuracy: 89.87%\n"
          ]
        },
        {
          "output_type": "stream",
          "name": "stderr",
          "text": [
            "Epoch 21/50 - Validation: 100%|██████████| 11/11 [00:00<00:00, 27.25it/s]\n"
          ]
        },
        {
          "output_type": "stream",
          "name": "stdout",
          "text": [
            "Epoch 21/50 - Validation Loss: 0.5975109067830172, Validation Accuracy: 82.34%\n"
          ]
        },
        {
          "output_type": "stream",
          "name": "stderr",
          "text": [
            "Epoch 22/50: 100%|██████████| 41/41 [00:04<00:00,  9.58it/s]\n"
          ]
        },
        {
          "output_type": "stream",
          "name": "stdout",
          "text": [
            "Epoch 22/50 - Average Loss: 0.2563132807248976, Accuracy: 90.22%\n"
          ]
        },
        {
          "output_type": "stream",
          "name": "stderr",
          "text": [
            "Epoch 22/50 - Validation: 100%|██████████| 11/11 [00:00<00:00, 19.94it/s]\n"
          ]
        },
        {
          "output_type": "stream",
          "name": "stdout",
          "text": [
            "Epoch 22/50 - Validation Loss: 0.5998231768608093, Validation Accuracy: 82.01%\n"
          ]
        },
        {
          "output_type": "stream",
          "name": "stderr",
          "text": [
            "Epoch 23/50: 100%|██████████| 41/41 [00:04<00:00,  9.52it/s]\n"
          ]
        },
        {
          "output_type": "stream",
          "name": "stdout",
          "text": [
            "Epoch 23/50 - Average Loss: 0.2375691013365257, Accuracy: 90.72%\n"
          ]
        },
        {
          "output_type": "stream",
          "name": "stderr",
          "text": [
            "Epoch 23/50 - Validation: 100%|██████████| 11/11 [00:00<00:00, 27.39it/s]\n"
          ]
        },
        {
          "output_type": "stream",
          "name": "stdout",
          "text": [
            "Epoch 23/50 - Validation Loss: 0.6177080598744479, Validation Accuracy: 82.67%\n"
          ]
        },
        {
          "output_type": "stream",
          "name": "stderr",
          "text": [
            "Epoch 24/50: 100%|██████████| 41/41 [00:04<00:00,  9.73it/s]\n"
          ]
        },
        {
          "output_type": "stream",
          "name": "stdout",
          "text": [
            "Epoch 24/50 - Average Loss: 0.21849045629908398, Accuracy: 91.11%\n"
          ]
        },
        {
          "output_type": "stream",
          "name": "stderr",
          "text": [
            "Epoch 24/50 - Validation: 100%|██████████| 11/11 [00:00<00:00, 26.20it/s]\n"
          ]
        },
        {
          "output_type": "stream",
          "name": "stdout",
          "text": [
            "Epoch 24/50 - Validation Loss: 0.630093124779788, Validation Accuracy: 82.16%\n"
          ]
        },
        {
          "output_type": "stream",
          "name": "stderr",
          "text": [
            "Epoch 25/50: 100%|██████████| 41/41 [00:04<00:00,  9.14it/s]\n"
          ]
        },
        {
          "output_type": "stream",
          "name": "stdout",
          "text": [
            "Epoch 25/50 - Average Loss: 0.2107001633905783, Accuracy: 91.51%\n"
          ]
        },
        {
          "output_type": "stream",
          "name": "stderr",
          "text": [
            "Epoch 25/50 - Validation: 100%|██████████| 11/11 [00:00<00:00, 25.08it/s]\n"
          ]
        },
        {
          "output_type": "stream",
          "name": "stdout",
          "text": [
            "Epoch 25/50 - Validation Loss: 0.6598588986830278, Validation Accuracy: 82.37%\n"
          ]
        },
        {
          "output_type": "stream",
          "name": "stderr",
          "text": [
            "Epoch 26/50: 100%|██████████| 41/41 [00:04<00:00,  9.75it/s]\n"
          ]
        },
        {
          "output_type": "stream",
          "name": "stdout",
          "text": [
            "Epoch 26/50 - Average Loss: 0.19667472890237483, Accuracy: 91.83%\n"
          ]
        },
        {
          "output_type": "stream",
          "name": "stderr",
          "text": [
            "Epoch 26/50 - Validation: 100%|██████████| 11/11 [00:00<00:00, 27.06it/s]\n"
          ]
        },
        {
          "output_type": "stream",
          "name": "stdout",
          "text": [
            "Epoch 26/50 - Validation Loss: 0.6423645723949779, Validation Accuracy: 82.72%\n"
          ]
        },
        {
          "output_type": "stream",
          "name": "stderr",
          "text": [
            "Epoch 27/50: 100%|██████████| 41/41 [00:04<00:00,  9.65it/s]\n"
          ]
        },
        {
          "output_type": "stream",
          "name": "stdout",
          "text": [
            "Epoch 27/50 - Average Loss: 0.183810557534055, Accuracy: 92.34%\n"
          ]
        },
        {
          "output_type": "stream",
          "name": "stderr",
          "text": [
            "Epoch 27/50 - Validation: 100%|██████████| 11/11 [00:00<00:00, 24.71it/s]\n"
          ]
        },
        {
          "output_type": "stream",
          "name": "stdout",
          "text": [
            "Epoch 27/50 - Validation Loss: 0.6311048133806749, Validation Accuracy: 82.26%\n"
          ]
        },
        {
          "output_type": "stream",
          "name": "stderr",
          "text": [
            "Epoch 28/50: 100%|██████████| 41/41 [00:04<00:00,  8.40it/s]\n"
          ]
        },
        {
          "output_type": "stream",
          "name": "stdout",
          "text": [
            "Epoch 28/50 - Average Loss: 0.17598628270916822, Accuracy: 92.68%\n"
          ]
        },
        {
          "output_type": "stream",
          "name": "stderr",
          "text": [
            "Epoch 28/50 - Validation: 100%|██████████| 11/11 [00:00<00:00, 14.30it/s]\n"
          ]
        },
        {
          "output_type": "stream",
          "name": "stdout",
          "text": [
            "Epoch 28/50 - Validation Loss: 0.6532352702184157, Validation Accuracy: 82.65%\n"
          ]
        },
        {
          "output_type": "stream",
          "name": "stderr",
          "text": [
            "Epoch 29/50: 100%|██████████| 41/41 [00:06<00:00,  6.76it/s]\n"
          ]
        },
        {
          "output_type": "stream",
          "name": "stdout",
          "text": [
            "Epoch 29/50 - Average Loss: 0.16423158456639544, Accuracy: 93.03%\n"
          ]
        },
        {
          "output_type": "stream",
          "name": "stderr",
          "text": [
            "Epoch 29/50 - Validation: 100%|██████████| 11/11 [00:00<00:00, 19.50it/s]\n"
          ]
        },
        {
          "output_type": "stream",
          "name": "stdout",
          "text": [
            "Epoch 29/50 - Validation Loss: 0.6425862258130853, Validation Accuracy: 82.21%\n"
          ]
        },
        {
          "output_type": "stream",
          "name": "stderr",
          "text": [
            "Epoch 30/50: 100%|██████████| 41/41 [00:06<00:00,  5.89it/s]\n"
          ]
        },
        {
          "output_type": "stream",
          "name": "stdout",
          "text": [
            "Epoch 30/50 - Average Loss: 0.1573446571100049, Accuracy: 93.10%\n"
          ]
        },
        {
          "output_type": "stream",
          "name": "stderr",
          "text": [
            "Epoch 30/50 - Validation: 100%|██████████| 11/11 [00:00<00:00, 11.72it/s]\n"
          ]
        },
        {
          "output_type": "stream",
          "name": "stdout",
          "text": [
            "Epoch 30/50 - Validation Loss: 0.6765247149900957, Validation Accuracy: 82.26%\n"
          ]
        },
        {
          "output_type": "stream",
          "name": "stderr",
          "text": [
            "Epoch 31/50: 100%|██████████| 41/41 [00:05<00:00,  7.28it/s]\n"
          ]
        },
        {
          "output_type": "stream",
          "name": "stdout",
          "text": [
            "Epoch 31/50 - Average Loss: 0.15373476067694222, Accuracy: 93.18%\n"
          ]
        },
        {
          "output_type": "stream",
          "name": "stderr",
          "text": [
            "Epoch 32/50: 100%|██████████| 41/41 [00:04<00:00,  9.20it/s]\n"
          ]
        },
        {
          "output_type": "stream",
          "name": "stdout",
          "text": [
            "Epoch 32/50 - Average Loss: 0.14974678544009604, Accuracy: 93.41%\n"
          ]
        },
        {
          "output_type": "stream",
          "name": "stderr",
          "text": [
            "Epoch 32/50 - Validation: 100%|██████████| 11/11 [00:00<00:00, 26.14it/s]\n"
          ]
        },
        {
          "output_type": "stream",
          "name": "stdout",
          "text": [
            "Epoch 32/50 - Validation Loss: 0.6694235043092207, Validation Accuracy: 82.24%\n"
          ]
        },
        {
          "output_type": "stream",
          "name": "stderr",
          "text": [
            "Epoch 33/50: 100%|██████████| 41/41 [00:04<00:00,  9.88it/s]\n"
          ]
        },
        {
          "output_type": "stream",
          "name": "stdout",
          "text": [
            "Epoch 33/50 - Average Loss: 0.14306828906623328, Accuracy: 93.35%\n"
          ]
        },
        {
          "output_type": "stream",
          "name": "stderr",
          "text": [
            "Epoch 33/50 - Validation: 100%|██████████| 11/11 [00:00<00:00, 26.71it/s]\n"
          ]
        },
        {
          "output_type": "stream",
          "name": "stdout",
          "text": [
            "Epoch 33/50 - Validation Loss: 0.6702261729673906, Validation Accuracy: 83.03%\n"
          ]
        },
        {
          "output_type": "stream",
          "name": "stderr",
          "text": [
            "Epoch 34/50: 100%|██████████| 41/41 [00:04<00:00,  9.71it/s]\n"
          ]
        },
        {
          "output_type": "stream",
          "name": "stdout",
          "text": [
            "Epoch 34/50 - Average Loss: 0.13791526708661056, Accuracy: 93.84%\n"
          ]
        },
        {
          "output_type": "stream",
          "name": "stderr",
          "text": [
            "Epoch 34/50 - Validation: 100%|██████████| 11/11 [00:00<00:00, 21.70it/s]\n"
          ]
        },
        {
          "output_type": "stream",
          "name": "stdout",
          "text": [
            "Epoch 34/50 - Validation Loss: 0.704160210761157, Validation Accuracy: 82.77%\n"
          ]
        },
        {
          "output_type": "stream",
          "name": "stderr",
          "text": [
            "Epoch 35/50: 100%|██████████| 41/41 [00:04<00:00,  9.42it/s]\n"
          ]
        },
        {
          "output_type": "stream",
          "name": "stdout",
          "text": [
            "Epoch 35/50 - Average Loss: 0.13491959433730055, Accuracy: 93.70%\n"
          ]
        },
        {
          "output_type": "stream",
          "name": "stderr",
          "text": [
            "Epoch 35/50 - Validation: 100%|██████████| 11/11 [00:00<00:00, 27.60it/s]\n"
          ]
        },
        {
          "output_type": "stream",
          "name": "stdout",
          "text": [
            "Epoch 35/50 - Validation Loss: 0.6712120500477877, Validation Accuracy: 82.44%\n"
          ]
        },
        {
          "output_type": "stream",
          "name": "stderr",
          "text": [
            "Epoch 36/50: 100%|██████████| 41/41 [00:04<00:00,  9.71it/s]\n"
          ]
        },
        {
          "output_type": "stream",
          "name": "stdout",
          "text": [
            "Epoch 36/50 - Average Loss: 0.13062788782323279, Accuracy: 94.03%\n"
          ]
        },
        {
          "output_type": "stream",
          "name": "stderr",
          "text": [
            "Epoch 36/50 - Validation: 100%|██████████| 11/11 [00:00<00:00, 27.54it/s]\n"
          ]
        },
        {
          "output_type": "stream",
          "name": "stdout",
          "text": [
            "Epoch 36/50 - Validation Loss: 0.6906456784768538, Validation Accuracy: 82.77%\n"
          ]
        },
        {
          "output_type": "stream",
          "name": "stderr",
          "text": [
            "Epoch 37/50: 100%|██████████| 41/41 [00:04<00:00,  9.30it/s]\n"
          ]
        },
        {
          "output_type": "stream",
          "name": "stdout",
          "text": [
            "Epoch 37/50 - Average Loss: 0.12659618676435658, Accuracy: 94.08%\n"
          ]
        },
        {
          "output_type": "stream",
          "name": "stderr",
          "text": [
            "Epoch 37/50 - Validation: 100%|██████████| 11/11 [00:00<00:00, 19.16it/s]\n"
          ]
        },
        {
          "output_type": "stream",
          "name": "stdout",
          "text": [
            "Epoch 37/50 - Validation Loss: 0.6800582788207314, Validation Accuracy: 82.75%\n"
          ]
        },
        {
          "output_type": "stream",
          "name": "stderr",
          "text": [
            "Epoch 38/50: 100%|██████████| 41/41 [00:04<00:00,  9.59it/s]\n"
          ]
        },
        {
          "output_type": "stream",
          "name": "stdout",
          "text": [
            "Epoch 38/50 - Average Loss: 0.12189932058497173, Accuracy: 94.19%\n"
          ]
        },
        {
          "output_type": "stream",
          "name": "stderr",
          "text": [
            "Epoch 38/50 - Validation: 100%|██████████| 11/11 [00:00<00:00, 26.07it/s]\n"
          ]
        },
        {
          "output_type": "stream",
          "name": "stdout",
          "text": [
            "Epoch 38/50 - Validation Loss: 0.6699885725975037, Validation Accuracy: 82.70%\n"
          ]
        },
        {
          "output_type": "stream",
          "name": "stderr",
          "text": [
            "Epoch 39/50: 100%|██████████| 41/41 [00:04<00:00,  9.80it/s]\n"
          ]
        },
        {
          "output_type": "stream",
          "name": "stdout",
          "text": [
            "Epoch 39/50 - Average Loss: 0.1180894442084359, Accuracy: 94.32%\n"
          ]
        },
        {
          "output_type": "stream",
          "name": "stderr",
          "text": [
            "Epoch 39/50 - Validation: 100%|██████████| 11/11 [00:00<00:00, 27.17it/s]\n"
          ]
        },
        {
          "output_type": "stream",
          "name": "stdout",
          "text": [
            "Epoch 39/50 - Validation Loss: 0.6908670176159252, Validation Accuracy: 82.88%\n"
          ]
        },
        {
          "output_type": "stream",
          "name": "stderr",
          "text": [
            "Epoch 40/50: 100%|██████████| 41/41 [00:04<00:00,  9.21it/s]\n"
          ]
        },
        {
          "output_type": "stream",
          "name": "stdout",
          "text": [
            "Epoch 40/50 - Average Loss: 0.11714442910217657, Accuracy: 94.30%\n"
          ]
        },
        {
          "output_type": "stream",
          "name": "stderr",
          "text": [
            "Epoch 40/50 - Validation: 100%|██████████| 11/11 [00:00<00:00, 26.77it/s]\n"
          ]
        },
        {
          "output_type": "stream",
          "name": "stdout",
          "text": [
            "Epoch 40/50 - Validation Loss: 0.6836603419347242, Validation Accuracy: 82.47%\n"
          ]
        },
        {
          "output_type": "stream",
          "name": "stderr",
          "text": [
            "Epoch 41/50: 100%|██████████| 41/41 [00:04<00:00,  9.81it/s]\n"
          ]
        },
        {
          "output_type": "stream",
          "name": "stdout",
          "text": [
            "Epoch 41/50 - Average Loss: 0.11645356729263212, Accuracy: 94.40%\n"
          ]
        },
        {
          "output_type": "stream",
          "name": "stderr",
          "text": [
            "Epoch 41/50 - Validation: 100%|██████████| 11/11 [00:00<00:00, 26.87it/s]\n"
          ]
        },
        {
          "output_type": "stream",
          "name": "stdout",
          "text": [
            "Epoch 41/50 - Validation Loss: 0.6957695484161377, Validation Accuracy: 82.75%\n"
          ]
        },
        {
          "output_type": "stream",
          "name": "stderr",
          "text": [
            "Epoch 42/50: 100%|██████████| 41/41 [00:04<00:00,  9.69it/s]\n"
          ]
        },
        {
          "output_type": "stream",
          "name": "stdout",
          "text": [
            "Epoch 42/50 - Average Loss: 0.1174961746465869, Accuracy: 94.25%\n"
          ]
        },
        {
          "output_type": "stream",
          "name": "stderr",
          "text": [
            "Epoch 42/50 - Validation: 100%|██████████| 11/11 [00:00<00:00, 21.37it/s]\n"
          ]
        },
        {
          "output_type": "stream",
          "name": "stdout",
          "text": [
            "Epoch 42/50 - Validation Loss: 0.6857142936099659, Validation Accuracy: 82.67%\n"
          ]
        },
        {
          "output_type": "stream",
          "name": "stderr",
          "text": [
            "Epoch 43/50: 100%|██████████| 41/41 [00:04<00:00,  9.25it/s]\n"
          ]
        },
        {
          "output_type": "stream",
          "name": "stdout",
          "text": [
            "Epoch 43/50 - Average Loss: 0.11377442900727434, Accuracy: 94.24%\n"
          ]
        },
        {
          "output_type": "stream",
          "name": "stderr",
          "text": [
            "Epoch 43/50 - Validation: 100%|██████████| 11/11 [00:00<00:00, 26.31it/s]\n"
          ]
        },
        {
          "output_type": "stream",
          "name": "stdout",
          "text": [
            "Epoch 43/50 - Validation Loss: 0.6839263439178467, Validation Accuracy: 82.82%\n"
          ]
        },
        {
          "output_type": "stream",
          "name": "stderr",
          "text": [
            "Epoch 44/50: 100%|██████████| 41/41 [00:04<00:00,  9.76it/s]\n"
          ]
        },
        {
          "output_type": "stream",
          "name": "stdout",
          "text": [
            "Epoch 44/50 - Average Loss: 0.11806708537950748, Accuracy: 94.26%\n"
          ]
        },
        {
          "output_type": "stream",
          "name": "stderr",
          "text": [
            "Epoch 44/50 - Validation: 100%|██████████| 11/11 [00:00<00:00, 26.67it/s]\n"
          ]
        },
        {
          "output_type": "stream",
          "name": "stdout",
          "text": [
            "Epoch 44/50 - Validation Loss: 0.6870280829342928, Validation Accuracy: 82.82%\n"
          ]
        },
        {
          "output_type": "stream",
          "name": "stderr",
          "text": [
            "Epoch 45/50: 100%|██████████| 41/41 [00:04<00:00,  9.43it/s]\n"
          ]
        },
        {
          "output_type": "stream",
          "name": "stdout",
          "text": [
            "Epoch 45/50 - Average Loss: 0.10946939885616302, Accuracy: 94.59%\n"
          ]
        },
        {
          "output_type": "stream",
          "name": "stderr",
          "text": [
            "Epoch 45/50 - Validation: 100%|██████████| 11/11 [00:00<00:00, 21.19it/s]\n"
          ]
        },
        {
          "output_type": "stream",
          "name": "stdout",
          "text": [
            "Epoch 45/50 - Validation Loss: 0.6819972206245769, Validation Accuracy: 82.82%\n"
          ]
        },
        {
          "output_type": "stream",
          "name": "stderr",
          "text": [
            "Epoch 46/50: 100%|██████████| 41/41 [00:04<00:00,  9.63it/s]\n"
          ]
        },
        {
          "output_type": "stream",
          "name": "stdout",
          "text": [
            "Epoch 46/50 - Average Loss: 0.10863110550293108, Accuracy: 94.69%\n"
          ]
        },
        {
          "output_type": "stream",
          "name": "stderr",
          "text": [
            "Epoch 46/50 - Validation: 100%|██████████| 11/11 [00:00<00:00, 27.04it/s]\n"
          ]
        },
        {
          "output_type": "stream",
          "name": "stdout",
          "text": [
            "Epoch 46/50 - Validation Loss: 0.6894840679385446, Validation Accuracy: 82.77%\n"
          ]
        },
        {
          "output_type": "stream",
          "name": "stderr",
          "text": [
            "Epoch 47/50: 100%|██████████| 41/41 [00:04<00:00,  9.77it/s]\n"
          ]
        },
        {
          "output_type": "stream",
          "name": "stdout",
          "text": [
            "Epoch 47/50 - Average Loss: 0.10964054686994087, Accuracy: 94.63%\n"
          ]
        },
        {
          "output_type": "stream",
          "name": "stderr",
          "text": [
            "Epoch 47/50 - Validation: 100%|██████████| 11/11 [00:00<00:00, 26.00it/s]\n"
          ]
        },
        {
          "output_type": "stream",
          "name": "stdout",
          "text": [
            "Epoch 47/50 - Validation Loss: 0.7088442336429249, Validation Accuracy: 82.77%\n"
          ]
        },
        {
          "output_type": "stream",
          "name": "stderr",
          "text": [
            "Epoch 48/50: 100%|██████████| 41/41 [00:04<00:00,  9.15it/s]\n"
          ]
        },
        {
          "output_type": "stream",
          "name": "stdout",
          "text": [
            "Epoch 48/50 - Average Loss: 0.1101971661172262, Accuracy: 94.48%\n"
          ]
        },
        {
          "output_type": "stream",
          "name": "stderr",
          "text": [
            "Epoch 48/50 - Validation: 100%|██████████| 11/11 [00:00<00:00, 26.25it/s]\n"
          ]
        },
        {
          "output_type": "stream",
          "name": "stdout",
          "text": [
            "Epoch 48/50 - Validation Loss: 0.6791129952127283, Validation Accuracy: 82.77%\n"
          ]
        },
        {
          "output_type": "stream",
          "name": "stderr",
          "text": [
            "Epoch 49/50: 100%|██████████| 41/41 [00:04<00:00,  9.68it/s]\n"
          ]
        },
        {
          "output_type": "stream",
          "name": "stdout",
          "text": [
            "Epoch 49/50 - Average Loss: 0.11025161595969665, Accuracy: 94.48%\n"
          ]
        },
        {
          "output_type": "stream",
          "name": "stderr",
          "text": [
            "Epoch 49/50 - Validation: 100%|██████████| 11/11 [00:00<00:00, 26.70it/s]\n"
          ]
        },
        {
          "output_type": "stream",
          "name": "stdout",
          "text": [
            "Epoch 49/50 - Validation Loss: 0.7115216065536846, Validation Accuracy: 82.75%\n"
          ]
        },
        {
          "output_type": "stream",
          "name": "stderr",
          "text": [
            "Epoch 50/50: 100%|██████████| 41/41 [00:05<00:00,  7.83it/s]\n"
          ]
        },
        {
          "output_type": "stream",
          "name": "stdout",
          "text": [
            "Epoch 50/50 - Average Loss: 0.10962375135319989, Accuracy: 94.59%\n"
          ]
        },
        {
          "output_type": "stream",
          "name": "stderr",
          "text": [
            "Epoch 50/50 - Validation: 100%|██████████| 11/11 [00:00<00:00, 20.37it/s]"
          ]
        },
        {
          "output_type": "stream",
          "name": "stdout",
          "text": [
            "Epoch 50/50 - Validation Loss: 0.6903644339604811, Validation Accuracy: 82.75%\n"
          ]
        },
        {
          "output_type": "stream",
          "name": "stderr",
          "text": [
            "\n"
          ]
        }
      ]
    },
    {
      "cell_type": "code",
      "source": [
        "######################   TODO 2.2   ########################\n",
        "# Report best model accuarcy on validation dataset\n",
        "# Accuracy below 85% will not be graded\n",
        "# accuracy_valid\n",
        "roberta_model.eval()\n",
        "total_valid_correct = 0\n",
        "total_valid_samples = 0\n",
        "total_valid_loss = 0\n",
        "\n",
        "with torch.no_grad():\n",
        "    t = tqdm(testloader, desc=f\"Epoch {epoch + 1}/{num_epochs} - Validation\")\n",
        "\n",
        "    for valid_batch in t:\n",
        "        input_ids_valid, attention_mask_valid, labels_valid = valid_batch['input_ids'], valid_batch['attention_mask'], valid_batch['labels']\n",
        "\n",
        "        input_ids_valid, attention_mask_valid, labels_valid = input_ids_valid.to(device), attention_mask_valid.to(device), labels_valid.to(device)\n",
        "\n",
        "        valid_outputs = roberta_model(input_ids_valid, attention_mask=attention_mask_valid, labels=labels_valid)\n",
        "        valid_logits = valid_outputs.logits\n",
        "\n",
        "        valid_loss = F.cross_entropy(valid_logits.view(-1, roberta_model.config.num_labels), labels_valid.view(-1), ignore_index=tokenizer.pad_token_id)\n",
        "\n",
        "        total_valid_loss += valid_loss.item()\n",
        "\n",
        "        _, predicted_labels_valid = torch.max(valid_logits, 2)\n",
        "        correct_valid = (predicted_labels_valid == labels_valid).sum().item()\n",
        "        total_valid_correct += correct_valid\n",
        "        total_valid_samples += labels_valid.numel()\n",
        "\n",
        "average_valid_loss = total_valid_loss / len(validloader)\n",
        "accuracy_valid = total_valid_correct / total_valid_samples\n",
        "print(f\"Epoch {epoch + 1}/{num_epochs} - Validation Loss: {average_valid_loss}, Validation Accuracy: {accuracy_valid * 100:.2f}%\")\n",
        "\n",
        "###################### (5 points) ##########################"
      ],
      "metadata": {
        "id": "v4hXNxvjpx9I",
        "execution": {
          "iopub.status.busy": "2023-12-26T06:26:04.135625Z",
          "iopub.execute_input": "2023-12-26T06:26:04.136656Z",
          "iopub.status.idle": "2023-12-26T06:26:05.305224Z",
          "shell.execute_reply.started": "2023-12-26T06:26:04.136619Z",
          "shell.execute_reply": "2023-12-26T06:26:05.304066Z"
        },
        "trusted": true,
        "outputId": "021e04a3-20b5-4d95-e877-34dc45d0aef4",
        "colab": {
          "base_uri": "https://localhost:8080/"
        }
      },
      "execution_count": 48,
      "outputs": [
        {
          "output_type": "stream",
          "name": "stderr",
          "text": [
            "Epoch 50/50 - Validation: 100%|██████████| 7/7 [00:00<00:00, 19.53it/s]"
          ]
        },
        {
          "output_type": "stream",
          "name": "stdout",
          "text": [
            "Epoch 50/50 - Validation Loss: 0.4731152057647705, Validation Accuracy: 82.27%\n"
          ]
        },
        {
          "output_type": "stream",
          "name": "stderr",
          "text": [
            "\n"
          ]
        }
      ]
    },
    {
      "cell_type": "code",
      "source": [
        "######################   TODO 2.1   ########################\n",
        "# Now implement it with huggingface trainer\n",
        "\n",
        "from transformers import AdamW, Trainer, TrainingArguments\n",
        "import torch.nn as nn\n",
        "\n",
        "loss_function = nn.CrossEntropyLoss(ignore_index=tokenizer.pad_token_id)\n",
        "\n",
        "class MyTrainer(Trainer):\n",
        "    def compute_loss(self, model, inputs, return_outputs=False):\n",
        "        labels = inputs.pop(\"labels\")\n",
        "        outputs = model(**inputs, labels=labels)\n",
        "        logits = outputs.logits\n",
        "        loss = loss_function(logits.view(-1, logits.shape[-1]), labels.view(-1))\n",
        "        return (loss, outputs) if return_outputs else loss\n",
        "\n",
        "training_arguments = TrainingArguments(\n",
        "    output_dir='./results',\n",
        "    num_train_epochs=10,\n",
        "    per_device_train_batch_size=64,\n",
        "    per_device_eval_batch_size=64,\n",
        "    warmup_steps=200,\n",
        "    weight_decay=0.01,\n",
        "    logging_dir='./logs',\n",
        "    logging_steps=50,\n",
        "    evaluation_strategy=\"steps\",\n",
        "    eval_steps=50,\n",
        "    metric_for_best_model=\"eval_loss\",\n",
        ")\n",
        "\n",
        "my_trainer = MyTrainer(\n",
        "    model=roberta_model,\n",
        "    args=training_arguments,\n",
        "    train_dataset=train_dataset,\n",
        "    eval_dataset=test_dataset,\n",
        ")\n",
        "\n",
        "my_trainer.train()\n",
        "\n",
        "###################### (40 points) ##########################"
      ],
      "metadata": {
        "id": "ZWT9DkkOqKCn",
        "execution": {
          "iopub.status.busy": "2023-12-26T06:11:56.533371Z",
          "iopub.execute_input": "2023-12-26T06:11:56.534274Z",
          "iopub.status.idle": "2023-12-26T06:15:54.592393Z",
          "shell.execute_reply.started": "2023-12-26T06:11:56.534239Z",
          "shell.execute_reply": "2023-12-26T06:15:54.591392Z"
        },
        "trusted": true,
        "outputId": "fa064943-a839-4d70-bb88-1d80d4b5f626",
        "colab": {
          "base_uri": "https://localhost:8080/",
          "height": 378
        }
      },
      "execution_count": 51,
      "outputs": [
        {
          "output_type": "display_data",
          "data": {
            "text/plain": [
              "<IPython.core.display.HTML object>"
            ],
            "text/html": [
              "\n",
              "    <div>\n",
              "      \n",
              "      <progress value='410' max='410' style='width:300px; height:20px; vertical-align: middle;'></progress>\n",
              "      [410/410 00:55, Epoch 10/10]\n",
              "    </div>\n",
              "    <table border=\"1\" class=\"dataframe\">\n",
              "  <thead>\n",
              " <tr style=\"text-align: left;\">\n",
              "      <th>Step</th>\n",
              "      <th>Training Loss</th>\n",
              "      <th>Validation Loss</th>\n",
              "    </tr>\n",
              "  </thead>\n",
              "  <tbody>\n",
              "    <tr>\n",
              "      <td>50</td>\n",
              "      <td>0.042200</td>\n",
              "      <td>1.024700</td>\n",
              "    </tr>\n",
              "    <tr>\n",
              "      <td>100</td>\n",
              "      <td>0.022000</td>\n",
              "      <td>1.077994</td>\n",
              "    </tr>\n",
              "    <tr>\n",
              "      <td>150</td>\n",
              "      <td>0.022500</td>\n",
              "      <td>1.144989</td>\n",
              "    </tr>\n",
              "    <tr>\n",
              "      <td>200</td>\n",
              "      <td>0.025400</td>\n",
              "      <td>1.156328</td>\n",
              "    </tr>\n",
              "    <tr>\n",
              "      <td>250</td>\n",
              "      <td>0.025300</td>\n",
              "      <td>1.114691</td>\n",
              "    </tr>\n",
              "    <tr>\n",
              "      <td>300</td>\n",
              "      <td>0.018400</td>\n",
              "      <td>1.128590</td>\n",
              "    </tr>\n",
              "    <tr>\n",
              "      <td>350</td>\n",
              "      <td>0.012100</td>\n",
              "      <td>1.146529</td>\n",
              "    </tr>\n",
              "    <tr>\n",
              "      <td>400</td>\n",
              "      <td>0.008500</td>\n",
              "      <td>1.145519</td>\n",
              "    </tr>\n",
              "  </tbody>\n",
              "</table><p>"
            ]
          },
          "metadata": {}
        },
        {
          "output_type": "execute_result",
          "data": {
            "text/plain": [
              "TrainOutput(global_step=410, training_loss=0.021715456974215622, metrics={'train_runtime': 55.6664, 'train_samples_per_second': 470.302, 'train_steps_per_second': 7.365, 'total_flos': 80181698058000.0, 'train_loss': 0.021715456974215622, 'epoch': 10.0})"
            ]
          },
          "metadata": {},
          "execution_count": 51
        }
      ]
    }
  ]
}